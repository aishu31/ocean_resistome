{
 "cells": [
  {
   "cell_type": "code",
   "execution_count": 3,
   "metadata": {},
   "outputs": [],
   "source": [
    "import os\n",
    "import pandas as pd\n",
    "import seaborn as sns\n",
    "import matplotlib.pyplot as plt\n",
    "from itertools import cycle\n",
    "import numpy as np\n",
    "from ete2 import NCBITaxa\n",
    "import re\n",
    "import scipy.stats as stats\n",
    "from statsmodels.stats.multicomp import pairwise_tukeyhsd\n",
    "from statsmodels.formula.api import ols\n",
    "from sklearn.decomposition import PCA\n",
    "from sklearn import preprocessing\n",
    "import plotly.plotly as py\n",
    "import plotly.graph_objs as go\n",
    "from sklearn.preprocessing import MinMaxScaler\n",
    "import plotly.offline as offline"
   ]
  },
  {
   "cell_type": "markdown",
   "metadata": {},
   "source": [
    "#### 12 regions TARA ocean co-assembly were used.\n",
    "\n",
    "##### checking number of contigs for each co-assembly\n",
    "\n",
    "```\n",
    "cd ../TARA_CONTIGS\n",
    "find *.fa -printf 'echo %p\\t\"$(grep -c \">\" %p )\";' | sh > contig_numbers.tsv\n",
    "``` \n",
    "\n"
   ]
  },
  {
   "cell_type": "code",
   "execution_count": 4,
   "metadata": {},
   "outputs": [],
   "source": [
    "contignumber=pd.read_csv(\"../TARA_CONTIGS/contig_numbers.tsv\",sep=\"\\s\",header=None,engine='python')\n",
    "contignumber[\"sample\"]=contignumber[0].str.replace(\".fa\",\"\")\n",
    "contignumber.drop(0,axis=1,inplace=True)\n",
    "contignumber.rename(columns={1:\"Contigs\"},inplace=True)"
   ]
  },
  {
   "cell_type": "code",
   "execution_count": 5,
   "metadata": {},
   "outputs": [
    {
     "data": {
      "text/html": [
       "<div>\n",
       "<style scoped>\n",
       "    .dataframe tbody tr th:only-of-type {\n",
       "        vertical-align: middle;\n",
       "    }\n",
       "\n",
       "    .dataframe tbody tr th {\n",
       "        vertical-align: top;\n",
       "    }\n",
       "\n",
       "    .dataframe thead th {\n",
       "        text-align: right;\n",
       "    }\n",
       "</style>\n",
       "<table border=\"1\" class=\"dataframe\">\n",
       "  <thead>\n",
       "    <tr style=\"text-align: right;\">\n",
       "      <th></th>\n",
       "      <th>Contigs</th>\n",
       "      <th>sample</th>\n",
       "    </tr>\n",
       "  </thead>\n",
       "  <tbody>\n",
       "    <tr>\n",
       "      <th>0</th>\n",
       "      <td>1382239</td>\n",
       "      <td>TARA_ANE_RAW</td>\n",
       "    </tr>\n",
       "    <tr>\n",
       "      <th>1</th>\n",
       "      <td>1267057</td>\n",
       "      <td>TARA_ANW_RAW</td>\n",
       "    </tr>\n",
       "    <tr>\n",
       "      <th>2</th>\n",
       "      <td>766472</td>\n",
       "      <td>TARA_ASE_RAW</td>\n",
       "    </tr>\n",
       "    <tr>\n",
       "      <th>3</th>\n",
       "      <td>989154</td>\n",
       "      <td>TARA_ASW_RAW</td>\n",
       "    </tr>\n",
       "    <tr>\n",
       "      <th>4</th>\n",
       "      <td>1608737</td>\n",
       "      <td>TARA_ION_RAW</td>\n",
       "    </tr>\n",
       "    <tr>\n",
       "      <th>5</th>\n",
       "      <td>1475271</td>\n",
       "      <td>TARA_IOS_RAW</td>\n",
       "    </tr>\n",
       "    <tr>\n",
       "      <th>6</th>\n",
       "      <td>1146485</td>\n",
       "      <td>TARA_MED_RAW</td>\n",
       "    </tr>\n",
       "    <tr>\n",
       "      <th>7</th>\n",
       "      <td>1663221</td>\n",
       "      <td>TARA_PON_RAW</td>\n",
       "    </tr>\n",
       "    <tr>\n",
       "      <th>8</th>\n",
       "      <td>2722083</td>\n",
       "      <td>TARA_PSE_RAW</td>\n",
       "    </tr>\n",
       "    <tr>\n",
       "      <th>9</th>\n",
       "      <td>1124813</td>\n",
       "      <td>TARA_PSW_RAW</td>\n",
       "    </tr>\n",
       "    <tr>\n",
       "      <th>10</th>\n",
       "      <td>1039053</td>\n",
       "      <td>TARA_RED_RAW</td>\n",
       "    </tr>\n",
       "    <tr>\n",
       "      <th>11</th>\n",
       "      <td>415693</td>\n",
       "      <td>TARA_SOC_RAW</td>\n",
       "    </tr>\n",
       "  </tbody>\n",
       "</table>\n",
       "</div>"
      ],
      "text/plain": [
       "    Contigs        sample\n",
       "0   1382239  TARA_ANE_RAW\n",
       "1   1267057  TARA_ANW_RAW\n",
       "2    766472  TARA_ASE_RAW\n",
       "3    989154  TARA_ASW_RAW\n",
       "4   1608737  TARA_ION_RAW\n",
       "5   1475271  TARA_IOS_RAW\n",
       "6   1146485  TARA_MED_RAW\n",
       "7   1663221  TARA_PON_RAW\n",
       "8   2722083  TARA_PSE_RAW\n",
       "9   1124813  TARA_PSW_RAW\n",
       "10  1039053  TARA_RED_RAW\n",
       "11   415693  TARA_SOC_RAW"
      ]
     },
     "execution_count": 5,
     "metadata": {},
     "output_type": "execute_result"
    }
   ],
   "source": [
    "contignumber"
   ]
  },
  {
   "cell_type": "markdown",
   "metadata": {},
   "source": [
    "### Concatenating a fasta with all contigs from 12 regions \n",
    "\n",
    "```\n",
    "cd ../TARA_CONTIGS/\n",
    "mkdir all\n",
    "cat *.fa > all/all_contigs.fa\n",
    "```\n"
   ]
  },
  {
   "cell_type": "markdown",
   "metadata": {},
   "source": [
    "#### First, metagenemark was used to extract ORFs \n",
    "\n",
    "Using script \"metagenmark.sh\" \n",
    "\n",
    "\n",
    "```\n",
    "out=$(readlink -f ../TARA_ORFS)/\n",
    "mkdir -p ${out}/nt\n",
    "mkdir -p ${out}/ptn\n",
    "\n",
    "cd ../TARA_CONTIGS\n",
    "\n",
    "for f in $(ls *.fa );do\n",
    "\n",
    "~/myproject/MetaGeneMark_linux_64/mgm/./gmhmmp -a -d -m  ~/myproject/MetaGeneMark_linux_64/mgm/MetaGeneMark_v1.mod $f -D ${out}/nt/$f.fna -A ${out}/ptn/$f.faa\n",
    "\n",
    "```\n",
    "\n",
    "#### Metagenemark had some problems on format of fasta files, so I had to fix with \n",
    "using fix_header.sh\n",
    "```\n",
    "#!/bin/bash\n",
    "\n",
    "inreads=$(readlink -f ../TARA_ORFS)/\n",
    "\n",
    "\n",
    "logs=$(readlink -f ../slurm_logs)/\n",
    "\n",
    "cd ${inreads}/nt\n",
    "\n",
    "for f in $(ls *.fna );do\n",
    "echo $f\n",
    "sbatch -c 4 -p hugemem,himem,blade -o ${logs}fixheader_${f}.%j.out << EOF\n",
    "#!/bin/bash\n",
    "sed -i -e 's/>TARA/TARA/g' $f\n",
    "EOF\n",
    "done\n",
    "\n",
    "cd ${inreads}/ptn\n",
    "\n",
    "for f in $(ls *.faa );do\n",
    "echo $f\n",
    "sbatch -c 4 -p hugemem,himem,blade -o ${logs}fixheader_${f}.%j.out << EOF\n",
    "#!/bin/bash\n",
    "sed -i -e 's/>TARA/TARA/g' $f\n",
    "EOF\n",
    "done\n",
    "```\n",
    "\n",
    "PS: also problems with the first line in some files =  blank line, edited manually but need to fix it"
   ]
  },
  {
   "cell_type": "markdown",
   "metadata": {},
   "source": [
    "### Generating tabular files with contigs id -- gene ids\n",
    "\n",
    "```\n",
    "for f in $(ls ../TARA_ORFS/nt/*.fna);do grep \">\" $f > ${f%.fa.fna}_orf_contigs.tsv;done \n",
    "for f in $(ls ../TARA_ORFS/ptn/*.faa);do grep \">\" $f > ${f%.fa.faa}_orf_contigs.tsv;done \n",
    "\n",
    "```"
   ]
  },
  {
   "cell_type": "markdown",
   "metadata": {},
   "source": [
    "checking number of contigs for each co-assembly\n",
    "``` \n",
    "cd ../TARA_ORFS/nt\n",
    "find *.fna -printf 'echo %p\\t\"$(grep -c \">\" %p )\";' | sh > orf_numbers.tsv\n",
    "``` "
   ]
  },
  {
   "cell_type": "code",
   "execution_count": 6,
   "metadata": {},
   "outputs": [],
   "source": [
    "orfnumber=pd.read_csv(\"../TARA_ORFS/nt/orf_numbers.tsv\",sep=\"\\s\",header=None,engine='python')\n",
    "orfnumber[\"sample\"]=orfnumber[0].str.replace(\".fa.fna\",\"\")\n",
    "orfnumber.drop(0,axis=1,inplace=True)\n",
    "orfnumber.rename(columns={1:\"ORFs\"},inplace=True)\n",
    "table_number_paper=pd.merge(contignumber,orfnumber,on=\"sample\")\n",
    "table_number_paper=table_number_paper[[\"sample\",\"Contigs\",\"ORFs\"]]\n"
   ]
  },
  {
   "cell_type": "code",
   "execution_count": 7,
   "metadata": {},
   "outputs": [
    {
     "data": {
      "text/html": [
       "<div>\n",
       "<style scoped>\n",
       "    .dataframe tbody tr th:only-of-type {\n",
       "        vertical-align: middle;\n",
       "    }\n",
       "\n",
       "    .dataframe tbody tr th {\n",
       "        vertical-align: top;\n",
       "    }\n",
       "\n",
       "    .dataframe thead th {\n",
       "        text-align: right;\n",
       "    }\n",
       "</style>\n",
       "<table border=\"1\" class=\"dataframe\">\n",
       "  <thead>\n",
       "    <tr style=\"text-align: right;\">\n",
       "      <th></th>\n",
       "      <th>sample</th>\n",
       "      <th>Contigs</th>\n",
       "      <th>ORFs</th>\n",
       "    </tr>\n",
       "  </thead>\n",
       "  <tbody>\n",
       "    <tr>\n",
       "      <th>0</th>\n",
       "      <td>TARA_ANE_RAW</td>\n",
       "      <td>1382239</td>\n",
       "      <td>3686619</td>\n",
       "    </tr>\n",
       "    <tr>\n",
       "      <th>1</th>\n",
       "      <td>TARA_ANW_RAW</td>\n",
       "      <td>1267057</td>\n",
       "      <td>3308183</td>\n",
       "    </tr>\n",
       "    <tr>\n",
       "      <th>2</th>\n",
       "      <td>TARA_ASE_RAW</td>\n",
       "      <td>766472</td>\n",
       "      <td>1842937</td>\n",
       "    </tr>\n",
       "    <tr>\n",
       "      <th>3</th>\n",
       "      <td>TARA_ASW_RAW</td>\n",
       "      <td>989154</td>\n",
       "      <td>2502625</td>\n",
       "    </tr>\n",
       "    <tr>\n",
       "      <th>4</th>\n",
       "      <td>TARA_ION_RAW</td>\n",
       "      <td>1608737</td>\n",
       "      <td>4257000</td>\n",
       "    </tr>\n",
       "    <tr>\n",
       "      <th>5</th>\n",
       "      <td>TARA_IOS_RAW</td>\n",
       "      <td>1475271</td>\n",
       "      <td>3736229</td>\n",
       "    </tr>\n",
       "    <tr>\n",
       "      <th>6</th>\n",
       "      <td>TARA_MED_RAW</td>\n",
       "      <td>1146485</td>\n",
       "      <td>3344341</td>\n",
       "    </tr>\n",
       "    <tr>\n",
       "      <th>7</th>\n",
       "      <td>TARA_PON_RAW</td>\n",
       "      <td>1663221</td>\n",
       "      <td>4368436</td>\n",
       "    </tr>\n",
       "    <tr>\n",
       "      <th>8</th>\n",
       "      <td>TARA_PSE_RAW</td>\n",
       "      <td>2722083</td>\n",
       "      <td>7155344</td>\n",
       "    </tr>\n",
       "    <tr>\n",
       "      <th>9</th>\n",
       "      <td>TARA_PSW_RAW</td>\n",
       "      <td>1124813</td>\n",
       "      <td>3080817</td>\n",
       "    </tr>\n",
       "    <tr>\n",
       "      <th>10</th>\n",
       "      <td>TARA_RED_RAW</td>\n",
       "      <td>1039053</td>\n",
       "      <td>2937951</td>\n",
       "    </tr>\n",
       "    <tr>\n",
       "      <th>11</th>\n",
       "      <td>TARA_SOC_RAW</td>\n",
       "      <td>415693</td>\n",
       "      <td>1029309</td>\n",
       "    </tr>\n",
       "  </tbody>\n",
       "</table>\n",
       "</div>"
      ],
      "text/plain": [
       "          sample  Contigs     ORFs\n",
       "0   TARA_ANE_RAW  1382239  3686619\n",
       "1   TARA_ANW_RAW  1267057  3308183\n",
       "2   TARA_ASE_RAW   766472  1842937\n",
       "3   TARA_ASW_RAW   989154  2502625\n",
       "4   TARA_ION_RAW  1608737  4257000\n",
       "5   TARA_IOS_RAW  1475271  3736229\n",
       "6   TARA_MED_RAW  1146485  3344341\n",
       "7   TARA_PON_RAW  1663221  4368436\n",
       "8   TARA_PSE_RAW  2722083  7155344\n",
       "9   TARA_PSW_RAW  1124813  3080817\n",
       "10  TARA_RED_RAW  1039053  2937951\n",
       "11  TARA_SOC_RAW   415693  1029309"
      ]
     },
     "execution_count": 7,
     "metadata": {},
     "output_type": "execute_result"
    }
   ],
   "source": [
    "table_number_paper"
   ]
  },
  {
   "cell_type": "code",
   "execution_count": 8,
   "metadata": {},
   "outputs": [
    {
     "data": {
      "text/plain": [
       "15600278"
      ]
     },
     "execution_count": 8,
     "metadata": {},
     "output_type": "execute_result"
    }
   ],
   "source": [
    "table_number_paper[\"Contigs\"].sum()"
   ]
  },
  {
   "cell_type": "code",
   "execution_count": 9,
   "metadata": {},
   "outputs": [
    {
     "data": {
      "text/plain": [
       "41249791"
      ]
     },
     "execution_count": 9,
     "metadata": {},
     "output_type": "execute_result"
    }
   ],
   "source": [
    "table_number_paper[\"ORFs\"].sum()"
   ]
  },
  {
   "cell_type": "markdown",
   "metadata": {},
   "source": [
    "### Open the tabular files generated, concatanating in a new dataframe"
   ]
  },
  {
   "cell_type": "code",
   "execution_count": null,
   "metadata": {},
   "outputs": [],
   "source": [
    "path_arg=\"../TARA_ORFS/nt/\"\n",
    "files  = os.listdir(path_arg)\n",
    "\n",
    "\n",
    "contig_gene_ids=pd.DataFrame()\n",
    "for f in files:\n",
    "    if f.endswith(\".tsv\") and f.startswith(\"TARA\"):\n",
    "        df2=pd.read_csv(path_arg+f,sep=\"\\s\",header=None,engine='python')\n",
    "        df2[\"sample\"]=f\n",
    "        contig_gene_ids=pd.concat([contig_gene_ids,df2])\n",
    "        \n",
    "contig_gene_ids.columns=[\"read_id\",\"contig_id\",\"sample\"]\n",
    "contig_gene_ids[\"read_id\"]=contig_gene_ids[\"read_id\"].str.replace(\">\",\"\")\n",
    "contig_gene_ids[\"sample\"]=contig_gene_ids[\"sample\"].str.replace(\"_orf_contigs.tsv\",\"\")\n",
    "\n",
    "path_arg=\"../TARA_ORFS/ptn/\"\n",
    "files  = os.listdir(path_arg)\n",
    "\n",
    "\n",
    "contig_gene_ids_ptn=pd.DataFrame()\n",
    "for f in files:\n",
    "    if f.endswith(\".tsv\") and f.startswith(\"TARA\"):\n",
    "        df2=pd.read_csv(path_arg+f,sep=\"\\s\",header=None,engine='python')\n",
    "        df2[\"sample\"]=f\n",
    "        contig_gene_ids_ptn=pd.concat([contig_gene_ids_ptn,df2])\n",
    "        \n",
    "contig_gene_ids_ptn.columns=[\"read_id\",\"contig_id\",\"sample\"]\n",
    "contig_gene_ids_ptn[\"read_id\"]=contig_gene_ids_ptn[\"read_id\"].str.replace(\">\",\"\")\n",
    "contig_gene_ids_ptn[\"sample\"]=contig_gene_ids_ptn[\"sample\"].str.replace(\"_orf_contigs.tsv\",\"\")\n",
    "\n",
    "contig_gene_ids_ptn[\"gene\"]=contig_gene_ids_ptn[\"read_id\"].str.split(\"|\",expand=True)[0]\n",
    "contig_gene_ids[\"gene\"]=contig_gene_ids[\"read_id\"].str.split(\"|\",expand=True)[0]\n",
    "new_contig_gene_ids=pd.merge(contig_gene_ids,contig_gene_ids_ptn,on=[\"gene\",\"contig_id\",\"sample\"])\n",
    "new_contig_gene_ids.drop(\"gene\",axis=1,inplace=True)\n",
    "new_contig_gene_ids.rename(columns={\"read_id_x\":\"read_id\",\"read_id_y\":\"ptn_id\"},inplace=True)"
   ]
  },
  {
   "cell_type": "code",
   "execution_count": null,
   "metadata": {},
   "outputs": [],
   "source": [
    "new_contig_gene_ids.head()"
   ]
  },
  {
   "cell_type": "code",
   "execution_count": null,
   "metadata": {},
   "outputs": [],
   "source": []
  },
  {
   "cell_type": "markdown",
   "metadata": {},
   "source": [
    "#### deepARG was used to find ARGs in each region\n",
    "using deepARG.sh\n",
    "```\n",
    "#!/bin/bash\n",
    "\n",
    "inreads=$(readlink -f ../TARA_ORFS/nt)/\n",
    "deep=$(readlink -f /beegfs/group_bit/home/RCuadrat/projects/Bioinformatics/bit_FLPA/scripts.RCuadrat/deeparg-ss)/\n",
    "\n",
    "mkdir -p ../deeparg_out\n",
    "out=$(readlink -f ../deeparg_out)/\n",
    "logs=$(readlink -f ../slurm_logs)/\n",
    "\n",
    "cd ${inreads}\n",
    "for f in $(ls *.fna );do\n",
    "echo $f\n",
    "sbatch -c 18 -p hugemem,himem,blade -o ${logs}deep_${f}.%j.out << EOF\n",
    "#!/bin/bash\n",
    "python ${deep}deepARG.py --align --type nucl --genes --input $f --output ${out}${f%.fna}.out\n",
    "EOF\n",
    "done\n",
    "\n",
    "```\n"
   ]
  },
  {
   "cell_type": "markdown",
   "metadata": {},
   "source": [
    "### Parsing deepARG results"
   ]
  },
  {
   "cell_type": "code",
   "execution_count": null,
   "metadata": {},
   "outputs": [],
   "source": [
    "path_arg=\"../deeparg_out/\"\n",
    "files  = os.listdir(path_arg)"
   ]
  },
  {
   "cell_type": "code",
   "execution_count": null,
   "metadata": {},
   "outputs": [],
   "source": [
    "deepARG=pd.DataFrame()\n",
    "for f in files:\n",
    "    if f.endswith(\".mapping.ARG\"):\n",
    "        df=pd.read_csv(path_arg+f,sep=\"\\t\")\n",
    "        df[\"sample\"]=f\n",
    "        deepARG=pd.concat([deepARG,df])\n",
    "deepARG[\"gene\"]=deepARG[\"best-hit\"].str.split(\"|\",expand=True)[4]\n",
    "deepARG[\"sample\"]=deepARG[\"sample\"].str.replace(\".fa.out.mapping.ARG\",\"\")"
   ]
  },
  {
   "cell_type": "code",
   "execution_count": null,
   "metadata": {},
   "outputs": [],
   "source": [
    "deepARG.head()"
   ]
  },
  {
   "cell_type": "code",
   "execution_count": null,
   "metadata": {},
   "outputs": [],
   "source": [
    "#deepARG=deepARG[deepARG[\"#ARG\"]!=\"MSRB\"]"
   ]
  },
  {
   "cell_type": "code",
   "execution_count": null,
   "metadata": {},
   "outputs": [],
   "source": []
  },
  {
   "cell_type": "code",
   "execution_count": null,
   "metadata": {},
   "outputs": [],
   "source": [
    "set(deepARG[\"predicted_ARG-class\"])"
   ]
  },
  {
   "cell_type": "code",
   "execution_count": null,
   "metadata": {},
   "outputs": [],
   "source": [
    "#How many ORFs from each class?\n",
    "\n",
    "### this is not normalized by the actually real number of genes from each class on the database\n",
    "\n",
    "##### another ideia is to to enrichment analysis: background is the deepARG database (number of ARGs per class)"
   ]
  },
  {
   "cell_type": "code",
   "execution_count": null,
   "metadata": {},
   "outputs": [],
   "source": [
    "plt.figure(figsize=(12,10))\n",
    "deepARG.groupby([\"predicted_ARG-class\"])[\"#ARG\"].count().sort_values(ascending=False).plot(kind=\"bar\")\n",
    "plt.ylabel(\"Number of ORFs\")\n",
    "plt.show()"
   ]
  },
  {
   "cell_type": "code",
   "execution_count": null,
   "metadata": {},
   "outputs": [],
   "source": [
    "deepARG"
   ]
  },
  {
   "cell_type": "code",
   "execution_count": null,
   "metadata": {},
   "outputs": [],
   "source": [
    "plt.figure(figsize=(12,10))\n",
    "deepARG.groupby([\"#ARG\"])[\"#ARG\"].count().sort_values(ascending=False)[0:50].plot(kind=\"bar\")\n",
    "plt.ylabel(\"Number of ORFs\")\n",
    "plt.show()"
   ]
  },
  {
   "cell_type": "code",
   "execution_count": null,
   "metadata": {},
   "outputs": [],
   "source": [
    "plt.figure(figsize=(12,10))\n",
    "deepARG.groupby([\"#ARG\"])[\"#ARG\"].count().sort_values(ascending=False)[0:30].plot(kind=\"bar\")\n",
    "plt.ylabel(\"Number of ORFs\")\n",
    "plt.show()"
   ]
  },
  {
   "cell_type": "code",
   "execution_count": null,
   "metadata": {},
   "outputs": [],
   "source": [
    "args_per_sample=pd.DataFrame(deepARG.groupby(\"sample\")[\"#ARG\"].count()).reset_index()"
   ]
  },
  {
   "cell_type": "code",
   "execution_count": null,
   "metadata": {},
   "outputs": [],
   "source": [
    "table_number_paper=pd.merge(table_number_paper,args_per_sample,on=\"sample\")"
   ]
  },
  {
   "cell_type": "code",
   "execution_count": null,
   "metadata": {},
   "outputs": [],
   "source": [
    "table_number_paper.to_csv(\"../table1.tsv\",sep=\"\\t\",index=None)\n",
    "table_number_paper.to_excel(\"../table1.xlsx\",index=None)"
   ]
  },
  {
   "cell_type": "code",
   "execution_count": null,
   "metadata": {},
   "outputs": [],
   "source": [
    "table_number_paper[\"#ARG\"].sum()"
   ]
  },
  {
   "cell_type": "markdown",
   "metadata": {},
   "source": [
    "### Merging the deepARG results with contig IDs on read id (orf/gene id)"
   ]
  },
  {
   "cell_type": "code",
   "execution_count": 24,
   "metadata": {},
   "outputs": [],
   "source": [
    "#deepARG_=pd.merge(deepARG,contig_gene_ids,how=\"left\",on=[\"read_id\",\"sample\"])"
   ]
  },
  {
   "cell_type": "code",
   "execution_count": 25,
   "metadata": {},
   "outputs": [],
   "source": [
    "deepARG_=pd.merge(deepARG,new_contig_gene_ids,how=\"left\",on=[\"read_id\",\"sample\"])"
   ]
  },
  {
   "cell_type": "code",
   "execution_count": 26,
   "metadata": {},
   "outputs": [
    {
     "data": {
      "text/plain": [
       "109579"
      ]
     },
     "execution_count": 26,
     "metadata": {},
     "output_type": "execute_result"
    }
   ],
   "source": [
    "len(set(deepARG_[\"contig_id\"]))"
   ]
  },
  {
   "cell_type": "code",
   "execution_count": 27,
   "metadata": {},
   "outputs": [
    {
     "data": {
      "text/plain": [
       "116425"
      ]
     },
     "execution_count": 27,
     "metadata": {},
     "output_type": "execute_result"
    }
   ],
   "source": [
    "len(set(deepARG_[\"read_id\"]))"
   ]
  },
  {
   "cell_type": "code",
   "execution_count": 28,
   "metadata": {},
   "outputs": [],
   "source": [
    "## list of contigs with ARGS\n",
    "deepARG_[\"contig_id\"].drop_duplicates().to_csv(\"../TARA_CONTIGS/all/all_contigs_with_args.list\",index=None,header=None)\n"
   ]
  },
  {
   "cell_type": "code",
   "execution_count": null,
   "metadata": {},
   "outputs": [],
   "source": []
  },
  {
   "cell_type": "markdown",
   "metadata": {},
   "source": [
    "### Making files with \"reads\" (gene ids) from deepARG results"
   ]
  },
  {
   "cell_type": "code",
   "execution_count": null,
   "metadata": {},
   "outputs": [],
   "source": [
    "for f in list(set(deepARG[\"sample\"])):\n",
    "    tmp=deepARG[deepARG[\"sample\"]==f]\n",
    "    tmp=tmp[\"read_id\"]\n",
    "    tmp.to_csv(\"../TARA_ARGS/\"+f.split(\".\")[0]+\".read_list\",header=None,index=None)"
   ]
  },
  {
   "cell_type": "code",
   "execution_count": null,
   "metadata": {},
   "outputs": [],
   "source": [
    "for f in list(set(deepARG[\"sample\"])):\n",
    "    tmp=deepARG_[deepARG_[\"sample\"]==f]\n",
    "    tmp=tmp[\"ptn_id\"]\n",
    "    tmp.to_csv(\"../TARA_ARGS/\"+f.split(\".\")[0]+\".ptn_list\",header=None,index=None)"
   ]
  },
  {
   "cell_type": "markdown",
   "metadata": {},
   "source": [
    "### After this step, I used samtools faixd to extract only those ORFs on the lists generated\n",
    "using faidx_extract.sh\n",
    "```\n",
    "#!/bin/bash\n",
    "\n",
    "\n",
    "inreads=$(readlink -f ../TARA_ORFS)/\n",
    "inlist=$(readlink -f ../TARA_ARGS)/\n",
    "\n",
    "\n",
    "cd ${inreads}/ptn\n",
    "\n",
    "for f in $(ls *.faa );do\n",
    "\n",
    "sbatch -p dontuseme,himem -c 10 --mem=4gb -o ${f%.fa.faa}_faixd_ext_ptn.out << EOF\n",
    "#!/bin/bash\n",
    "module load samtools\n",
    "xargs samtools faidx ${f} < ${inlist}${f%.fa.faa}.ptn_list > ${inlist}${f%.fa.faa}.ARGS_ptn\n",
    "EOF\n",
    "\n",
    "done\n",
    "\n",
    "\n",
    "cd ${inreads}/nt\n",
    "\n",
    "for f in $(ls *.fna );do\n",
    "sbatch -p dontuseme,himem -c 10 --mem=4gb -o ${f%.fa.fna}_faixd_ext_nt.out << EOF\n",
    "#!/bin/bash\n",
    "module load samtools\n",
    "xargs samtools faidx ${f} < ${inlist}${f%.fa.fna}.read_list > ${inlist}${f%.fa.fna}.ARGS\n",
    "EOF\n",
    "\n",
    "done\n",
    "\n",
    "```"
   ]
  },
  {
   "cell_type": "markdown",
   "metadata": {},
   "source": [
    "### generate fasta with all contigs with at least 1 ARG\n",
    "\n",
    "```\n",
    "cd ../TARA_CONTIGS/all/\n",
    "module load samtools\n",
    "xargs samtools faidx all_contigs.fa < all_contigs_with_args.list > all_contigs_with_args.fasta\n",
    "```\n"
   ]
  },
  {
   "cell_type": "markdown",
   "metadata": {},
   "source": [
    "## all ORFs from contigs with at least 1 ARG"
   ]
  },
  {
   "cell_type": "code",
   "execution_count": null,
   "metadata": {},
   "outputs": [],
   "source": [
    "contigs_orfs_with_args=new_contig_gene_ids[new_contig_gene_ids[\"contig_id\"].isin(deepARG_[\"contig_id\"].drop_duplicates())].drop_duplicates()"
   ]
  },
  {
   "cell_type": "code",
   "execution_count": null,
   "metadata": {},
   "outputs": [],
   "source": [
    "contigs_orfs_with_args.head()"
   ]
  },
  {
   "cell_type": "code",
   "execution_count": null,
   "metadata": {},
   "outputs": [],
   "source": [
    "!mkdir ../contigs_with_args_orfs"
   ]
  },
  {
   "cell_type": "code",
   "execution_count": null,
   "metadata": {},
   "outputs": [],
   "source": [
    "for s in list(set(contigs_orfs_with_args[\"sample\"])):\n",
    "    tmp=contigs_orfs_with_args[contigs_orfs_with_args[\"sample\"]==s]\n",
    "    tmp[\"read_id\"].to_csv(\"../contigs_with_args_orfs/\"+s+\"_orfs_in_contigs_with_args.list\",header=None,index=None)"
   ]
  },
  {
   "cell_type": "markdown",
   "metadata": {},
   "source": [
    "## extracting of all ORFs from contigs with at least 1 ARG\n",
    "\n",
    "```\n",
    "cd ../TARA_ORFS/nt\n",
    "for f in $(ls *.fna); do xargs samtools faidx $f < ../../contigs_with_args_orfs/${f%.fa.fna}_orfs_in_contigs_with_args.list > ${f%.fa.fna}.args_orfs.fna;done\n",
    "```"
   ]
  },
  {
   "cell_type": "markdown",
   "metadata": {},
   "source": [
    "### PlasFlow "
   ]
  },
  {
   "cell_type": "markdown",
   "metadata": {},
   "source": [
    "``` \n",
    "./PlasFlow.py --input ../TARA_CONTIGS/all/all_contigs_with_args.fasta --output ~/projects/Bioinformatics/bit_resistome/all_with_args.plasflowout --threshold 0.7\n",
    "``` "
   ]
  },
  {
   "cell_type": "code",
   "execution_count": null,
   "metadata": {},
   "outputs": [],
   "source": [
    "pf=pd.read_table(\"../all_with_args.plasflowout\") \n",
    "pf.drop([\"Unnamed: 0\",\"contig_id\"],axis=1,inplace=True)"
   ]
  },
  {
   "cell_type": "code",
   "execution_count": null,
   "metadata": {},
   "outputs": [],
   "source": [
    "pf.head()"
   ]
  },
  {
   "cell_type": "code",
   "execution_count": null,
   "metadata": {},
   "outputs": [],
   "source": [
    "pf_=pf[[\"contig_name\",\"contig_length\",\"label\"]]"
   ]
  },
  {
   "cell_type": "code",
   "execution_count": null,
   "metadata": {},
   "outputs": [],
   "source": [
    "len(pf_)"
   ]
  },
  {
   "cell_type": "code",
   "execution_count": null,
   "metadata": {},
   "outputs": [],
   "source": [
    "deepARG_plas=pd.merge(deepARG_,pf_,left_on=\"contig_id\",right_on=\"contig_name\")"
   ]
  },
  {
   "cell_type": "code",
   "execution_count": null,
   "metadata": {},
   "outputs": [],
   "source": [
    "deepARG_plas['plasmid'] = np.where(deepARG_plas['label'].str.contains(\"plasmid\")==True, 'yes', 'no')\n"
   ]
  },
  {
   "cell_type": "code",
   "execution_count": null,
   "metadata": {},
   "outputs": [],
   "source": [
    "deepARG_plas.drop(\"contig_name\",axis=1,inplace=True)"
   ]
  },
  {
   "cell_type": "code",
   "execution_count": null,
   "metadata": {},
   "outputs": [],
   "source": [
    "deepARG_plas.head()\n"
   ]
  },
  {
   "cell_type": "code",
   "execution_count": null,
   "metadata": {},
   "outputs": [],
   "source": [
    "len(deepARG_plas)"
   ]
  },
  {
   "cell_type": "code",
   "execution_count": null,
   "metadata": {},
   "outputs": [],
   "source": [
    "deepARG_plas.groupby(\"plasmid\")[\"read_id\"].count()"
   ]
  },
  {
   "cell_type": "code",
   "execution_count": null,
   "metadata": {},
   "outputs": [],
   "source": [
    "deepARG_plas.groupby(\"label\")[\"read_id\"].count()"
   ]
  },
  {
   "cell_type": "code",
   "execution_count": null,
   "metadata": {},
   "outputs": [],
   "source": [
    "deepARG_plas[\"Plasflow_phyla\"]=deepARG_plas[\"label\"].str.split(\".\",expand=True)[1]"
   ]
  },
  {
   "cell_type": "code",
   "execution_count": null,
   "metadata": {},
   "outputs": [],
   "source": [
    "deepARG_plas[deepARG_plas[\"plasmid\"]==\"yes\"].groupby(\"Plasflow_phyla\")[\"Plasflow_phyla\"].count()"
   ]
  },
  {
   "cell_type": "code",
   "execution_count": null,
   "metadata": {},
   "outputs": [],
   "source": [
    "plt.figure(figsize=(10,8))\n",
    "count=deepARG_plas[deepARG_plas[\"plasmid\"]==\"yes\"].groupby(\"Plasflow_phyla\")[\"Plasflow_phyla\"].count().values\n",
    "index=deepARG_plas[deepARG_plas[\"plasmid\"]==\"yes\"].groupby(\"Plasflow_phyla\")[\"Plasflow_phyla\"].count().index\n",
    "sns.barplot(index,count)\n",
    "#plt.bar(range(len(index)),count)\n",
    "#plt.xticks(range(len(index)), index,rotation=\"vertical\",fontsize=\"14\")\n",
    "plt.yticks(fontsize=\"14\")\n",
    "plt.ylabel(\"Number of ORFs in plasmids\",fontsize=\"12\")\n",
    "#plt.xlabel(\"Phylum\",fontsize=\"14\")\n",
    "plt.show()\n",
    "\n"
   ]
  },
  {
   "cell_type": "code",
   "execution_count": null,
   "metadata": {},
   "outputs": [],
   "source": [
    "deepARG_plas[deepARG_plas[\"plasmid\"]==\"no\"].groupby(\"Plasflow_phyla\")[\"Plasflow_phyla\"].count()"
   ]
  },
  {
   "cell_type": "code",
   "execution_count": null,
   "metadata": {},
   "outputs": [],
   "source": [
    "plt.figure(figsize=(10,8))\n",
    "count=deepARG_plas[deepARG_plas[\"plasmid\"]==\"no\"].groupby(\"Plasflow_phyla\")[\"Plasflow_phyla\"].count().values\n",
    "index=deepARG_plas[deepARG_plas[\"plasmid\"]==\"no\"].groupby(\"Plasflow_phyla\")[\"Plasflow_phyla\"].count().index\n",
    "sns.barplot(index,count)\n",
    "#plt.bar(range(len(index)),count)\n",
    "plt.xticks(rotation=\"vertical\")\n",
    "plt.yticks(fontsize=\"12\")\n",
    "plt.ylabel(\"Number of ORFs in chr\",fontsize=\"12\")\n",
    "#plt.xlabel(\"Phylum\",fontsize=\"12\")\n",
    "plt.show()"
   ]
  },
  {
   "cell_type": "markdown",
   "metadata": {},
   "source": [
    "### counting ORFs with ARGS for each class in each sample (region)"
   ]
  },
  {
   "cell_type": "code",
   "execution_count": null,
   "metadata": {},
   "outputs": [],
   "source": [
    "classes_regions_orfs=pd.DataFrame(deepARG_plas.groupby([\"predicted_ARG-class\",\"sample\",\"plasmid\"])[\"read_id\"].count())"
   ]
  },
  {
   "cell_type": "code",
   "execution_count": null,
   "metadata": {},
   "outputs": [],
   "source": [
    "test_graphic=classes_regions_orfs.reset_index(\"predicted_ARG-class\")"
   ]
  },
  {
   "cell_type": "code",
   "execution_count": null,
   "metadata": {
    "scrolled": false
   },
   "outputs": [],
   "source": [
    "# for a in set(test_graphic[\"predicted_ARG-class\"]):\n",
    "#     tmp_g=test_graphic[test_graphic[\"predicted_ARG-class\"]==a]\n",
    "#     plt.figure(figsize=(10,10))\n",
    "#     sns.barplot(tmp_g.index,tmp_g[\"read_id\"])\n",
    "#     plt.xticks(rotation=\"vertical\",fontsize=\"12\")\n",
    "#     #tmp_g.plot(kind=\"bar\",legend=False)\n",
    "#     plt.title(a)\n",
    "#     plt.ylabel(\"Number of ORFs\")\n",
    "#     plt.show()"
   ]
  },
  {
   "cell_type": "code",
   "execution_count": null,
   "metadata": {},
   "outputs": [],
   "source": [
    "# classes_regions_orfs.plot(kind=\"bar\")\n",
    "# plt.show()"
   ]
  },
  {
   "cell_type": "code",
   "execution_count": null,
   "metadata": {},
   "outputs": [],
   "source": [
    "suplementar_1=pd.DataFrame(deepARG_plas.groupby([\"predicted_ARG-class\",\"sample\"])[\"read_id\"].count())"
   ]
  },
  {
   "cell_type": "code",
   "execution_count": null,
   "metadata": {},
   "outputs": [],
   "source": [
    "suplementar_1.columns=[\"Number of ORFs\"]"
   ]
  },
  {
   "cell_type": "code",
   "execution_count": null,
   "metadata": {},
   "outputs": [],
   "source": [
    "suplementar_1.head()"
   ]
  },
  {
   "cell_type": "code",
   "execution_count": null,
   "metadata": {},
   "outputs": [],
   "source": [
    "suplementar_1.to_excel(\"../suplementar1.xlsx\")"
   ]
  },
  {
   "cell_type": "code",
   "execution_count": null,
   "metadata": {},
   "outputs": [],
   "source": [
    "classes_regions_orfs.head()"
   ]
  },
  {
   "cell_type": "code",
   "execution_count": null,
   "metadata": {},
   "outputs": [],
   "source": [
    "classes_regions_orfs.to_excel(\"../Table2_.xlsx\")"
   ]
  },
  {
   "cell_type": "markdown",
   "metadata": {},
   "source": [
    "### Extract fasta files for each ARG for phylogeny\n",
    "\n",
    "#### First, I had to add info of sample (REGION) name to the headers in the ARGs fasta files:\n",
    "\n",
    "```\n",
    "cd ../TARA_ARGS\n",
    "\n",
    "for f in $(ls *.ARGS);do awk -v var=${f%.ARGS} '/^>/ {$0=$0 \"|\"var}1' $f > $f.edit.fasta; done\n",
    "for f in $(ls *.ARGS_ptn);do awk -v var=${f%.ARGS_ptn} '/^>/ {$0=$0 \"|\"var}1' $f > $f.edit.ptn.fasta; done\n",
    "```\n",
    "#### After, concatenated all the fastas from all regions, generating all ORFs with ARGS into one fasta\n",
    "```\n",
    "cat *.edit.fasta  > ALL_ARGS.fasta\n",
    "cat *.edit.ptn.fasta  > ALL_ARGS_ptn.fasta\n",
    "```\n",
    "\n",
    "\n",
    "    \n",
    "    "
   ]
  },
  {
   "cell_type": "markdown",
   "metadata": {},
   "source": [
    "### Kaiju LCA \n",
    "```\n",
    "Web server - Results\n",
    "Job Parameters\n",
    "Job ID: 110552-8280375508\n",
    "Job Name: testargs\n",
    "Reference database: nr +euk\n",
    "Database date: 2017-05-16\n",
    "SEG low complexity filter: yes\n",
    "Run mode: greedy\n",
    "Minimum match length: 11\n",
    "Minimum match score: 75\n",
    "Allowed mismatches: 5\n",
    "\n",
    "Metagenome Overview\n",
    "114608 out of 116425 reads were classified.\n",
    "```"
   ]
  },
  {
   "cell_type": "code",
   "execution_count": null,
   "metadata": {},
   "outputs": [],
   "source": [
    "kaiju=pd.read_table(\"../kaiju.out\",header=None)"
   ]
  },
  {
   "cell_type": "code",
   "execution_count": null,
   "metadata": {},
   "outputs": [],
   "source": [
    "kaiju=kaiju[[1,2]]\n",
    "kaiju.columns=[\"ORF_ID\",\"taxon_kaiju\"]"
   ]
  },
  {
   "cell_type": "code",
   "execution_count": null,
   "metadata": {},
   "outputs": [],
   "source": [
    "ncbi = NCBITaxa()\n",
    "taxid2name = ncbi.get_taxid_translator(list(kaiju[\"taxon_kaiju\"].drop_duplicates()))\n",
    "taxonclassification=pd.DataFrame([taxid2name]).melt()\n",
    "taxonclassification.columns=[\"taxon_kaiju\",\"taxon_name_kaiju\"]"
   ]
  },
  {
   "cell_type": "code",
   "execution_count": null,
   "metadata": {},
   "outputs": [],
   "source": [
    "kaiju=pd.merge(kaiju,taxonclassification,on=\"taxon_kaiju\",how=\"left\")"
   ]
  },
  {
   "cell_type": "code",
   "execution_count": null,
   "metadata": {},
   "outputs": [],
   "source": [
    "kaiju.head()"
   ]
  },
  {
   "cell_type": "code",
   "execution_count": null,
   "metadata": {},
   "outputs": [],
   "source": [
    "#deepARG_plas.head()"
   ]
  },
  {
   "cell_type": "code",
   "execution_count": null,
   "metadata": {},
   "outputs": [],
   "source": [
    "deepARG_plas[\"ORF_ID\"]=deepARG_plas[\"read_id\"]+\"|\"+deepARG_plas[\"sample\"]"
   ]
  },
  {
   "cell_type": "code",
   "execution_count": null,
   "metadata": {},
   "outputs": [],
   "source": [
    "deepARG_plas_kaiju=pd.merge(deepARG_plas,kaiju,on=\"ORF_ID\",how=\"left\")"
   ]
  },
  {
   "cell_type": "code",
   "execution_count": null,
   "metadata": {},
   "outputs": [],
   "source": [
    "deepARG_plas_kaiju.head()"
   ]
  },
  {
   "cell_type": "code",
   "execution_count": null,
   "metadata": {},
   "outputs": [],
   "source": [
    "#!wget http://kaiju.binf.ku.dk/output/110552-8280375508/kaiju.taxonpaths.txt"
   ]
  },
  {
   "cell_type": "code",
   "execution_count": null,
   "metadata": {},
   "outputs": [],
   "source": [
    "kaiju_path=pd.read_csv(\"../kaiju.taxonpaths.txt\",header=None,sep=\"/t\")"
   ]
  },
  {
   "cell_type": "code",
   "execution_count": null,
   "metadata": {},
   "outputs": [],
   "source": [
    "kaiju_path=kaiju_path[0].str.split(\"\\t\",expand=True)"
   ]
  },
  {
   "cell_type": "code",
   "execution_count": null,
   "metadata": {},
   "outputs": [],
   "source": [
    "kaiju_path[0]=kaiju_path[0].astype(int)"
   ]
  },
  {
   "cell_type": "code",
   "execution_count": null,
   "metadata": {},
   "outputs": [],
   "source": [
    "kaiju_virus=kaiju_path[kaiju_path[2]==\"Viruses\"]"
   ]
  },
  {
   "cell_type": "code",
   "execution_count": null,
   "metadata": {},
   "outputs": [],
   "source": [
    "plt.figure(figsize=(12,10))\n",
    "kaiju_virus.groupby(4)[0].sum().sort_values(ascending=False).plot(kind=\"bar\")\n",
    "plt.show()"
   ]
  },
  {
   "cell_type": "code",
   "execution_count": null,
   "metadata": {},
   "outputs": [],
   "source": [
    "kaiju_level5=kaiju_path[[0,5]]#.groupby(5)[0]"
   ]
  },
  {
   "cell_type": "code",
   "execution_count": null,
   "metadata": {},
   "outputs": [],
   "source": [
    "kaiju_level5[0]=kaiju_level5[0].astype(int)"
   ]
  },
  {
   "cell_type": "code",
   "execution_count": null,
   "metadata": {},
   "outputs": [],
   "source": [
    "kaiju_level5.head()"
   ]
  },
  {
   "cell_type": "code",
   "execution_count": null,
   "metadata": {},
   "outputs": [],
   "source": [
    "plt.figure(figsize=(12,10))\n",
    "kaiju_level5.groupby(5)[0].sum().sort_values(ascending=False)[0:30].plot(kind=\"bar\")\n",
    "plt.show()"
   ]
  },
  {
   "cell_type": "code",
   "execution_count": null,
   "metadata": {},
   "outputs": [],
   "source": [
    "#deepARG_plas_kaiju.groupby(\"taxon_name_kaiju\")[\"#ARG\"].count().sort_values(ascending=False)"
   ]
  },
  {
   "cell_type": "code",
   "execution_count": null,
   "metadata": {},
   "outputs": [],
   "source": [
    "#deepARG_plas_kaiju[deepARG_plas_kaiju[\"#ARG\"].str.contains(\"VANB\")==True]"
   ]
  },
  {
   "cell_type": "code",
   "execution_count": null,
   "metadata": {},
   "outputs": [],
   "source": [
    "deepARG_plas_kaiju.to_excel(\"../all_ORFS_ARGS_plas_kaiju.xlsx\",index=None)\n",
    "\n"
   ]
  },
  {
   "cell_type": "code",
   "execution_count": null,
   "metadata": {},
   "outputs": [],
   "source": [
    "#deepARG_plas_kaiju.head()"
   ]
  },
  {
   "cell_type": "code",
   "execution_count": null,
   "metadata": {},
   "outputs": [],
   "source": [
    "#deepARG_plas_kaiju[deepARG_plas_kaiju[\"#ARG\"]==\"MCR-1\"]"
   ]
  },
  {
   "cell_type": "markdown",
   "metadata": {},
   "source": [
    "### generating a list of  IDs \"read_id\" (orfs) with sample  (region) information to be used to extract indidual ARG fasta from all_ARGs.fasta"
   ]
  },
  {
   "cell_type": "code",
   "execution_count": null,
   "metadata": {},
   "outputs": [],
   "source": [
    "all_ARGS=list(set(deepARG_plas[\"#ARG\"]))\n",
    "df_tmp_list=deepARG_plas[[\"#ARG\",\"ORF_ID\",\"sample\"]]"
   ]
  },
  {
   "cell_type": "code",
   "execution_count": null,
   "metadata": {},
   "outputs": [],
   "source": [
    "df_tmp_list.head()"
   ]
  },
  {
   "cell_type": "code",
   "execution_count": null,
   "metadata": {},
   "outputs": [],
   "source": [
    "!mkdir -p ../ARG_ORFs_lists"
   ]
  },
  {
   "cell_type": "code",
   "execution_count": null,
   "metadata": {},
   "outputs": [],
   "source": [
    "for a in all_ARGS:\n",
    "    tmp=df_tmp_list[df_tmp_list[\"#ARG\"]==a]\n",
    "    #tmp[\"out\"]=tmp[\"read_id\"]+\"|\"+tmp[\"sample\"]\n",
    "    #tmp[\"out\"].to_csv(\"../ARG_list/\"+re.sub('[^a-zA-Z0-9 \\n\\.]', '', a)+\".list\",header=None,index=None)\n",
    "    tmp[\"ORF_ID\"].to_csv(\"../ARG_ORFs_lists/\"+re.sub('[^a-zA-Z0-9 \\n\\.]', '', a)+\".list\",header=None,index=None)"
   ]
  },
  {
   "cell_type": "code",
   "execution_count": null,
   "metadata": {},
   "outputs": [],
   "source": [
    "all_ARGS=list(set(deepARG_plas[\"#ARG\"]))\n",
    "df_tmp_list_ptn=deepARG_plas[[\"#ARG\",\"ptn_id\",\"sample\"]]"
   ]
  },
  {
   "cell_type": "code",
   "execution_count": null,
   "metadata": {},
   "outputs": [],
   "source": [
    "!mkdir -p ../ARG_ORFs_lists/ptn"
   ]
  },
  {
   "cell_type": "code",
   "execution_count": null,
   "metadata": {},
   "outputs": [],
   "source": [
    "for a in all_ARGS:\n",
    "    tmp=df_tmp_list_ptn[df_tmp_list_ptn[\"#ARG\"]==a]\n",
    "    #tmp[\"out\"]=tmp[\"read_id\"]+\"|\"+tmp[\"sample\"]\n",
    "    #tmp[\"out\"].to_csv(\"../ARG_list/\"+re.sub('[^a-zA-Z0-9 \\n\\.]', '', a)+\".list\",header=None,index=None)\n",
    "    tmp[\"ptn_id\"]=tmp[\"ptn_id\"]+\"|\"+tmp[\"sample\"]\n",
    "    tmp[\"ptn_id\"].to_csv(\"../ARG_ORFs_lists/ptn/\"+re.sub('[^a-zA-Z0-9 \\n\\.]', '', a)+\".list\",header=None,index=None)\n",
    "    "
   ]
  },
  {
   "cell_type": "code",
   "execution_count": null,
   "metadata": {},
   "outputs": [],
   "source": [
    "deepARG_plas_kaiju.head()"
   ]
  },
  {
   "cell_type": "code",
   "execution_count": null,
   "metadata": {},
   "outputs": [],
   "source": [
    "deepARG_plas_kaiju[\"new_header_ptn\"]=deepARG_plas_kaiju[\"ptn_id\"].str.split(\"|\",expand=True)[0]+\"|\"+deepARG_plas_kaiju[\"sample\"]+\"|\"+deepARG_plas_kaiju[\"taxon_name_kaiju\"].fillna(\"--\")+\"|\"+deepARG_plas_kaiju[\"plasmid\"]"
   ]
  },
  {
   "cell_type": "code",
   "execution_count": null,
   "metadata": {},
   "outputs": [],
   "source": [
    "df_tmp_list_ptn=deepARG_plas_kaiju[[\"#ARG\",\"ptn_id\",\"sample\",\"new_header_ptn\"]]\n",
    "for a in all_ARGS:\n",
    "    tmp=df_tmp_list_ptn[df_tmp_list_ptn[\"#ARG\"]==a]\n",
    "    \n",
    "    tmp[\"ptn_id\"]=tmp[\"ptn_id\"]+\"|\"+tmp[\"sample\"]\n",
    "    tmp[[\"ptn_id\",\"new_header_ptn\"]].to_csv(\"../ARG_ORFs_lists/ptn/\"+re.sub('[^a-zA-Z0-9 \\n\\.]', '', a)+\".list_toedit\",sep=\"\\t\",header=None,index=None)\n",
    "    "
   ]
  },
  {
   "cell_type": "code",
   "execution_count": null,
   "metadata": {},
   "outputs": [],
   "source": [
    "deepARG_plas_kaiju.columns"
   ]
  },
  {
   "cell_type": "code",
   "execution_count": null,
   "metadata": {},
   "outputs": [],
   "source": [
    "deepARG_plas_kaiju.rename(columns={\"read_id\":\"nt_id\",\"new_header_ptn\":\"header_ptn_for_phylogeny\"},inplace=True)"
   ]
  },
  {
   "cell_type": "code",
   "execution_count": null,
   "metadata": {},
   "outputs": [],
   "source": [
    "deepARG_plas_kaiju.head()"
   ]
  },
  {
   "cell_type": "code",
   "execution_count": null,
   "metadata": {},
   "outputs": [],
   "source": [
    "#deepARG_plas_kaiju[\"label\"]"
   ]
  },
  {
   "cell_type": "code",
   "execution_count": null,
   "metadata": {},
   "outputs": [],
   "source": [
    "deepARG_plas_kaiju.to_csv(\"../deepARG_plas_kaiju.tsv\",sep=\"\\t\",index=None)"
   ]
  },
  {
   "cell_type": "markdown",
   "metadata": {},
   "source": [
    "### generate the fasta from the lists\n",
    "```\n",
    "cd ../ARG_ORFs_lists\n",
    "for f in $(ls *.list);do xargs samtools faidx ../TARA_ARGS/ALL_ARGS.fasta <  $f > ${f%.list}.fasta;done\n",
    "\n",
    "cd ../ARG_ORFs_lists/ptn\n",
    "for f in $(ls *.list);do xargs samtools faidx ../../TARA_ARGS/ALL_ARGS_ptn.fasta <  $f > ${f%.list}.fasta;done\n",
    "\n",
    "```"
   ]
  },
  {
   "cell_type": "markdown",
   "metadata": {},
   "source": [
    "### editing the header for phylogeny\n",
    "\n",
    "```\n",
    "./seqkit replace -p \"(.+)\" -r '{kv}' -k ARG_ORFs_lists/ptn/MSBA.list_toedit ARG_ORFs_lists/ptn/MSBA.fasta > ARG_ORFs_lists/ptn/MSBA_ptn_edit.fasta\n",
    "```"
   ]
  },
  {
   "cell_type": "markdown",
   "metadata": {},
   "source": [
    "### Checking contigs with multiple ARGs"
   ]
  },
  {
   "cell_type": "code",
   "execution_count": null,
   "metadata": {},
   "outputs": [],
   "source": [
    "multiple_ARGS=deepARG_plas.groupby([\"contig_id\",\"plasmid\"])[\"#ARG\"].count()\n",
    "multiple_ARGS=pd.DataFrame(multiple_ARGS)\n",
    "multiple_ARGS=multiple_ARGS[multiple_ARGS[\"#ARG\"]>2]\n",
    "\n",
    "multiple_ARGS_distribution=pd.DataFrame(multiple_ARGS.groupby([\"#ARG\",\"plasmid\"])[\"#ARG\"].count())\n",
    "multiple_ARGS_distribution.columns=[\"Number of contigs\"]\n",
    "multiple_ARGS_distribution.reset_index(inplace=True)\n",
    "multiple_ARGS_distribution.columns=[\"Number of #ARGs\",\"plasmid\",\"Number of contigs\"]\n",
    "\n",
    "## List of contig ids for those with more than 2 ARGs\n",
    "## It will be used to generate a fasta with those contigs for chimera analysis\n",
    "multiple_ARGS.reset_index()[\"contig_id\"].to_csv(\"../TARA_CONTIGS/all/contigs_multiple_ARGS.list\",header=None,index=None)\n",
    "\n",
    "## Table with contigs with multiple args and the number of args they have for suplementar material\n",
    "multiple_ARGS.to_excel(\"../multiple_ARGs_contig_dist.xlsx\")"
   ]
  },
  {
   "cell_type": "code",
   "execution_count": null,
   "metadata": {},
   "outputs": [],
   "source": [
    "full_Table_multiARGS=deepARG_plas_kaiju[deepARG_plas_kaiju[\"contig_id\"].isin(list(multiple_ARGS.reset_index()[\"contig_id\"]))]\n",
    "full_Table_multiARGS[[\"#ARG\",\"predicted_ARG-class\",\"contig_id\",\"plasmid\",\"taxon_name_kaiju\"]].head()\n",
    "multi_args_contigs=full_Table_multiARGS.groupby(\"contig_id\")[\"#ARG\"].count().sort_values(ascending=False)"
   ]
  },
  {
   "cell_type": "code",
   "execution_count": null,
   "metadata": {},
   "outputs": [],
   "source": []
  },
  {
   "cell_type": "markdown",
   "metadata": {},
   "source": [
    "### extract contigs multiple ARGS (>2) from all_contigs.fa\n",
    "```\n",
    "cd ../TARA_CONTIGS/all\n",
    "samtools faidx all_contigs.fa < contigs_multiple_ARGS.list > contigs_multiple_ARGS.fasta\n",
    "```"
   ]
  },
  {
   "cell_type": "code",
   "execution_count": null,
   "metadata": {},
   "outputs": [],
   "source": [
    "#melhorar esse grafico\n",
    "\n",
    "multiple_ARGS_distribution.set_index([\"Number of #ARGs\",\"plasmid\"]).unstack().plot(kind=\"bar\",stacked=True)\n",
    "plt.legend([\"chr\",\"plasmid\"])\n",
    "plt.ylabel(\"Number of Contigs\")\n",
    "plt.show()"
   ]
  },
  {
   "cell_type": "code",
   "execution_count": null,
   "metadata": {},
   "outputs": [],
   "source": [
    "multiple_ARGS_distribution#[\"Number of contigs\"]"
   ]
  },
  {
   "cell_type": "code",
   "execution_count": null,
   "metadata": {},
   "outputs": [],
   "source": [
    "plt.figure(figsize=(12,10))\n",
    "deepARG.groupby([\"#ARG\"])[\"#ARG\"].count().sort_values(ascending=False)[0:30].plot(kind=\"bar\")\n",
    "plt.ylabel(\"Number of ORFs\")\n",
    "plt.show()"
   ]
  },
  {
   "cell_type": "markdown",
   "metadata": {},
   "source": [
    "# QUANTIFICATION from here ..."
   ]
  },
  {
   "cell_type": "code",
   "execution_count": null,
   "metadata": {},
   "outputs": [],
   "source": []
  },
  {
   "cell_type": "code",
   "execution_count": null,
   "metadata": {},
   "outputs": [],
   "source": []
  },
  {
   "cell_type": "code",
   "execution_count": null,
   "metadata": {},
   "outputs": [],
   "source": [
    "# Gambiarra pra definir regioes\n",
    "\n",
    "\n",
    "\n",
    "regions=[\"TARA_ANE_RAW\",\"ARA_ANW_RAW\",\"TARA_ASE_RAW\",\"TARA_ASW_RAW\",\"TARA_ION_RAW\",\"TARA_IOS_RAW\",\"TARA_MED_RAW\",\"TARA_PON_RAW\",\"TARA_PSE_RAW\",\"TARA_PSW_RAW\",\"TARA_RED_RAW\",\"TARA_SOC_RAW\"]\n",
    "\n"
   ]
  },
  {
   "cell_type": "markdown",
   "metadata": {},
   "source": [
    "### Mapping reads (382 samples) to ARGs extracted (12 regions) for quantification of ARGs on samples\n",
    "using bbmap.sh\n",
    "\n",
    "``` \n",
    "\n",
    "#!/bin/bash\n",
    "\n",
    "\n",
    "inreads=$(readlink -f ../reads)/\n",
    "inref=../TARA_ARGS/ALL_ARGS.fasta\n",
    "out=$(readlink -f ../bbmap_out)/\n",
    "logs=$(readlink -f ../slurm_logs)/\n",
    "\n",
    "cd ${inreads}\n",
    "\n",
    "        for f in $(ls *1.fastq );do\n",
    "sbatch -p dontuseme -c 18 -o ${logs}/${f%.fastq}_bbmap.%j.out << EOF\n",
    "#!/bin/bash\n",
    "module load java\n",
    "bbmap.sh touppercase=t ref=${inref}  scafstats=${out}/ALL_ARG_${f%_1.fastq}.cov  in1=$f in2=${f%1.fastq}2.fastq out=${out}/ALL_ARG_${f%_1.fastq}.sam rpkm=${out}/ALL_ARG_${f%_1.fastq}.rpkm \n",
    "rm ${out}/ALL_ARG_${f%_1.fastq}.sam\n",
    "EOF\n",
    "\n",
    "done\n",
    "```\n",
    "\n",
    "\n",
    "\n",
    "\n"
   ]
  },
  {
   "cell_type": "code",
   "execution_count": null,
   "metadata": {},
   "outputs": [],
   "source": []
  },
  {
   "cell_type": "markdown",
   "metadata": {},
   "source": [
    "### Parsing bbmap_out with FPKMs (all samples X  all ARGs from 12 regions)"
   ]
  },
  {
   "cell_type": "code",
   "execution_count": null,
   "metadata": {},
   "outputs": [],
   "source": [
    "## mapping to the concatenated version (all args from all regions as reference)"
   ]
  },
  {
   "cell_type": "code",
   "execution_count": null,
   "metadata": {},
   "outputs": [],
   "source": [
    "path_arg=\"../bbmap_out/\"\n",
    "files  = os.listdir(path_arg)\n",
    "all_FPKM=pd.DataFrame()\n",
    "reg=pd.DataFrame(columns=[\"ORF_ID\"])\n",
    "for f in files:\n",
    "    if f.endswith(\".rpkm\"):\n",
    "        sample=f.split(\"_\")[-1].split(\".\")[0]\n",
    "        df2=pd.read_csv(path_arg+f,sep=\"\\t\",skiprows=4)\n",
    "        df2=df2[[\"#Name\",\"FPKM\"]]\n",
    "        #df2.columns=[\"read_id\",sample+\"_FPKM\"]\n",
    "        df2.columns=[\"ORF_ID\",sample]\n",
    "        reg=pd.merge(reg,df2,on=\"ORF_ID\",how=\"outer\")\n",
    "all_FPKM=pd.concat([all_FPKM,reg])\n",
    "all_FPKM[\"sample\"]=all_FPKM[\"ORF_ID\"].str.split(\"|\",expand=True)[6]"
   ]
  },
  {
   "cell_type": "code",
   "execution_count": null,
   "metadata": {},
   "outputs": [],
   "source": [
    "all_FPKM.head()"
   ]
  },
  {
   "cell_type": "code",
   "execution_count": null,
   "metadata": {},
   "outputs": [],
   "source": [
    "all_FPKM.drop(\"sample\",axis=1).to_csv(\"../FPKMs.tsv\",sep=\"\\t\",index=None)"
   ]
  },
  {
   "cell_type": "code",
   "execution_count": null,
   "metadata": {},
   "outputs": [],
   "source": []
  },
  {
   "cell_type": "markdown",
   "metadata": {},
   "source": [
    "### Merging deepARG results with bbmap (FPKM)"
   ]
  },
  {
   "cell_type": "code",
   "execution_count": null,
   "metadata": {},
   "outputs": [],
   "source": [
    "#all_results=pd.merge(deepARG_plas_,all_FPKM,left_on=[\"ORF_ID\",\"sample\"],right_on=[\"read_id\",\"sample\"],how=\"outer\")\n",
    "all_results=pd.merge(deepARG_plas_kaiju,all_FPKM,on=[\"ORF_ID\",\"sample\"],how=\"outer\")\n"
   ]
  },
  {
   "cell_type": "code",
   "execution_count": null,
   "metadata": {},
   "outputs": [],
   "source": [
    "# all_results.drop(\"read_id_x\",axis=1,inplace=True)\n",
    "# all_results.drop(\"read_id_y\",axis=1,inplace=True)"
   ]
  },
  {
   "cell_type": "code",
   "execution_count": null,
   "metadata": {},
   "outputs": [],
   "source": [
    "all_results.to_csv(\"../merged_deepARG_kaiju_plas_FPKM.csv\",index=None,sep=\"\\t\")"
   ]
  },
  {
   "cell_type": "code",
   "execution_count": null,
   "metadata": {},
   "outputs": [],
   "source": [
    "#all_results.head()"
   ]
  },
  {
   "cell_type": "code",
   "execution_count": null,
   "metadata": {},
   "outputs": [],
   "source": [
    "#all_results[all_results[\"#ARG\"]==\"BLA\"]"
   ]
  },
  {
   "cell_type": "code",
   "execution_count": null,
   "metadata": {},
   "outputs": [],
   "source": [
    "#all_results[all_results[\"#ARG\"]==\"MCR-1\"]"
   ]
  },
  {
   "cell_type": "markdown",
   "metadata": {},
   "source": [
    "### Grouping by ARG and sum of FPKMs"
   ]
  },
  {
   "cell_type": "code",
   "execution_count": null,
   "metadata": {},
   "outputs": [],
   "source": [
    "ARGS_FPKM=all_results.groupby([\"#ARG\"])[[x for x in all_results.columns if \"ERR\" in x]].sum()"
   ]
  },
  {
   "cell_type": "code",
   "execution_count": null,
   "metadata": {},
   "outputs": [],
   "source": [
    "len(ARGS_FPKM)"
   ]
  },
  {
   "cell_type": "code",
   "execution_count": null,
   "metadata": {},
   "outputs": [],
   "source": [
    "from  scipy.stats import spearmanr "
   ]
  },
  {
   "cell_type": "code",
   "execution_count": null,
   "metadata": {},
   "outputs": [],
   "source": [
    "ARGS_FPKM.T.head()"
   ]
  },
  {
   "cell_type": "code",
   "execution_count": null,
   "metadata": {},
   "outputs": [],
   "source": [
    "rho,pvalue=spearmanr(ARGS_FPKM.T)\n",
    "pv_df=pd.DataFrame(pvalue)\n",
    "rho_df=pd.DataFrame(rho)\n",
    "corrr=ARGS_FPKM.T.corr(method='spearman')\n",
    "corrr.to_csv(\"../ARGS_FPKM_spearman_corr.tsv\",sep=\"\\t\")"
   ]
  },
  {
   "cell_type": "code",
   "execution_count": null,
   "metadata": {},
   "outputs": [],
   "source": [
    "all_results[[\"#ARG\",\"predicted_ARG-class\"]].to_csv(\"../ARGS_class.tsv\",sep=\"\\t\")"
   ]
  },
  {
   "cell_type": "code",
   "execution_count": null,
   "metadata": {},
   "outputs": [],
   "source": [
    "#ARGS_FPKM.T.corr().to_csv(\"../ARGS_FPKM_corr.tsv\",sep=\"\\t\")"
   ]
  },
  {
   "cell_type": "code",
   "execution_count": null,
   "metadata": {},
   "outputs": [],
   "source": [
    "args_genes_sum=ARGS_FPKM.sum(axis=1)"
   ]
  },
  {
   "cell_type": "code",
   "execution_count": null,
   "metadata": {},
   "outputs": [],
   "source": [
    "plt.figure(figsize=(12,10))\n",
    "args_genes_sum.sort_values(ascending=False)[0:30].plot(kind=\"bar\")\n",
    "plt.ylabel(\"FPKM\")\n",
    "plt.show()"
   ]
  },
  {
   "cell_type": "code",
   "execution_count": null,
   "metadata": {},
   "outputs": [],
   "source": [
    "args_genes_sum_samples=ARGS_FPKM.sum(axis=0)"
   ]
  },
  {
   "cell_type": "code",
   "execution_count": null,
   "metadata": {},
   "outputs": [],
   "source": [
    "gene_FPKM=all_results.groupby([\"#ARG\"])[[x for x in all_results.columns if \"ERR\" in x]].sum()\n",
    "new_gene_FPKM=gene_FPKM.T\n",
    "new_gene_FPKM.reset_index(inplace=True)\n",
    "new_gene_FPKM[\"sample\"]=new_gene_FPKM[\"index\"].str.replace(\"_FPKM\",\"\")\n",
    "new_gene_FPKM.drop(\"index\",axis=1,inplace=True)"
   ]
  },
  {
   "cell_type": "code",
   "execution_count": null,
   "metadata": {},
   "outputs": [],
   "source": [
    "new_gene_FPKM.head()"
   ]
  },
  {
   "cell_type": "code",
   "execution_count": null,
   "metadata": {},
   "outputs": [],
   "source": []
  },
  {
   "cell_type": "markdown",
   "metadata": {},
   "source": [
    "### Grouping by ARG class  and sum of FPKMs"
   ]
  },
  {
   "cell_type": "code",
   "execution_count": null,
   "metadata": {},
   "outputs": [],
   "source": [
    "#here, sum but maybe mean to normalize by number of genes on each class ?\n",
    "\n",
    "class_FPKM=all_results.groupby([\"predicted_ARG-class\"])[[x for x in all_results.columns if \"ERR\" in x]].sum()\n",
    "new_classes_FPKM=class_FPKM.T\n",
    "new_classes_FPKM.reset_index(inplace=True)\n",
    "new_classes_FPKM[\"sample\"]=new_classes_FPKM[\"index\"].str.replace(\"_FPKM\",\"\")\n",
    "new_classes_FPKM.drop(\"index\",axis=1,inplace=True)"
   ]
  },
  {
   "cell_type": "code",
   "execution_count": null,
   "metadata": {},
   "outputs": [],
   "source": [
    "new_classes_FPKM.head()"
   ]
  },
  {
   "cell_type": "code",
   "execution_count": null,
   "metadata": {},
   "outputs": [],
   "source": [
    "plt.figure(figsize=(12,10))\n",
    "class_FPKM.sum(axis=1).sort_values(ascending=False).plot(kind=\"bar\")\n",
    "plt.ylabel(\"FPKM\")\n",
    "plt.show()"
   ]
  },
  {
   "cell_type": "code",
   "execution_count": null,
   "metadata": {},
   "outputs": [],
   "source": [
    "#class_FPKM.sum(axis=1).sort_values(ascending=False)"
   ]
  },
  {
   "cell_type": "markdown",
   "metadata": {},
   "source": [
    "### TARA metadata"
   ]
  },
  {
   "cell_type": "code",
   "execution_count": null,
   "metadata": {},
   "outputs": [],
   "source": [
    "meta=pd.read_csv(\"/beegfs/group_bit/data/projects/departments/Bioinformatics/bit_FLPA/tara/meta.tsv\",sep=\"\\t\")\n",
    "meta_=pd.merge(meta,meta[\"INSDC run accession number(s)\"].str.split(\"|\",expand=True).T.melt().dropna(),left_index=True,right_on=\"variable\")\n",
    "meta2=pd.read_csv(\"/beegfs/group_bit/data/projects/departments/Bioinformatics/bit_FLPA/tara/meta2.tsv\",sep=\"\\t\",decimal=\",\")\n",
    "meta3=pd.merge(meta_,meta2,left_on=\"PANGAEA sample identifier\",right_on=\"PANGAEA Sample ID\")\n",
    "meta4=meta3[[\"Ocean and sea regions (IHO General Sea Areas 1953) [MRGID registered at www.marineregions.com]\",\"value\"]]\n",
    "meta4.columns=[\"Regions\",\"sample\"]"
   ]
  },
  {
   "cell_type": "code",
   "execution_count": null,
   "metadata": {},
   "outputs": [],
   "source": [
    "meta_.rename(columns={\"Marine pelagic biomes (Longhurst 2007)\":\"Biogeographic biomes (Longhurst 2007)\"},inplace=True)\n",
    "meta_.rename(columns={\"Marine pelagic biomes  (Longhurst 2007) [MRGID registered at www.marineregions.com] \":\"Marine provinces  (Longhurst 2007)\"},inplace=True)\n",
    "meta_.drop(\"variable\",axis=1).to_csv(\"../meta_runs.tsv\",sep=\"\\t\",index=None)\n",
    "meta2.to_csv(\"../meta2.tsv\",sep=\"\\t\",index=None)"
   ]
  },
  {
   "cell_type": "code",
   "execution_count": null,
   "metadata": {},
   "outputs": [],
   "source": [
    "# meta_[meta_[\"Sample label [TARA_station#_environmental-feature_size-fraction]\"].str.contains(\"<-0.22\")==True][\"value\"].to_csv(\"../tara/ids_virus.txt\",index=None,header=None)\n",
    "# list_ids=pd.read_table(\"../tara/id.list\",header=None)\n",
    "# list_ids.columns=[\"value\"]\n",
    "# check=meta_[[\"Sample label [TARA_station#_environmental-feature_size-fraction]\",\"value\"]]\n",
    "# #samples_merged=pd.merge(list_ids,check,on=\"value\",how=\"outer\")\n",
    "# #samples_merged"
   ]
  },
  {
   "cell_type": "code",
   "execution_count": null,
   "metadata": {},
   "outputs": [],
   "source": [
    "#meta_.head()"
   ]
  },
  {
   "cell_type": "code",
   "execution_count": null,
   "metadata": {},
   "outputs": [],
   "source": []
  },
  {
   "cell_type": "markdown",
   "metadata": {},
   "source": [
    "### Merging Classes FPKM with info of regions of samples"
   ]
  },
  {
   "cell_type": "code",
   "execution_count": null,
   "metadata": {},
   "outputs": [],
   "source": [
    "new_classes_FPKM=pd.merge(new_classes_FPKM,meta4,on=\"sample\")\n",
    "new_classes_FPKM.set_index([\"sample\",\"Regions\"],inplace=True)\n",
    "new_classes_FPKM.reset_index(inplace=True)"
   ]
  },
  {
   "cell_type": "code",
   "execution_count": null,
   "metadata": {},
   "outputs": [],
   "source": [
    "#new_classes_FPKM.head()"
   ]
  },
  {
   "cell_type": "code",
   "execution_count": null,
   "metadata": {},
   "outputs": [],
   "source": [
    "# the same but for genes instead classes\n",
    "\n",
    "new_gene_FPKM=pd.merge(new_gene_FPKM,meta4,on=\"sample\")\n",
    "new_gene_FPKM.set_index([\"sample\",\"Regions\"],inplace=True)\n",
    "new_gene_FPKM.reset_index(inplace=True)\n"
   ]
  },
  {
   "cell_type": "code",
   "execution_count": null,
   "metadata": {},
   "outputs": [],
   "source": [
    "#new_gene_FPKM.head()"
   ]
  },
  {
   "cell_type": "code",
   "execution_count": null,
   "metadata": {},
   "outputs": [],
   "source": [
    "#new_gene_FPKM"
   ]
  },
  {
   "cell_type": "markdown",
   "metadata": {},
   "source": [
    "### Normalizing the sum of FPKM per number of samples on the region"
   ]
  },
  {
   "cell_type": "code",
   "execution_count": null,
   "metadata": {},
   "outputs": [],
   "source": [
    "new_classes_FPKM_norm_region=new_classes_FPKM.groupby(\"Regions\").mean()"
   ]
  },
  {
   "cell_type": "code",
   "execution_count": null,
   "metadata": {},
   "outputs": [],
   "source": [
    "#new_classes_FPKM_norm_region.head()"
   ]
  },
  {
   "cell_type": "code",
   "execution_count": null,
   "metadata": {},
   "outputs": [],
   "source": [
    "new_gene_FPKM_norm_region=new_gene_FPKM.groupby(\"Regions\").mean()"
   ]
  },
  {
   "cell_type": "code",
   "execution_count": null,
   "metadata": {},
   "outputs": [],
   "source": [
    "#new_gene_FPKM_norm_region.head()"
   ]
  },
  {
   "cell_type": "code",
   "execution_count": null,
   "metadata": {},
   "outputs": [],
   "source": [
    "new_classes_FPKM.set_index(\"sample\",inplace=True)\n",
    "new_gene_FPKM.set_index(\"sample\",inplace=True)"
   ]
  },
  {
   "cell_type": "code",
   "execution_count": null,
   "metadata": {},
   "outputs": [],
   "source": [
    "groups= list(set(new_classes_FPKM[\"Regions\"]))\n",
    "\n",
    "classes=list(set(all_results[\"predicted_ARG-class\"]))\n",
    "\n",
    "genes=list(set(all_results[\"#ARG\"]))"
   ]
  },
  {
   "cell_type": "code",
   "execution_count": null,
   "metadata": {},
   "outputs": [],
   "source": [
    "genes_test=pd.DataFrame()\n",
    "for g in genes:\n",
    "    #print g\n",
    "\n",
    "    f,p=stats.f_oneway(new_gene_FPKM[new_gene_FPKM[\"Regions\"]==groups[0]][g],new_gene_FPKM[new_gene_FPKM[\"Regions\"]==groups[1]][g],new_gene_FPKM[new_gene_FPKM[\"Regions\"]==groups[2]][g],\n",
    "                     new_gene_FPKM[new_gene_FPKM[\"Regions\"]==groups[3]][g],new_gene_FPKM[new_gene_FPKM[\"Regions\"]==groups[4]][g],\n",
    "                    new_gene_FPKM[new_gene_FPKM[\"Regions\"]==groups[5]][g],new_gene_FPKM[new_gene_FPKM[\"Regions\"]==groups[6]][g],\n",
    "                    new_gene_FPKM[new_gene_FPKM[\"Regions\"]==groups[7]][g])\n",
    "    #print f,p \n",
    "    \n",
    "    tmp=pd.DataFrame([g,f,p]).T\n",
    "    tmp.columns=[\"gene\",\"fvalue\",\"pvalue\"]\n",
    "    \n",
    "    genes_test=pd.concat([genes_test,tmp],axis=0)\n",
    "genes_test.reset_index(inplace=True,drop=True)"
   ]
  },
  {
   "cell_type": "code",
   "execution_count": null,
   "metadata": {},
   "outputs": [],
   "source": [
    "genes_test.head()"
   ]
  },
  {
   "cell_type": "code",
   "execution_count": null,
   "metadata": {},
   "outputs": [],
   "source": []
  },
  {
   "cell_type": "code",
   "execution_count": null,
   "metadata": {
    "scrolled": true
   },
   "outputs": [],
   "source": [
    "class_test=pd.DataFrame()\n",
    "\n",
    "for c in classes:\n",
    "    #print c\n",
    "    f,p=stats.f_oneway(new_classes_FPKM[new_classes_FPKM[\"Regions\"]==groups[0]][c],new_classes_FPKM[new_classes_FPKM[\"Regions\"]==groups[1]][c],new_classes_FPKM[new_classes_FPKM[\"Regions\"]==groups[2]][c],\n",
    "                     new_classes_FPKM[new_classes_FPKM[\"Regions\"]==groups[3]][c],new_classes_FPKM[new_classes_FPKM[\"Regions\"]==groups[4]][c],\n",
    "                    new_classes_FPKM[new_classes_FPKM[\"Regions\"]==groups[5]][c],new_classes_FPKM[new_classes_FPKM[\"Regions\"]==groups[6]][c],\n",
    "                    new_classes_FPKM[new_classes_FPKM[\"Regions\"]==groups[7]][c])\n",
    "    #print f,p \n",
    "    tmp=pd.DataFrame([c,f,p]).T\n",
    "    tmp.columns=[\"class\",\"fvalue\",\"pvalue\"]\n",
    "    \n",
    "    class_test=pd.concat([class_test,tmp],axis=0)\n",
    "class_test.reset_index(inplace=True,drop=True)"
   ]
  },
  {
   "cell_type": "code",
   "execution_count": null,
   "metadata": {},
   "outputs": [],
   "source": [
    "class_test.head()"
   ]
  },
  {
   "cell_type": "code",
   "execution_count": null,
   "metadata": {},
   "outputs": [],
   "source": [
    "new_gene_FPKM[\"Regions\"]=new_gene_FPKM[\"Regions\"].str.split(\"[\",expand=True)[0]"
   ]
  },
  {
   "cell_type": "code",
   "execution_count": null,
   "metadata": {},
   "outputs": [],
   "source": [
    "import matplotlib.backends.backend_pdf"
   ]
  },
  {
   "cell_type": "code",
   "execution_count": null,
   "metadata": {
    "scrolled": true
   },
   "outputs": [],
   "source": [
    "pdf = matplotlib.backends.backend_pdf.PdfPages(\"../tukey_genes.pdf\")\n",
    "all_g=pd.DataFrame()\n",
    "for g in genes:\n",
    "    #print g\n",
    "\n",
    "    tukey = pairwise_tukeyhsd(endog=new_gene_FPKM[g],     # Data\n",
    "                              groups=new_gene_FPKM[\"Regions\"],   # Groups\n",
    "                              alpha=0.05)          # Significance level\n",
    "\n",
    "    fig=tukey.plot_simultaneous()    # Plot group confidence intervals\n",
    "    plt.title(g)\n",
    "    plt.tight_layout()\n",
    "    pdf.savefig( fig )\n",
    "    #plt.show()\n",
    "    df=tukey.summary()\n",
    "    res=pd.DataFrame(df.data[1:],columns=df.data[0])\n",
    "    res[\"gene\"]=str(g)\n",
    "    all_g=pd.concat([all_g,res])\n",
    "pdf.close()"
   ]
  },
  {
   "cell_type": "code",
   "execution_count": null,
   "metadata": {},
   "outputs": [],
   "source": [
    "plt.close()"
   ]
  },
  {
   "cell_type": "code",
   "execution_count": null,
   "metadata": {},
   "outputs": [],
   "source": [
    "meta_.columns"
   ]
  },
  {
   "cell_type": "code",
   "execution_count": null,
   "metadata": {},
   "outputs": [],
   "source": [
    "meta5=meta_[[\"value\",\"Marine provinces  (Longhurst 2007)\"]]\n",
    "meta5.columns=[\"sample\",\"region2\"]"
   ]
  },
  {
   "cell_type": "code",
   "execution_count": null,
   "metadata": {},
   "outputs": [],
   "source": [
    "new_gene_FPKM=pd.merge(new_gene_FPKM.reset_index(),meta5,on=\"sample\")\n"
   ]
  },
  {
   "cell_type": "code",
   "execution_count": null,
   "metadata": {
    "scrolled": true
   },
   "outputs": [],
   "source": [
    "plt.figure(figsize=(12,10))\n",
    "sns.boxplot(new_gene_FPKM[\"region2\"],new_gene_FPKM[\"MCR-1\"])\n",
    "plt.xticks(rotation=90)\n",
    "plt.ylabel(\"mean FPKM\")\n",
    "plt.title(\"MCR-1\")\n",
    "plt.show()"
   ]
  },
  {
   "cell_type": "code",
   "execution_count": null,
   "metadata": {
    "scrolled": true
   },
   "outputs": [],
   "source": [
    "pdf = matplotlib.backends.backend_pdf.PdfPages(\"../tukey_class.pdf\")\n",
    "all_c=pd.DataFrame()\n",
    "for c in classes:\n",
    "    #print c\n",
    "\n",
    "    tukey = pairwise_tukeyhsd(endog=new_classes_FPKM[c],     # Data\n",
    "                              groups=new_classes_FPKM[\"Regions\"],   # Groups\n",
    "                              alpha=0.05)          # Significance level\n",
    "\n",
    "    fig=tukey.plot_simultaneous()    # Plot group confidence intervals\n",
    "    plt.title(c)\n",
    "    plt.tight_layout()\n",
    "    pdf.savefig( fig )\n",
    "    #plt.show()\n",
    "    df=tukey.summary()\n",
    "    res=pd.DataFrame(df.data[1:],columns=df.data[0])\n",
    "    res[\"class\"]=str(c)\n",
    "    all_c=pd.concat([all_c,res])\n",
    "pdf.close()"
   ]
  },
  {
   "cell_type": "code",
   "execution_count": null,
   "metadata": {},
   "outputs": [],
   "source": [
    "plt.close()"
   ]
  },
  {
   "cell_type": "code",
   "execution_count": null,
   "metadata": {},
   "outputs": [],
   "source": [
    "all_c.to_excel(\"../tukey_class.xlsx\",index=None)#[all_c[\"reject\"]==True]"
   ]
  },
  {
   "cell_type": "code",
   "execution_count": null,
   "metadata": {},
   "outputs": [],
   "source": [
    "all_g.to_excel(\"../tukey_gene.xlsx\",index=None)#[all_g[\"reject\"]==True]"
   ]
  },
  {
   "cell_type": "code",
   "execution_count": null,
   "metadata": {},
   "outputs": [],
   "source": [
    "all_g[all_g[\"gene\"]==\"MCR-1\"]"
   ]
  },
  {
   "cell_type": "code",
   "execution_count": null,
   "metadata": {},
   "outputs": [],
   "source": [
    "sns.set_style(\"white\")"
   ]
  },
  {
   "cell_type": "code",
   "execution_count": null,
   "metadata": {},
   "outputs": [],
   "source": [
    "olss=new_classes_FPKM.drop(\"Regions\",axis=1).reset_index()"
   ]
  },
  {
   "cell_type": "code",
   "execution_count": null,
   "metadata": {},
   "outputs": [],
   "source": [
    "meta3=meta3.rename(columns = {'value':'sample'})"
   ]
  },
  {
   "cell_type": "code",
   "execution_count": null,
   "metadata": {},
   "outputs": [],
   "source": [
    "#meta_.drop(\"variable\",axis=1,inplace=True)"
   ]
  },
  {
   "cell_type": "code",
   "execution_count": null,
   "metadata": {},
   "outputs": [],
   "source": [
    "ols_=pd.merge(olss,meta3,on=\"sample\")"
   ]
  },
  {
   "cell_type": "code",
   "execution_count": null,
   "metadata": {},
   "outputs": [],
   "source": [
    "ols_.set_index(\"sample\",inplace=True)"
   ]
  },
  {
   "cell_type": "code",
   "execution_count": null,
   "metadata": {},
   "outputs": [],
   "source": [
    "ols_.to_excel(\"../input_for_OLS.xlsx\")"
   ]
  },
  {
   "cell_type": "code",
   "execution_count": null,
   "metadata": {},
   "outputs": [],
   "source": [
    "d=[]\n",
    "for a in ols_.columns:\n",
    "    b=re.sub('[^a-zA-Z0-9 \\n\\.]', '_', a)\n",
    "    c=b.replace(\" \",\"_\")\n",
    "    d.append(c)"
   ]
  },
  {
   "cell_type": "code",
   "execution_count": null,
   "metadata": {},
   "outputs": [],
   "source": [
    "ols_.columns"
   ]
  },
  {
   "cell_type": "code",
   "execution_count": null,
   "metadata": {},
   "outputs": [],
   "source": [
    "ols_.columns=d"
   ]
  },
  {
   "cell_type": "code",
   "execution_count": null,
   "metadata": {},
   "outputs": [],
   "source": [
    "args=[u'aminocoumarin', u'aminoglycoside', u'bacitracin',\n",
    "       u'beta_lactam', u'bleomycin', u'chloramphenicol', u'fosfomycin',\n",
    "       u'fosmidomycin', u'glycopeptide', u'kasugamycin',\n",
    "       u'macrolide_lincosamide_streptogramin', u'multidrug',\n",
    "       u'multidrug_mutation', u'mupirocin', u'peptide', u'pleuromutilin',\n",
    "       u'polymyxin', u'puromycin', u'qa_compound', u'quinolone', u'rifampin',\n",
    "       u'streptothricin', u'sulfonamide', u'tetracenomycin', u'tetracycline',\n",
    "       u'thiostrepton', u'triclosan', u'trimethoprim']"
   ]
  },
  {
   "cell_type": "code",
   "execution_count": null,
   "metadata": {},
   "outputs": [],
   "source": [
    "form=[x for x in ols_.columns if x not in args]"
   ]
  },
  {
   "cell_type": "code",
   "execution_count": null,
   "metadata": {},
   "outputs": [],
   "source": [
    "\n"
   ]
  },
  {
   "cell_type": "code",
   "execution_count": null,
   "metadata": {},
   "outputs": [],
   "source": [
    "#formula1=\"+\".join(form)"
   ]
  },
  {
   "cell_type": "code",
   "execution_count": null,
   "metadata": {},
   "outputs": [],
   "source": [
    "formula1=\"NO2__umol_L___+PO4__umol_L___+NO2NO3__umol_L___+SI__umol_L___+Sampling_depth__m_+Environmental_Feature+(Latitude__degrees_North_:Longitude__degrees_East_)+Size_fraction_lower_threshold__micrometre_+Size_fraction_upper_threshold__micrometre_\""
   ]
  },
  {
   "cell_type": "code",
   "execution_count": null,
   "metadata": {},
   "outputs": [],
   "source": [
    "ols_.head()"
   ]
  },
  {
   "cell_type": "code",
   "execution_count": null,
   "metadata": {},
   "outputs": [],
   "source": [
    "from statsmodels.formula.api import ols"
   ]
  },
  {
   "cell_type": "code",
   "execution_count": null,
   "metadata": {},
   "outputs": [],
   "source": [
    "# OLS with all the metadata \n",
    "reg3 = pd.DataFrame()\n",
    "reg3_ = pd.DataFrame()\n",
    "\n",
    "for ar in args:\n",
    "    formula=\"%s ~ \"%(ar) + formula1\n",
    "    res = ols(formula, ols_).fit()\n",
    "    dfres={\"coeficient\":res.params,\"p values\":res.pvalues}\n",
    "    ddd=pd.DataFrame(dfres)\n",
    "    ddd[\"coeficient\"]=ddd[\"coeficient\"].apply(lambda x: \"%.4f\" % (x))\n",
    "    ddd[\"variable\"]=ar\n",
    "    ddd[\"Formula\"] = formula\n",
    "    ddd[\"model p value\"]=res.f_pvalue\n",
    "    ddd[\"model Adjusted r squared\"]=res.rsquared_adj\n",
    "    ddd[\"r squared\"]=res.rsquared\n",
    "    #final result of OLS\n",
    "    reg3=pd.concat([reg3,ddd],axis=0)\n",
    "    \n",
    "    reg3_ = reg3[reg3[\"p values\"] < 0.05] \n",
    "    reg3_[\"coeficient\"]=reg3_[\"coeficient\"].astype(float)\n",
    "    reg3_ = reg3_.sort_values(by=[\"coeficient\"],ascending=False)"
   ]
  },
  {
   "cell_type": "code",
   "execution_count": null,
   "metadata": {},
   "outputs": [],
   "source": [
    "reg3.head()"
   ]
  },
  {
   "cell_type": "code",
   "execution_count": null,
   "metadata": {},
   "outputs": [],
   "source": [
    "reg3.to_excel(\"../ARGs_OLS.xlsx\")"
   ]
  },
  {
   "cell_type": "code",
   "execution_count": null,
   "metadata": {},
   "outputs": [],
   "source": []
  },
  {
   "cell_type": "code",
   "execution_count": null,
   "metadata": {},
   "outputs": [],
   "source": [
    "########## RE-STARTING ---  PCA and OLS with custom formulas"
   ]
  },
  {
   "cell_type": "code",
   "execution_count": null,
   "metadata": {},
   "outputs": [],
   "source": [
    "new_classes_FPKM.head()"
   ]
  },
  {
   "cell_type": "code",
   "execution_count": null,
   "metadata": {},
   "outputs": [],
   "source": [
    "pcadf=new_classes_FPKM.reset_index()"
   ]
  },
  {
   "cell_type": "code",
   "execution_count": null,
   "metadata": {},
   "outputs": [],
   "source": [
    "pcadf.head()"
   ]
  },
  {
   "cell_type": "code",
   "execution_count": null,
   "metadata": {},
   "outputs": [],
   "source": [
    "#meta3.columns"
   ]
  },
  {
   "cell_type": "code",
   "execution_count": null,
   "metadata": {},
   "outputs": [],
   "source": [
    "meta_.columns"
   ]
  },
  {
   "cell_type": "code",
   "execution_count": null,
   "metadata": {},
   "outputs": [],
   "source": [
    "to_clust=meta_[[\"value\",\"Environmental Feature\",\"Size fraction lower threshold [micrometre]\",\n",
    "       u'Size fraction upper threshold [micrometre]',\"Biogeographic biomes (Longhurst 2007)\"]]\n",
    "to_clust.rename(columns={\"value\":\"sample\"},inplace=True)"
   ]
  },
  {
   "cell_type": "code",
   "execution_count": null,
   "metadata": {},
   "outputs": [],
   "source": [
    "pcadf.columns"
   ]
  },
  {
   "cell_type": "code",
   "execution_count": null,
   "metadata": {},
   "outputs": [],
   "source": [
    "pcadf=pd.merge(pcadf,to_clust,on=\"sample\")"
   ]
  },
  {
   "cell_type": "code",
   "execution_count": null,
   "metadata": {},
   "outputs": [],
   "source": [
    "pcadf.head()"
   ]
  },
  {
   "cell_type": "code",
   "execution_count": null,
   "metadata": {},
   "outputs": [],
   "source": [
    "pcadf.set_index([\"sample\",\"Regions\",\"Environmental Feature\",\"Size fraction lower threshold [micrometre]\",\n",
    "       u'Size fraction upper threshold [micrometre]',\"Biogeographic biomes (Longhurst 2007)\"],inplace=True)"
   ]
  },
  {
   "cell_type": "code",
   "execution_count": null,
   "metadata": {},
   "outputs": [],
   "source": []
  },
  {
   "cell_type": "code",
   "execution_count": null,
   "metadata": {},
   "outputs": [],
   "source": [
    "###  normalize ARG class by number of genes ?? \n",
    "\n",
    "\n",
    "# feat=pd.read_table(\"/beegfs/group_bit/data/projects/departments/Bioinformatics/bit_FLPA/scripts.RCuadrat/deeparg-ss/database/features.gene.length\",header=None)\n",
    "# feat=feat[0].str.split(\"|\",expand=True)\n",
    "# feat=feat.groupby(3)[0].count()\n",
    "# feat=pd.DataFrame(feat)\n",
    "# feat.reset_index(inplace=True)\n",
    "\n",
    "###\n"
   ]
  },
  {
   "cell_type": "code",
   "execution_count": null,
   "metadata": {
    "scrolled": true
   },
   "outputs": [],
   "source": [
    "pca = PCA(n_components=2)\n",
    "\n",
    "##\n",
    "\n",
    "\n",
    "pcadf_scaled = preprocessing.scale(pcadf)\n",
    "projected=pca.fit_transform(pcadf_scaled)\n",
    "###\n",
    "PCA(copy=True, iterated_power='auto', n_components=2, random_state=None,\n",
    "  svd_solver='auto', tol=0.0, whiten=False)\n",
    "print(pca.explained_variance_ratio_)\n",
    "\n",
    "\n",
    "aaa=pd.merge(pcadf.reset_index(),pd.DataFrame(projected),left_index=True,right_index=True)\n",
    "\n",
    "aaa=aaa.rename(columns = {0:\"0\",1:\"1\"})\n",
    "\n",
    "    \n",
    "sns.set_style(\"white\")\n",
    "color_gen = cycle(('blue', 'lightblue','darkblue','green','lightgreen','darkgreen', 'red','darkred', 'purple', 'gray','darkgray', 'cyan','black','pink','yellow','lightgray'))\n",
    "plt.figure(figsize=(15,15))\n",
    "for lab in set(aaa[\"Regions\"]):\n",
    "    plt.scatter(aaa.loc[aaa[\"Regions\"] == lab, '0'], \n",
    "                aaa.loc[aaa[\"Regions\"] == lab, '1'], \n",
    "                c=next(color_gen),\n",
    "                label=lab)\n",
    "plt.xlabel('component 1  - ' + str(pca.explained_variance_ratio_[0]*100)+ \" % \" )\n",
    "plt.ylabel('component 2  - '+ str(pca.explained_variance_ratio_[1]*100)+ \"  % \" )\n",
    "plt.legend(loc=2)\n",
    "plt.show()\n",
    "\n",
    "\n",
    "\n",
    "cg=sns.clustermap(pcadf.reset_index().drop([\"Size fraction lower threshold [micrometre]\",\n",
    "       \"Size fraction upper threshold [micrometre]\"],axis=1).set_index([\"sample\",\"Regions\",\"Biogeographic biomes (Longhurst 2007)\",\"Environmental Feature\"]),figsize=(10,55))\n",
    "plt.setp(cg.ax_heatmap.yaxis.get_majorticklabels(), rotation=0)\n",
    "plt.show()\n",
    "\n",
    "\n",
    "\n",
    "heat=pcadf.apply(lambda x: np.log10(x+0.001))\n",
    "\n",
    "\n",
    "\n",
    "cg=sns.clustermap(heat,figsize=(12,65))\n",
    "plt.setp(cg.ax_heatmap.yaxis.get_majorticklabels(), rotation=0)\n",
    "plt.show()"
   ]
  },
  {
   "cell_type": "code",
   "execution_count": null,
   "metadata": {},
   "outputs": [],
   "source": [
    "#aaa"
   ]
  },
  {
   "cell_type": "code",
   "execution_count": null,
   "metadata": {},
   "outputs": [],
   "source": [
    "aaa[\"fraction\"]=aaa[\"Size fraction lower threshold [micrometre]\"].astype(str)+\"-\"+aaa[\"Size fraction upper threshold [micrometre]\"].astype(str)"
   ]
  },
  {
   "cell_type": "code",
   "execution_count": null,
   "metadata": {},
   "outputs": [],
   "source": [
    "hue=\"fraction\"\n",
    "sns.lmplot(\"0\",\"1\",data=aaa,hue=hue,size=10,fit_reg=False)\n",
    "plt.xlabel('component 1')\n",
    "plt.ylabel('component 2')\n",
    "#plt.colorbar();\n",
    "\n",
    "plt.show()"
   ]
  },
  {
   "cell_type": "code",
   "execution_count": null,
   "metadata": {},
   "outputs": [],
   "source": [
    "hue=\"Environmental Feature\"\n",
    "sns.lmplot(\"0\",\"1\",data=aaa,hue=hue,size=10,fit_reg=False)\n",
    "plt.xlabel('component 1')\n",
    "plt.ylabel('component 2')\n",
    "#plt.colorbar();\n",
    "\n",
    "plt.show()"
   ]
  },
  {
   "cell_type": "code",
   "execution_count": null,
   "metadata": {},
   "outputs": [],
   "source": [
    "hue=\"Regions\"\n",
    "sns.lmplot(\"0\",\"1\",data=aaa,hue=hue,size=10,fit_reg=False)\n",
    "plt.xlabel('component 1')\n",
    "plt.ylabel('component 2')\n",
    "#plt.colorbar();\n",
    "\n",
    "plt.show()"
   ]
  },
  {
   "cell_type": "code",
   "execution_count": null,
   "metadata": {
    "scrolled": false
   },
   "outputs": [],
   "source": [
    "\n",
    "\n",
    "hue=\"Biogeographic biomes (Longhurst 2007)\"\n",
    "sns.lmplot(\"0\",\"1\",data=aaa,hue=hue,size=10,fit_reg=False)\n",
    "plt.xlabel('component 1')\n",
    "plt.ylabel('component 2')\n",
    "#plt.colorbar();\n",
    "\n",
    "plt.show()"
   ]
  },
  {
   "cell_type": "code",
   "execution_count": null,
   "metadata": {},
   "outputs": [],
   "source": [
    "# heat=beta.apply(lambda x: np.log10(x+0.001))\n",
    "# cg=sns.clustermap(beta,figsize=(10,50))\n",
    "# plt.setp(cg.ax_heatmap.yaxis.get_majorticklabels(), rotation=0)\n",
    "# plt.show()\n",
    "# cg=sns.clustermap(heat,figsize=(10,50))\n",
    "# plt.setp(cg.ax_heatmap.yaxis.get_majorticklabels(), rotation=0)\n",
    "# plt.show()"
   ]
  },
  {
   "cell_type": "code",
   "execution_count": null,
   "metadata": {},
   "outputs": [],
   "source": [
    "bbb=aaa.groupby(\"fraction\").mean().drop([\"Size fraction upper threshold [micrometre]\",\"0\",\"1\"],axis=1)"
   ]
  },
  {
   "cell_type": "code",
   "execution_count": null,
   "metadata": {},
   "outputs": [],
   "source": [
    "bbb.columns"
   ]
  },
  {
   "cell_type": "code",
   "execution_count": null,
   "metadata": {},
   "outputs": [],
   "source": [
    "aaa.head()"
   ]
  },
  {
   "cell_type": "code",
   "execution_count": null,
   "metadata": {},
   "outputs": [],
   "source": [
    "\n",
    "\n",
    "\n"
   ]
  },
  {
   "cell_type": "code",
   "execution_count": null,
   "metadata": {
    "scrolled": true
   },
   "outputs": [],
   "source": [
    "pdf = matplotlib.backends.backend_pdf.PdfPages(\"../ARGS_regions.pdf\")\n",
    "for arg in bbb.columns:\n",
    "    fig=plt.figure(figsize=(15,10))\n",
    "    sns.violinplot(aaa[\"Regions\"],aaa[arg])\n",
    "    plt.xticks(rotation=\"vertical\")\n",
    "    plt.title(arg)\n",
    "    plt.tight_layout()\n",
    "    pdf.savefig( fig )\n",
    "    #plt.show()\n",
    "pdf.close()"
   ]
  },
  {
   "cell_type": "code",
   "execution_count": null,
   "metadata": {
    "scrolled": true
   },
   "outputs": [],
   "source": [
    "pdf = matplotlib.backends.backend_pdf.PdfPages(\"../ARGS_filter_min.pdf\")\n",
    "for arg in bbb.columns:\n",
    "    fig=plt.figure(figsize=(10,10))\n",
    "    sns.violinplot(aaa[\"Size fraction lower threshold [micrometre]\"],aaa[arg])\n",
    "    plt.title(arg)\n",
    "    plt.tight_layout()\n",
    "    pdf.savefig( fig )\n",
    "    #plt.show()\n",
    "pdf.close()"
   ]
  },
  {
   "cell_type": "code",
   "execution_count": null,
   "metadata": {
    "scrolled": true
   },
   "outputs": [],
   "source": [
    "#pdf = matplotlib.backends.backend_pdf.PdfPages(\"../ARGS_filter_min.pdf\")\n",
    "for arg in bbb.columns:\n",
    "    fig=plt.figure(figsize=(10,10))\n",
    "    sns.boxplot(aaa[\"Size fraction lower threshold [micrometre]\"],aaa[arg])\n",
    "    plt.title(arg)\n",
    "    plt.tight_layout()\n",
    "    #pdf.savefig( fig )\n",
    "    plt.show()\n",
    "pdf.close()"
   ]
  },
  {
   "cell_type": "code",
   "execution_count": null,
   "metadata": {},
   "outputs": [],
   "source": [
    "pdf = matplotlib.backends.backend_pdf.PdfPages(\"../ARGS_feature.pdf\")\n",
    "for arg in bbb.columns:\n",
    "    fig=plt.figure(figsize=(15,10))\n",
    "    sns.violinplot(aaa[\"Environmental Feature\"],aaa[arg])\n",
    "    plt.title(arg)\n",
    "    plt.xticks(rotation=\"vertical\")\n",
    "    plt.tight_layout()\n",
    "    pdf.savefig( fig )\n",
    "    #plt.show()\n",
    "pdf.close()"
   ]
  },
  {
   "cell_type": "code",
   "execution_count": null,
   "metadata": {
    "scrolled": true
   },
   "outputs": [],
   "source": [
    "pdf = matplotlib.backends.backend_pdf.PdfPages(\"../ARGS_biomes.pdf\")\n",
    "for arg in bbb.columns:\n",
    "    fig=plt.figure(figsize=(15,10))\n",
    "    sns.violinplot(aaa[\"Biogeographic biomes (Longhurst 2007)\"],aaa[arg])\n",
    "    plt.title(arg)\n",
    "    plt.xticks(rotation=\"vertical\")\n",
    "    plt.tight_layout()\n",
    "    pdf.savefig( fig )\n",
    "    #plt.show()\n",
    "pdf.close()"
   ]
  },
  {
   "cell_type": "code",
   "execution_count": null,
   "metadata": {},
   "outputs": [],
   "source": [
    "meta3.head()"
   ]
  },
  {
   "cell_type": "code",
   "execution_count": null,
   "metadata": {},
   "outputs": [],
   "source": [
    "new_classes_FPKM_norm_region.mean(axis=1).sort_values(ascending=False)"
   ]
  },
  {
   "cell_type": "code",
   "execution_count": null,
   "metadata": {},
   "outputs": [],
   "source": [
    "# RNA "
   ]
  },
  {
   "cell_type": "code",
   "execution_count": null,
   "metadata": {},
   "outputs": [],
   "source": [
    "rna_samples=pd.read_table(\"../lists/PRJEB6608_RNA_TARA.txt\")"
   ]
  },
  {
   "cell_type": "code",
   "execution_count": null,
   "metadata": {},
   "outputs": [],
   "source": [
    "rna_samples[\"run_accession\"].to_csv(\"../rna_list_proc.list\",header=None,index=None)"
   ]
  },
  {
   "cell_type": "code",
   "execution_count": null,
   "metadata": {},
   "outputs": [],
   "source": [
    "rna_samples[\"fastq_ftp\"].str.split(\";\",expand=True).melt()[\"value\"].to_csv(\"../wget_rna_list_proc.list\",header=None,index=None)"
   ]
  },
  {
   "cell_type": "code",
   "execution_count": null,
   "metadata": {},
   "outputs": [],
   "source": [
    "path_rna=\"../tara_rna_seq_bbmap_out/\"\n",
    "\n",
    "\n",
    "files  = os.listdir(path_rna)\n",
    "all_FPKM_RNA=pd.DataFrame()\n",
    "reg=pd.DataFrame(columns=[\"read_id\"])\n",
    "for f in files:\n",
    "    if f.endswith(\".rpkm\"):\n",
    "        sample=f.split(\"_\")[-1].split(\".\")[0]\n",
    "        df2=pd.read_csv(path_rna+f,sep=\"\\t\",skiprows=4)\n",
    "        df2=df2[[\"#Name\",\"FPKM\"]]\n",
    "        df2.columns=[\"read_id\",sample+\"_FPKM_RNA\"]\n",
    "        reg=pd.merge(reg,df2,on=\"read_id\",how=\"outer\")\n",
    "all_FPKM_RNA=pd.concat([all_FPKM_RNA,reg])\n",
    "#all_FPKM_RNA[\"sample\"]=all_FPKM_RNA[\"read_id\"].str.split(\"|\",expand=True)[6]"
   ]
  },
  {
   "cell_type": "code",
   "execution_count": null,
   "metadata": {},
   "outputs": [],
   "source": [
    "len(all_FPKM_RNA)"
   ]
  },
  {
   "cell_type": "code",
   "execution_count": null,
   "metadata": {},
   "outputs": [],
   "source": [
    "all_FPKM_RNA.rename(columns={\"read_id\":\"ORF_ID\"},inplace=True)"
   ]
  },
  {
   "cell_type": "code",
   "execution_count": null,
   "metadata": {},
   "outputs": [],
   "source": [
    "all_FPKM_RNA.head()"
   ]
  },
  {
   "cell_type": "code",
   "execution_count": null,
   "metadata": {},
   "outputs": [],
   "source": [
    "rna_merged=pd.merge(all_FPKM_RNA,deepARG_plas_kaiju,on=\"ORF_ID\")"
   ]
  },
  {
   "cell_type": "code",
   "execution_count": null,
   "metadata": {},
   "outputs": [],
   "source": [
    "rna_merged.columns"
   ]
  },
  {
   "cell_type": "code",
   "execution_count": null,
   "metadata": {},
   "outputs": [],
   "source": [
    "express=pd.DataFrame(all_FPKM_RNA.set_index(\"ORF_ID\").sum(axis=1)).reset_index()"
   ]
  },
  {
   "cell_type": "code",
   "execution_count": null,
   "metadata": {},
   "outputs": [],
   "source": [
    "express['expressed'] = np.where(express[0]>5, 'yes', 'no')\n"
   ]
  },
  {
   "cell_type": "code",
   "execution_count": null,
   "metadata": {},
   "outputs": [],
   "source": [
    "deepARG_plas_kaiju_rna=pd.merge(deepARG_plas_kaiju,express[[\"ORF_ID\",\"expressed\"]],how=\"left\",on=\"ORF_ID\")"
   ]
  },
  {
   "cell_type": "code",
   "execution_count": null,
   "metadata": {},
   "outputs": [],
   "source": [
    "deepARG_plas_kaiju_rna.to_csv(\"../deepARG_plas_kaiju_RNA.tsv\",sep=\"\\t\",index=None)"
   ]
  },
  {
   "cell_type": "code",
   "execution_count": null,
   "metadata": {},
   "outputs": [],
   "source": [
    "len(deepARG_plas_kaiju_rna[deepARG_plas_kaiju_rna[\"expressed\"]==\"yes\"])"
   ]
  },
  {
   "cell_type": "code",
   "execution_count": null,
   "metadata": {},
   "outputs": [],
   "source": [
    "#rna_merged[rna_merged[\"#ARG\"]==\"MCR-1\"]"
   ]
  },
  {
   "cell_type": "code",
   "execution_count": null,
   "metadata": {},
   "outputs": [],
   "source": [
    "pangea=pd.read_table(\"../TSV/all_samples_tara_pangea.tsv\")"
   ]
  },
  {
   "cell_type": "code",
   "execution_count": null,
   "metadata": {},
   "outputs": [],
   "source": [
    "classes=list(new_classes_FPKM.drop(\"Regions\",axis=1).columns)"
   ]
  },
  {
   "cell_type": "code",
   "execution_count": null,
   "metadata": {},
   "outputs": [],
   "source": [
    "coordinates=meta_[[\"value\",\"Latitude [degrees North]\",\"Longitude [degrees East]\"]]\n",
    "coordinates.rename(columns={\"value\":\"sample\"},inplace=True)\n",
    "for c in classes:\n",
    "    tmp=new_classes_FPKM.reset_index()[[\"sample\",c]]\n",
    "    maps=pd.merge(coordinates,tmp,on=\"sample\")\n",
    "    sum_maps=pd.DataFrame(maps.groupby([\"Latitude [degrees North]\",\"Longitude [degrees East]\"]).mean()).reset_index()\n",
    "    #sum_maps[\"log\"]=sum_maps[c].apply(lambda x:np.log2(x))"
   ]
  },
  {
   "cell_type": "code",
   "execution_count": null,
   "metadata": {},
   "outputs": [],
   "source": [
    "sum_maps.head()"
   ]
  },
  {
   "cell_type": "code",
   "execution_count": null,
   "metadata": {},
   "outputs": [],
   "source": [
    "test_map=pd.merge(meta_[[\"value\",\"Latitude [degrees North]\",\"Longitude [degrees East]\"]],new_classes_FPKM.reset_index()[[\"sample\",\"bacitracin\"]],left_on=\"value\",right_on=\"sample\")\n",
    "test_map.drop(\"value\",axis=1,inplace=True)\n",
    "test_map2=test_map.groupby([\"Latitude [degrees North]\",\"Longitude [degrees East]\"]).sum()"
   ]
  },
  {
   "cell_type": "code",
   "execution_count": null,
   "metadata": {
    "scrolled": false
   },
   "outputs": [],
   "source": [
    "#meta_"
   ]
  },
  {
   "cell_type": "code",
   "execution_count": null,
   "metadata": {},
   "outputs": [],
   "source": [
    "classes2=['aminocoumarin',\n",
    " 'aminoglycoside']"
   ]
  },
  {
   "cell_type": "code",
   "execution_count": null,
   "metadata": {},
   "outputs": [],
   "source": [
    "import plotly \n",
    "plotly.tools.set_credentials_file(username='rcuadrat', api_key='EzyJZPUCHBkoIAc69ywY')"
   ]
  },
  {
   "cell_type": "code",
   "execution_count": null,
   "metadata": {},
   "outputs": [],
   "source": [
    "new_gene_FPKM.head()"
   ]
  },
  {
   "cell_type": "code",
   "execution_count": null,
   "metadata": {},
   "outputs": [],
   "source": []
  },
  {
   "cell_type": "code",
   "execution_count": null,
   "metadata": {},
   "outputs": [],
   "source": [
    "coordinates=meta_[[\"value\",\"Latitude [degrees North]\",\"Longitude [degrees East]\"]]\n",
    "coordinates.rename(columns={\"value\":\"sample\"},inplace=True)\n",
    "#for c in classes2:\n",
    "c=\"MCR-1\"\n",
    "tmp=new_gene_FPKM.reset_index()[[\"sample\",c]]\n",
    "maps=pd.merge(coordinates,tmp,on=\"sample\")\n",
    "sum_maps=pd.DataFrame(maps.groupby([\"Latitude [degrees North]\",\"Longitude [degrees East]\"]).mean()).reset_index()\n",
    "\n",
    "df=sum_maps\n",
    "#df = pd.read_csv('https://raw.githubusercontent.com/plotly/datasets/master/2015_06_30_precipitation.csv')\n",
    "scaler = MinMaxScaler()\n",
    "\n",
    "#df[\"scal\"]=scaler.fit_transform(df[[c]])\n",
    "df[\"scal\"]=df[[c]]\n",
    "scl = [0,\"rgb(150,0,90)\"],[0.125,\"rgb(0, 0, 200)\"],[0.25,\"rgb(0, 25, 255)\"],\\\n",
    "[0.375,\"rgb(0, 152, 255)\"],[0.5,\"rgb(44, 255, 150)\"],[0.625,\"rgb(151, 255, 0)\"],\\\n",
    "[0.75,\"rgb(255, 234, 0)\"],[0.875,\"rgb(255, 111, 0)\"],[1,\"rgb(255, 0, 0)\"]\n",
    "\n",
    "#sizeref_ = 2. * df[c].max() / (10 ** 2)\n",
    "\n",
    "\n",
    "data = [ dict(\n",
    "    lat = df[\"Latitude [degrees North]\"],\n",
    "    lon = df[\"Longitude [degrees East]\"],\n",
    "    #text = df['Globvalue'].astype(str) + ' inches',\n",
    "    marker = dict(\n",
    "        color = \"blue\",\n",
    "        colorscale = scl,\n",
    "        reversescale = True,\n",
    "        opacity = 0.7,\n",
    "        size = df[\"scal\"]/100,\n",
    "\n",
    " #       colorbar = dict(\n",
    " #           thickness = 10,\n",
    " #           titleside = \"right\",\n",
    " #           outlinecolor = \"rgba(68, 68, 68, 0)\",\n",
    " #           ticks = \"outside\",\n",
    " #           ticklen = 3,\n",
    " #           showticksuffix = \"last\",\n",
    " #           ticksuffix = \" \",\n",
    " #           dtick = 0.1\n",
    "  #      ),\n",
    "    ),\n",
    "    type = 'scattergeo'\n",
    ") ]\n",
    "\n",
    "layout = dict(\n",
    "        #width=1000,\n",
    "        #height=500,\n",
    "    geo = dict(\n",
    "        scope = 'world',\n",
    "        showland = True,\n",
    "        landcolor = \"rgb(212, 212, 212)\",\n",
    "        subunitcolor = \"rgb(255, 255, 255)\",\n",
    "        countrycolor = \"rgb(255, 255, 255)\",\n",
    "        showlakes = True,\n",
    "        #showrivers= True,\n",
    "        lakecolor = \"rgb(255, 255, 255)\",\n",
    "        showsubunits = True,\n",
    "        showcountries = True,\n",
    "        showocean = True,\n",
    "        oceancolor= '#1F71E0',\n",
    "        resolution = 50,\n",
    "\n",
    "        projection = dict(\n",
    "            type = 'equirectangular',\n",
    "            rotation = dict(\n",
    "                lon = 0\n",
    "            )\n",
    "        ),\n",
    "        lonaxis = dict(\n",
    "            #showgrid = True,\n",
    "            gridwidth = 0.5,\n",
    "            range= [ -180.0, 180.0 ],\n",
    "            dtick = 5\n",
    "        ),\n",
    "        lataxis = dict (\n",
    "            #showgrid = True,\n",
    "            gridwidth = 0.5,\n",
    "            range= [ -90,90 ],\n",
    "            dtick = 5\n",
    "        )\n",
    "    ),\n",
    "    title = str(c),\n",
    ")\n",
    "\n",
    "\n",
    "fig = { 'data':data, 'layout':layout }\n",
    "plotly.plotly.iplot(fig, filename=c)"
   ]
  },
  {
   "cell_type": "code",
   "execution_count": null,
   "metadata": {},
   "outputs": [],
   "source": []
  }
 ],
 "metadata": {
  "kernelspec": {
   "display_name": "Python 2",
   "language": "python",
   "name": "python2"
  },
  "language_info": {
   "codemirror_mode": {
    "name": "ipython",
    "version": 2
   },
   "file_extension": ".py",
   "mimetype": "text/x-python",
   "name": "python",
   "nbconvert_exporter": "python",
   "pygments_lexer": "ipython2",
   "version": "2.7.15rc1"
  }
 },
 "nbformat": 4,
 "nbformat_minor": 2
}
