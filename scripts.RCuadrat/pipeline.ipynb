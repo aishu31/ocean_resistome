{
 "cells": [
  {
   "cell_type": "code",
   "execution_count": 1,
   "metadata": {},
   "outputs": [],
   "source": [
    "import os\n",
    "import pandas as pd\n",
    "import seaborn as sns\n",
    "import matplotlib.pyplot as plt\n",
    "from itertools import cycle\n",
    "import numpy as np\n",
    "from ete2 import NCBITaxa\n",
    "import re\n",
    "import scipy.stats as stats\n",
    "from statsmodels.stats.multicomp import pairwise_tukeyhsd\n",
    "from statsmodels.formula.api import ols\n",
    "from sklearn.decomposition import PCA\n",
    "from sklearn import preprocessing\n",
    "import plotly.plotly as py\n",
    "import plotly.graph_objs as go\n",
    "from sklearn.preprocessing import MinMaxScaler\n",
    "import plotly.offline as offline"
   ]
  },
  {
   "cell_type": "markdown",
   "metadata": {},
   "source": [
    "#### 12 regions TARA ocean co-assembly were used.\n",
    "\n",
    "##### checking number of contigs for each co-assembly\n",
    "\n",
    "```\n",
    "cd ../TARA_CONTIGS\n",
    "find *.fa -printf 'echo %p\\t\"$(grep -c \">\" %p )\";' | sh > contig_numbers.tsv\n",
    "``` \n",
    "\n"
   ]
  },
  {
   "cell_type": "code",
   "execution_count": 2,
   "metadata": {},
   "outputs": [],
   "source": [
    "contignumber=pd.read_csv(\"../TARA_CONTIGS/contig_numbers.tsv\",sep=\"\\s\",header=None,engine='python')\n",
    "contignumber[\"sample\"]=contignumber[0].str.replace(\".fa\",\"\")\n",
    "contignumber.drop(0,axis=1,inplace=True)\n",
    "contignumber.rename(columns={1:\"Contigs\"},inplace=True)"
   ]
  },
  {
   "cell_type": "code",
   "execution_count": 3,
   "metadata": {},
   "outputs": [
    {
     "data": {
      "text/html": [
       "<div>\n",
       "<style scoped>\n",
       "    .dataframe tbody tr th:only-of-type {\n",
       "        vertical-align: middle;\n",
       "    }\n",
       "\n",
       "    .dataframe tbody tr th {\n",
       "        vertical-align: top;\n",
       "    }\n",
       "\n",
       "    .dataframe thead th {\n",
       "        text-align: right;\n",
       "    }\n",
       "</style>\n",
       "<table border=\"1\" class=\"dataframe\">\n",
       "  <thead>\n",
       "    <tr style=\"text-align: right;\">\n",
       "      <th></th>\n",
       "      <th>Contigs</th>\n",
       "      <th>sample</th>\n",
       "    </tr>\n",
       "  </thead>\n",
       "  <tbody>\n",
       "    <tr>\n",
       "      <th>0</th>\n",
       "      <td>1382239</td>\n",
       "      <td>TARA_ANE_RAW</td>\n",
       "    </tr>\n",
       "    <tr>\n",
       "      <th>1</th>\n",
       "      <td>1267057</td>\n",
       "      <td>TARA_ANW_RAW</td>\n",
       "    </tr>\n",
       "    <tr>\n",
       "      <th>2</th>\n",
       "      <td>766472</td>\n",
       "      <td>TARA_ASE_RAW</td>\n",
       "    </tr>\n",
       "    <tr>\n",
       "      <th>3</th>\n",
       "      <td>989154</td>\n",
       "      <td>TARA_ASW_RAW</td>\n",
       "    </tr>\n",
       "    <tr>\n",
       "      <th>4</th>\n",
       "      <td>1608737</td>\n",
       "      <td>TARA_ION_RAW</td>\n",
       "    </tr>\n",
       "    <tr>\n",
       "      <th>5</th>\n",
       "      <td>1475271</td>\n",
       "      <td>TARA_IOS_RAW</td>\n",
       "    </tr>\n",
       "    <tr>\n",
       "      <th>6</th>\n",
       "      <td>1146485</td>\n",
       "      <td>TARA_MED_RAW</td>\n",
       "    </tr>\n",
       "    <tr>\n",
       "      <th>7</th>\n",
       "      <td>1663221</td>\n",
       "      <td>TARA_PON_RAW</td>\n",
       "    </tr>\n",
       "    <tr>\n",
       "      <th>8</th>\n",
       "      <td>2722083</td>\n",
       "      <td>TARA_PSE_RAW</td>\n",
       "    </tr>\n",
       "    <tr>\n",
       "      <th>9</th>\n",
       "      <td>1124813</td>\n",
       "      <td>TARA_PSW_RAW</td>\n",
       "    </tr>\n",
       "    <tr>\n",
       "      <th>10</th>\n",
       "      <td>1039053</td>\n",
       "      <td>TARA_RED_RAW</td>\n",
       "    </tr>\n",
       "    <tr>\n",
       "      <th>11</th>\n",
       "      <td>415693</td>\n",
       "      <td>TARA_SOC_RAW</td>\n",
       "    </tr>\n",
       "  </tbody>\n",
       "</table>\n",
       "</div>"
      ],
      "text/plain": [
       "    Contigs        sample\n",
       "0   1382239  TARA_ANE_RAW\n",
       "1   1267057  TARA_ANW_RAW\n",
       "2    766472  TARA_ASE_RAW\n",
       "3    989154  TARA_ASW_RAW\n",
       "4   1608737  TARA_ION_RAW\n",
       "5   1475271  TARA_IOS_RAW\n",
       "6   1146485  TARA_MED_RAW\n",
       "7   1663221  TARA_PON_RAW\n",
       "8   2722083  TARA_PSE_RAW\n",
       "9   1124813  TARA_PSW_RAW\n",
       "10  1039053  TARA_RED_RAW\n",
       "11   415693  TARA_SOC_RAW"
      ]
     },
     "execution_count": 3,
     "metadata": {},
     "output_type": "execute_result"
    }
   ],
   "source": [
    "contignumber"
   ]
  },
  {
   "cell_type": "markdown",
   "metadata": {},
   "source": [
    "### Concatenating a fasta with all contigs from 12 regions \n",
    "\n",
    "```\n",
    "cd ../TARA_CONTIGS/\n",
    "mkdir all\n",
    "cat *.fa > all/all_contigs.fa\n",
    "```\n"
   ]
  },
  {
   "cell_type": "markdown",
   "metadata": {},
   "source": [
    "#### First, metagenemark was used to extract ORFs \n",
    "\n",
    "Using script \"metagenmark.sh\" \n",
    "\n",
    "\n",
    "```\n",
    "out=$(readlink -f ../TARA_ORFS)/\n",
    "mkdir -p ${out}/nt\n",
    "mkdir -p ${out}/ptn\n",
    "\n",
    "cd ../TARA_CONTIGS\n",
    "\n",
    "for f in $(ls *.fa );do\n",
    "\n",
    "~/myproject/MetaGeneMark_linux_64/mgm/./gmhmmp -a -d -m  ~/myproject/MetaGeneMark_linux_64/mgm/MetaGeneMark_v1.mod $f -D ${out}/nt/$f.fna -A ${out}/ptn/$f.faa\n",
    "\n",
    "```\n",
    "\n",
    "#### Metagenemark had some problems on format of fasta files, so I had to fix with \n",
    "using fix_header.sh\n",
    "```\n",
    "#!/bin/bash\n",
    "\n",
    "inreads=$(readlink -f ../TARA_ORFS)/\n",
    "\n",
    "\n",
    "logs=$(readlink -f ../slurm_logs)/\n",
    "\n",
    "cd ${inreads}/nt\n",
    "\n",
    "for f in $(ls *.fna );do\n",
    "echo $f\n",
    "sbatch -c 4 -p hugemem,himem,blade -o ${logs}fixheader_${f}.%j.out << EOF\n",
    "#!/bin/bash\n",
    "sed -i -e 's/>TARA/TARA/g' $f\n",
    "EOF\n",
    "done\n",
    "\n",
    "cd ${inreads}/ptn\n",
    "\n",
    "for f in $(ls *.faa );do\n",
    "echo $f\n",
    "sbatch -c 4 -p hugemem,himem,blade -o ${logs}fixheader_${f}.%j.out << EOF\n",
    "#!/bin/bash\n",
    "sed -i -e 's/>TARA/TARA/g' $f\n",
    "EOF\n",
    "done\n",
    "```\n",
    "\n",
    "PS: also problems with the first line in some files =  blank line, edited manually but need to fix it"
   ]
  },
  {
   "cell_type": "markdown",
   "metadata": {},
   "source": [
    "### Generating tabular files with contigs id -- gene ids\n",
    "\n",
    "```\n",
    "for f in $(ls ../TARA_ORFS/nt/*.fna);do grep \">\" $f > ${f%.fa.fna}_orf_contigs.tsv;done \n",
    "for f in $(ls ../TARA_ORFS/ptn/*.faa);do grep \">\" $f > ${f%.fa.faa}_orf_contigs.tsv;done \n",
    "\n",
    "```"
   ]
  },
  {
   "cell_type": "markdown",
   "metadata": {},
   "source": [
    "checking number of contigs for each co-assembly\n",
    "``` \n",
    "cd ../TARA_ORFS/nt\n",
    "find *.fna -printf 'echo %p\\t\"$(grep -c \">\" %p )\";' | sh > orf_numbers.tsv\n",
    "``` "
   ]
  },
  {
   "cell_type": "code",
   "execution_count": 4,
   "metadata": {},
   "outputs": [],
   "source": [
    "orfnumber=pd.read_csv(\"../TARA_ORFS/nt/orf_numbers.tsv\",sep=\"\\s\",header=None,engine='python')\n",
    "orfnumber[\"sample\"]=orfnumber[0].str.replace(\".fa.fna\",\"\")\n",
    "orfnumber.drop(0,axis=1,inplace=True)\n",
    "orfnumber.rename(columns={1:\"ORFs\"},inplace=True)\n",
    "table_number_paper=pd.merge(contignumber,orfnumber,on=\"sample\")\n",
    "table_number_paper=table_number_paper[[\"sample\",\"Contigs\",\"ORFs\"]]\n"
   ]
  },
  {
   "cell_type": "code",
   "execution_count": 5,
   "metadata": {},
   "outputs": [
    {
     "data": {
      "text/html": [
       "<div>\n",
       "<style scoped>\n",
       "    .dataframe tbody tr th:only-of-type {\n",
       "        vertical-align: middle;\n",
       "    }\n",
       "\n",
       "    .dataframe tbody tr th {\n",
       "        vertical-align: top;\n",
       "    }\n",
       "\n",
       "    .dataframe thead th {\n",
       "        text-align: right;\n",
       "    }\n",
       "</style>\n",
       "<table border=\"1\" class=\"dataframe\">\n",
       "  <thead>\n",
       "    <tr style=\"text-align: right;\">\n",
       "      <th></th>\n",
       "      <th>sample</th>\n",
       "      <th>Contigs</th>\n",
       "      <th>ORFs</th>\n",
       "    </tr>\n",
       "  </thead>\n",
       "  <tbody>\n",
       "    <tr>\n",
       "      <th>0</th>\n",
       "      <td>TARA_ANE_RAW</td>\n",
       "      <td>1382239</td>\n",
       "      <td>3686619</td>\n",
       "    </tr>\n",
       "    <tr>\n",
       "      <th>1</th>\n",
       "      <td>TARA_ANW_RAW</td>\n",
       "      <td>1267057</td>\n",
       "      <td>3308183</td>\n",
       "    </tr>\n",
       "    <tr>\n",
       "      <th>2</th>\n",
       "      <td>TARA_ASE_RAW</td>\n",
       "      <td>766472</td>\n",
       "      <td>1842937</td>\n",
       "    </tr>\n",
       "    <tr>\n",
       "      <th>3</th>\n",
       "      <td>TARA_ASW_RAW</td>\n",
       "      <td>989154</td>\n",
       "      <td>2502625</td>\n",
       "    </tr>\n",
       "    <tr>\n",
       "      <th>4</th>\n",
       "      <td>TARA_ION_RAW</td>\n",
       "      <td>1608737</td>\n",
       "      <td>4257000</td>\n",
       "    </tr>\n",
       "    <tr>\n",
       "      <th>5</th>\n",
       "      <td>TARA_IOS_RAW</td>\n",
       "      <td>1475271</td>\n",
       "      <td>3736229</td>\n",
       "    </tr>\n",
       "    <tr>\n",
       "      <th>6</th>\n",
       "      <td>TARA_MED_RAW</td>\n",
       "      <td>1146485</td>\n",
       "      <td>3344341</td>\n",
       "    </tr>\n",
       "    <tr>\n",
       "      <th>7</th>\n",
       "      <td>TARA_PON_RAW</td>\n",
       "      <td>1663221</td>\n",
       "      <td>4368436</td>\n",
       "    </tr>\n",
       "    <tr>\n",
       "      <th>8</th>\n",
       "      <td>TARA_PSE_RAW</td>\n",
       "      <td>2722083</td>\n",
       "      <td>7155344</td>\n",
       "    </tr>\n",
       "    <tr>\n",
       "      <th>9</th>\n",
       "      <td>TARA_PSW_RAW</td>\n",
       "      <td>1124813</td>\n",
       "      <td>3080817</td>\n",
       "    </tr>\n",
       "    <tr>\n",
       "      <th>10</th>\n",
       "      <td>TARA_RED_RAW</td>\n",
       "      <td>1039053</td>\n",
       "      <td>2937951</td>\n",
       "    </tr>\n",
       "    <tr>\n",
       "      <th>11</th>\n",
       "      <td>TARA_SOC_RAW</td>\n",
       "      <td>415693</td>\n",
       "      <td>1029309</td>\n",
       "    </tr>\n",
       "  </tbody>\n",
       "</table>\n",
       "</div>"
      ],
      "text/plain": [
       "          sample  Contigs     ORFs\n",
       "0   TARA_ANE_RAW  1382239  3686619\n",
       "1   TARA_ANW_RAW  1267057  3308183\n",
       "2   TARA_ASE_RAW   766472  1842937\n",
       "3   TARA_ASW_RAW   989154  2502625\n",
       "4   TARA_ION_RAW  1608737  4257000\n",
       "5   TARA_IOS_RAW  1475271  3736229\n",
       "6   TARA_MED_RAW  1146485  3344341\n",
       "7   TARA_PON_RAW  1663221  4368436\n",
       "8   TARA_PSE_RAW  2722083  7155344\n",
       "9   TARA_PSW_RAW  1124813  3080817\n",
       "10  TARA_RED_RAW  1039053  2937951\n",
       "11  TARA_SOC_RAW   415693  1029309"
      ]
     },
     "execution_count": 5,
     "metadata": {},
     "output_type": "execute_result"
    }
   ],
   "source": [
    "table_number_paper"
   ]
  },
  {
   "cell_type": "code",
   "execution_count": 6,
   "metadata": {},
   "outputs": [
    {
     "data": {
      "text/plain": [
       "15600278"
      ]
     },
     "execution_count": 6,
     "metadata": {},
     "output_type": "execute_result"
    }
   ],
   "source": [
    "table_number_paper[\"Contigs\"].sum()"
   ]
  },
  {
   "cell_type": "code",
   "execution_count": 7,
   "metadata": {},
   "outputs": [
    {
     "data": {
      "text/plain": [
       "41249791"
      ]
     },
     "execution_count": 7,
     "metadata": {},
     "output_type": "execute_result"
    }
   ],
   "source": [
    "table_number_paper[\"ORFs\"].sum()"
   ]
  },
  {
   "cell_type": "markdown",
   "metadata": {},
   "source": [
    "### Open the tabular files generated, concatanating in a new dataframe"
   ]
  },
  {
   "cell_type": "code",
   "execution_count": 8,
   "metadata": {},
   "outputs": [],
   "source": [
    "path_arg=\"../TARA_ORFS/nt/\"\n",
    "files  = os.listdir(path_arg)\n",
    "\n",
    "\n",
    "contig_gene_ids=pd.DataFrame()\n",
    "for f in files:\n",
    "    if f.endswith(\".tsv\") and f.startswith(\"TARA\"):\n",
    "        df2=pd.read_csv(path_arg+f,sep=\"\\s\",header=None,engine='python')\n",
    "        df2[\"sample\"]=f\n",
    "        contig_gene_ids=pd.concat([contig_gene_ids,df2])\n",
    "        \n",
    "contig_gene_ids.columns=[\"read_id\",\"contig_id\",\"sample\"]\n",
    "contig_gene_ids[\"read_id\"]=contig_gene_ids[\"read_id\"].str.replace(\">\",\"\")\n",
    "contig_gene_ids[\"sample\"]=contig_gene_ids[\"sample\"].str.replace(\"_orf_contigs.tsv\",\"\")\n",
    "\n",
    "path_arg=\"../TARA_ORFS/ptn/\"\n",
    "files  = os.listdir(path_arg)\n",
    "\n",
    "\n",
    "contig_gene_ids_ptn=pd.DataFrame()\n",
    "for f in files:\n",
    "    if f.endswith(\".tsv\") and f.startswith(\"TARA\"):\n",
    "        df2=pd.read_csv(path_arg+f,sep=\"\\s\",header=None,engine='python')\n",
    "        df2[\"sample\"]=f\n",
    "        contig_gene_ids_ptn=pd.concat([contig_gene_ids_ptn,df2])\n",
    "        \n",
    "contig_gene_ids_ptn.columns=[\"read_id\",\"contig_id\",\"sample\"]\n",
    "contig_gene_ids_ptn[\"read_id\"]=contig_gene_ids_ptn[\"read_id\"].str.replace(\">\",\"\")\n",
    "contig_gene_ids_ptn[\"sample\"]=contig_gene_ids_ptn[\"sample\"].str.replace(\"_orf_contigs.tsv\",\"\")\n",
    "\n",
    "contig_gene_ids_ptn[\"gene\"]=contig_gene_ids_ptn[\"read_id\"].str.split(\"|\",expand=True)[0]\n",
    "contig_gene_ids[\"gene\"]=contig_gene_ids[\"read_id\"].str.split(\"|\",expand=True)[0]\n",
    "new_contig_gene_ids=pd.merge(contig_gene_ids,contig_gene_ids_ptn,on=[\"gene\",\"contig_id\",\"sample\"])\n",
    "new_contig_gene_ids.drop(\"gene\",axis=1,inplace=True)\n",
    "new_contig_gene_ids.rename(columns={\"read_id_x\":\"read_id\",\"read_id_y\":\"ptn_id\"},inplace=True)"
   ]
  },
  {
   "cell_type": "code",
   "execution_count": 9,
   "metadata": {},
   "outputs": [
    {
     "data": {
      "text/html": [
       "<div>\n",
       "<style scoped>\n",
       "    .dataframe tbody tr th:only-of-type {\n",
       "        vertical-align: middle;\n",
       "    }\n",
       "\n",
       "    .dataframe tbody tr th {\n",
       "        vertical-align: top;\n",
       "    }\n",
       "\n",
       "    .dataframe thead th {\n",
       "        text-align: right;\n",
       "    }\n",
       "</style>\n",
       "<table border=\"1\" class=\"dataframe\">\n",
       "  <thead>\n",
       "    <tr style=\"text-align: right;\">\n",
       "      <th></th>\n",
       "      <th>read_id</th>\n",
       "      <th>contig_id</th>\n",
       "      <th>sample</th>\n",
       "      <th>ptn_id</th>\n",
       "    </tr>\n",
       "  </thead>\n",
       "  <tbody>\n",
       "    <tr>\n",
       "      <th>0</th>\n",
       "      <td>gene_1|GeneMark.hmm|261_nt|-|329|589</td>\n",
       "      <td>TARA_SOC-k99_292</td>\n",
       "      <td>TARA_SOC_RAW</td>\n",
       "      <td>gene_1|GeneMark.hmm|86_aa|-|329|589</td>\n",
       "    </tr>\n",
       "    <tr>\n",
       "      <th>1</th>\n",
       "      <td>gene_2|GeneMark.hmm|372_nt|-|590|961</td>\n",
       "      <td>TARA_SOC-k99_292</td>\n",
       "      <td>TARA_SOC_RAW</td>\n",
       "      <td>gene_2|GeneMark.hmm|123_aa|-|590|961</td>\n",
       "    </tr>\n",
       "    <tr>\n",
       "      <th>2</th>\n",
       "      <td>gene_3|GeneMark.hmm|210_nt|+|3|212</td>\n",
       "      <td>TARA_SOC-k99_298</td>\n",
       "      <td>TARA_SOC_RAW</td>\n",
       "      <td>gene_3|GeneMark.hmm|69_aa|+|3|212</td>\n",
       "    </tr>\n",
       "    <tr>\n",
       "      <th>3</th>\n",
       "      <td>gene_4|GeneMark.hmm|558_nt|-|1|558</td>\n",
       "      <td>TARA_SOC-k99_312</td>\n",
       "      <td>TARA_SOC_RAW</td>\n",
       "      <td>gene_4|GeneMark.hmm|186_aa|-|1|558</td>\n",
       "    </tr>\n",
       "    <tr>\n",
       "      <th>4</th>\n",
       "      <td>gene_5|GeneMark.hmm|474_nt|-|555|1028</td>\n",
       "      <td>TARA_SOC-k99_312</td>\n",
       "      <td>TARA_SOC_RAW</td>\n",
       "      <td>gene_5|GeneMark.hmm|157_aa|-|555|1028</td>\n",
       "    </tr>\n",
       "  </tbody>\n",
       "</table>\n",
       "</div>"
      ],
      "text/plain": [
       "                                 read_id         contig_id        sample  \\\n",
       "0   gene_1|GeneMark.hmm|261_nt|-|329|589  TARA_SOC-k99_292  TARA_SOC_RAW   \n",
       "1   gene_2|GeneMark.hmm|372_nt|-|590|961  TARA_SOC-k99_292  TARA_SOC_RAW   \n",
       "2     gene_3|GeneMark.hmm|210_nt|+|3|212  TARA_SOC-k99_298  TARA_SOC_RAW   \n",
       "3     gene_4|GeneMark.hmm|558_nt|-|1|558  TARA_SOC-k99_312  TARA_SOC_RAW   \n",
       "4  gene_5|GeneMark.hmm|474_nt|-|555|1028  TARA_SOC-k99_312  TARA_SOC_RAW   \n",
       "\n",
       "                                  ptn_id  \n",
       "0    gene_1|GeneMark.hmm|86_aa|-|329|589  \n",
       "1   gene_2|GeneMark.hmm|123_aa|-|590|961  \n",
       "2      gene_3|GeneMark.hmm|69_aa|+|3|212  \n",
       "3     gene_4|GeneMark.hmm|186_aa|-|1|558  \n",
       "4  gene_5|GeneMark.hmm|157_aa|-|555|1028  "
      ]
     },
     "execution_count": 9,
     "metadata": {},
     "output_type": "execute_result"
    }
   ],
   "source": [
    "new_contig_gene_ids.head()"
   ]
  },
  {
   "cell_type": "markdown",
   "metadata": {},
   "source": [
    "#### deepARG was used to find ARGs in each region\n",
    "using deepARG.sh\n",
    "```\n",
    "#!/bin/bash\n",
    "\n",
    "inreads=$(readlink -f ../TARA_ORFS/nt)/\n",
    "deep=$(readlink -f /beegfs/group_bit/home/RCuadrat/projects/Bioinformatics/bit_FLPA/scripts.RCuadrat/deeparg-ss)/\n",
    "\n",
    "mkdir -p ../deeparg_out\n",
    "out=$(readlink -f ../deeparg_out)/\n",
    "logs=$(readlink -f ../slurm_logs)/\n",
    "\n",
    "cd ${inreads}\n",
    "for f in $(ls *.fna );do\n",
    "echo $f\n",
    "sbatch -c 18 -p hugemem,himem,blade -o ${logs}deep_${f}.%j.out << EOF\n",
    "#!/bin/bash\n",
    "python ${deep}deepARG.py --align --type nucl --genes --input $f --output ${out}${f%.fna}.out\n",
    "EOF\n",
    "done\n",
    "\n",
    "```\n"
   ]
  },
  {
   "cell_type": "markdown",
   "metadata": {},
   "source": [
    "### Parsing deepARG results"
   ]
  },
  {
   "cell_type": "code",
   "execution_count": 10,
   "metadata": {},
   "outputs": [],
   "source": [
    "path_arg=\"../deeparg_out/\"\n",
    "files  = os.listdir(path_arg)"
   ]
  },
  {
   "cell_type": "code",
   "execution_count": 11,
   "metadata": {},
   "outputs": [],
   "source": [
    "deepARG=pd.DataFrame()\n",
    "for f in files:\n",
    "    if f.endswith(\".mapping.ARG\"):\n",
    "        df=pd.read_csv(path_arg+f,sep=\"\\t\")\n",
    "        df[\"sample\"]=f\n",
    "        deepARG=pd.concat([deepARG,df])\n",
    "deepARG[\"gene\"]=deepARG[\"best-hit\"].str.split(\"|\",expand=True)[4]\n",
    "deepARG[\"sample\"]=deepARG[\"sample\"].str.replace(\".fa.out.mapping.ARG\",\"\")"
   ]
  },
  {
   "cell_type": "code",
   "execution_count": 12,
   "metadata": {},
   "outputs": [
    {
     "data": {
      "text/html": [
       "<div>\n",
       "<style scoped>\n",
       "    .dataframe tbody tr th:only-of-type {\n",
       "        vertical-align: middle;\n",
       "    }\n",
       "\n",
       "    .dataframe tbody tr th {\n",
       "        vertical-align: top;\n",
       "    }\n",
       "\n",
       "    .dataframe thead th {\n",
       "        text-align: right;\n",
       "    }\n",
       "</style>\n",
       "<table border=\"1\" class=\"dataframe\">\n",
       "  <thead>\n",
       "    <tr style=\"text-align: right;\">\n",
       "      <th></th>\n",
       "      <th>#ARG</th>\n",
       "      <th>query-start</th>\n",
       "      <th>query-end</th>\n",
       "      <th>read_id</th>\n",
       "      <th>predicted_ARG-class</th>\n",
       "      <th>best-hit</th>\n",
       "      <th>probability</th>\n",
       "      <th>identity</th>\n",
       "      <th>alignment-length</th>\n",
       "      <th>alignment-bitscore</th>\n",
       "      <th>alignment-evalue</th>\n",
       "      <th>problematic_classification</th>\n",
       "      <th>sample</th>\n",
       "      <th>gene</th>\n",
       "    </tr>\n",
       "  </thead>\n",
       "  <tbody>\n",
       "    <tr>\n",
       "      <th>0</th>\n",
       "      <td>PATA</td>\n",
       "      <td>76</td>\n",
       "      <td>441</td>\n",
       "      <td>gene_4195642|GeneMark.hmm|1125_nt|+|2|1126</td>\n",
       "      <td>quinolone</td>\n",
       "      <td>NP_417544.5|FEATURES|CARD|quinolone|patA</td>\n",
       "      <td>0.921137</td>\n",
       "      <td>35.1</td>\n",
       "      <td>370</td>\n",
       "      <td>204.1</td>\n",
       "      <td>6.700000e-53</td>\n",
       "      <td>1</td>\n",
       "      <td>TARA_ION_RAW</td>\n",
       "      <td>patA</td>\n",
       "    </tr>\n",
       "    <tr>\n",
       "      <th>1</th>\n",
       "      <td>MSRB</td>\n",
       "      <td>14</td>\n",
       "      <td>133</td>\n",
       "      <td>gene_1913961|GeneMark.hmm|393_nt|-|670|1062</td>\n",
       "      <td>macrolide-lincosamide-streptogramin</td>\n",
       "      <td>NP_416292.1|FEATURES|CARD|macrolide-lincosamid...</td>\n",
       "      <td>0.974641</td>\n",
       "      <td>40.5</td>\n",
       "      <td>121</td>\n",
       "      <td>92.8</td>\n",
       "      <td>7.600000e-20</td>\n",
       "      <td>1</td>\n",
       "      <td>TARA_ION_RAW</td>\n",
       "      <td>msrB</td>\n",
       "    </tr>\n",
       "    <tr>\n",
       "      <th>2</th>\n",
       "      <td>UPPP</td>\n",
       "      <td>47</td>\n",
       "      <td>263</td>\n",
       "      <td>gene_3637740|GeneMark.hmm|687_nt|+|1|687</td>\n",
       "      <td>bacitracin</td>\n",
       "      <td>A5KNX8|FEATURES|UNIPROT|bacitracin|uppP</td>\n",
       "      <td>1.000000</td>\n",
       "      <td>32.6</td>\n",
       "      <td>227</td>\n",
       "      <td>77.4</td>\n",
       "      <td>5.800000e-15</td>\n",
       "      <td>1</td>\n",
       "      <td>TARA_ION_RAW</td>\n",
       "      <td>uppP</td>\n",
       "    </tr>\n",
       "    <tr>\n",
       "      <th>3</th>\n",
       "      <td>PATA</td>\n",
       "      <td>76</td>\n",
       "      <td>447</td>\n",
       "      <td>gene_222026|GeneMark.hmm|1164_nt|+|198|1361</td>\n",
       "      <td>quinolone</td>\n",
       "      <td>NP_417544.5|FEATURES|CARD|quinolone|patA</td>\n",
       "      <td>0.870956</td>\n",
       "      <td>30.4</td>\n",
       "      <td>375</td>\n",
       "      <td>169.5</td>\n",
       "      <td>1.900000e-42</td>\n",
       "      <td>1</td>\n",
       "      <td>TARA_ION_RAW</td>\n",
       "      <td>patA</td>\n",
       "    </tr>\n",
       "    <tr>\n",
       "      <th>4</th>\n",
       "      <td>GOLS</td>\n",
       "      <td>1</td>\n",
       "      <td>129</td>\n",
       "      <td>gene_2742391|GeneMark.hmm|393_nt|-|2005|2397</td>\n",
       "      <td>multidrug</td>\n",
       "      <td>NP_459349.1|FEATURES|CARD|multidrug|golS</td>\n",
       "      <td>0.988998</td>\n",
       "      <td>51.9</td>\n",
       "      <td>129</td>\n",
       "      <td>138.7</td>\n",
       "      <td>1.200000e-33</td>\n",
       "      <td>1</td>\n",
       "      <td>TARA_ION_RAW</td>\n",
       "      <td>golS</td>\n",
       "    </tr>\n",
       "  </tbody>\n",
       "</table>\n",
       "</div>"
      ],
      "text/plain": [
       "   #ARG  query-start  query-end                                       read_id  \\\n",
       "0  PATA           76        441    gene_4195642|GeneMark.hmm|1125_nt|+|2|1126   \n",
       "1  MSRB           14        133   gene_1913961|GeneMark.hmm|393_nt|-|670|1062   \n",
       "2  UPPP           47        263      gene_3637740|GeneMark.hmm|687_nt|+|1|687   \n",
       "3  PATA           76        447   gene_222026|GeneMark.hmm|1164_nt|+|198|1361   \n",
       "4  GOLS            1        129  gene_2742391|GeneMark.hmm|393_nt|-|2005|2397   \n",
       "\n",
       "                   predicted_ARG-class  \\\n",
       "0                            quinolone   \n",
       "1  macrolide-lincosamide-streptogramin   \n",
       "2                           bacitracin   \n",
       "3                            quinolone   \n",
       "4                            multidrug   \n",
       "\n",
       "                                            best-hit  probability  identity  \\\n",
       "0           NP_417544.5|FEATURES|CARD|quinolone|patA     0.921137      35.1   \n",
       "1  NP_416292.1|FEATURES|CARD|macrolide-lincosamid...     0.974641      40.5   \n",
       "2            A5KNX8|FEATURES|UNIPROT|bacitracin|uppP     1.000000      32.6   \n",
       "3           NP_417544.5|FEATURES|CARD|quinolone|patA     0.870956      30.4   \n",
       "4           NP_459349.1|FEATURES|CARD|multidrug|golS     0.988998      51.9   \n",
       "\n",
       "   alignment-length  alignment-bitscore  alignment-evalue  \\\n",
       "0               370               204.1      6.700000e-53   \n",
       "1               121                92.8      7.600000e-20   \n",
       "2               227                77.4      5.800000e-15   \n",
       "3               375               169.5      1.900000e-42   \n",
       "4               129               138.7      1.200000e-33   \n",
       "\n",
       "   problematic_classification        sample  gene  \n",
       "0                           1  TARA_ION_RAW  patA  \n",
       "1                           1  TARA_ION_RAW  msrB  \n",
       "2                           1  TARA_ION_RAW  uppP  \n",
       "3                           1  TARA_ION_RAW  patA  \n",
       "4                           1  TARA_ION_RAW  golS  "
      ]
     },
     "execution_count": 12,
     "metadata": {},
     "output_type": "execute_result"
    }
   ],
   "source": [
    "deepARG.head()"
   ]
  },
  {
   "cell_type": "code",
   "execution_count": 13,
   "metadata": {},
   "outputs": [],
   "source": [
    "#deepARG=deepARG[deepARG[\"#ARG\"]!=\"MSRB\"]"
   ]
  },
  {
   "cell_type": "code",
   "execution_count": null,
   "metadata": {},
   "outputs": [],
   "source": []
  },
  {
   "cell_type": "code",
   "execution_count": 14,
   "metadata": {},
   "outputs": [
    {
     "data": {
      "text/plain": [
       "{'aminocoumarin',\n",
       " 'aminoglycoside',\n",
       " 'bacitracin',\n",
       " 'beta_lactam',\n",
       " 'bleomycin',\n",
       " 'chloramphenicol',\n",
       " 'fosfomycin',\n",
       " 'fosmidomycin',\n",
       " 'glycopeptide',\n",
       " 'kasugamycin',\n",
       " 'macrolide-lincosamide-streptogramin',\n",
       " 'multidrug',\n",
       " 'multidrug-mutation',\n",
       " 'mupirocin',\n",
       " 'peptide',\n",
       " 'pleuromutilin',\n",
       " 'polymyxin',\n",
       " 'puromycin',\n",
       " 'qa_compound',\n",
       " 'quinolone',\n",
       " 'rifampin',\n",
       " 'streptothricin',\n",
       " 'sulfonamide',\n",
       " 'tetracenomycin',\n",
       " 'tetracycline',\n",
       " 'thiostrepton',\n",
       " 'triclosan',\n",
       " 'trimethoprim'}"
      ]
     },
     "execution_count": 14,
     "metadata": {},
     "output_type": "execute_result"
    }
   ],
   "source": [
    "set(deepARG[\"predicted_ARG-class\"])"
   ]
  },
  {
   "cell_type": "code",
   "execution_count": 15,
   "metadata": {},
   "outputs": [],
   "source": [
    "#How many ORFs from each class?\n",
    "\n",
    "### this is not normalized by the actually real number of genes from each class on the database\n",
    "\n",
    "##### another ideia is to to enrichment analysis: background is the deepARG database (number of ARGs per class)"
   ]
  },
  {
   "cell_type": "code",
   "execution_count": 16,
   "metadata": {},
   "outputs": [
    {
     "data": {
      "image/png": "[encoded data removed]",
      "text/plain": [
       "<Figure size 864x720 with 1 Axes>"
      ]
     },
     "metadata": {},
     "output_type": "display_data"
    }
   ],
   "source": [
    "plt.figure(figsize=(12,10))\n",
    "deepARG.groupby([\"predicted_ARG-class\"])[\"#ARG\"].count().sort_values(ascending=False).plot(kind=\"bar\")\n",
    "plt.ylabel(\"Number of ORFs\")\n",
    "plt.show()"
   ]
  },
  {
   "cell_type": "code",
   "execution_count": 17,
   "metadata": {},
   "outputs": [
    {
     "data": {
      "text/html": [
       "<div>\n",
       "<style scoped>\n",
       "    .dataframe tbody tr th:only-of-type {\n",
       "        vertical-align: middle;\n",
       "    }\n",
       "\n",
       "    .dataframe tbody tr th {\n",
       "        vertical-align: top;\n",
       "    }\n",
       "\n",
       "    .dataframe thead th {\n",
       "        text-align: right;\n",
       "    }\n",
       "</style>\n",
       "<table border=\"1\" class=\"dataframe\">\n",
       "  <thead>\n",
       "    <tr style=\"text-align: right;\">\n",
       "      <th></th>\n",
       "      <th>#ARG</th>\n",
       "      <th>query-start</th>\n",
       "      <th>query-end</th>\n",
       "      <th>read_id</th>\n",
       "      <th>predicted_ARG-class</th>\n",
       "      <th>best-hit</th>\n",
       "      <th>probability</th>\n",
       "      <th>identity</th>\n",
       "      <th>alignment-length</th>\n",
       "      <th>alignment-bitscore</th>\n",
       "      <th>alignment-evalue</th>\n",
       "      <th>problematic_classification</th>\n",
       "      <th>sample</th>\n",
       "      <th>gene</th>\n",
       "    </tr>\n",
       "  </thead>\n",
       "  <tbody>\n",
       "    <tr>\n",
       "      <th>0</th>\n",
       "      <td>PATA</td>\n",
       "      <td>76</td>\n",
       "      <td>441</td>\n",
       "      <td>gene_4195642|GeneMark.hmm|1125_nt|+|2|1126</td>\n",
       "      <td>quinolone</td>\n",
       "      <td>NP_417544.5|FEATURES|CARD|quinolone|patA</td>\n",
       "      <td>0.921137</td>\n",
       "      <td>35.1</td>\n",
       "      <td>370</td>\n",
       "      <td>204.1</td>\n",
       "      <td>6.700000e-53</td>\n",
       "      <td>1</td>\n",
       "      <td>TARA_ION_RAW</td>\n",
       "      <td>patA</td>\n",
       "    </tr>\n",
       "    <tr>\n",
       "      <th>1</th>\n",
       "      <td>MSRB</td>\n",
       "      <td>14</td>\n",
       "      <td>133</td>\n",
       "      <td>gene_1913961|GeneMark.hmm|393_nt|-|670|1062</td>\n",
       "      <td>macrolide-lincosamide-streptogramin</td>\n",
       "      <td>NP_416292.1|FEATURES|CARD|macrolide-lincosamid...</td>\n",
       "      <td>0.974641</td>\n",
       "      <td>40.5</td>\n",
       "      <td>121</td>\n",
       "      <td>92.8</td>\n",
       "      <td>7.600000e-20</td>\n",
       "      <td>1</td>\n",
       "      <td>TARA_ION_RAW</td>\n",
       "      <td>msrB</td>\n",
       "    </tr>\n",
       "    <tr>\n",
       "      <th>2</th>\n",
       "      <td>UPPP</td>\n",
       "      <td>47</td>\n",
       "      <td>263</td>\n",
       "      <td>gene_3637740|GeneMark.hmm|687_nt|+|1|687</td>\n",
       "      <td>bacitracin</td>\n",
       "      <td>A5KNX8|FEATURES|UNIPROT|bacitracin|uppP</td>\n",
       "      <td>1.000000</td>\n",
       "      <td>32.6</td>\n",
       "      <td>227</td>\n",
       "      <td>77.4</td>\n",
       "      <td>5.800000e-15</td>\n",
       "      <td>1</td>\n",
       "      <td>TARA_ION_RAW</td>\n",
       "      <td>uppP</td>\n",
       "    </tr>\n",
       "    <tr>\n",
       "      <th>3</th>\n",
       "      <td>PATA</td>\n",
       "      <td>76</td>\n",
       "      <td>447</td>\n",
       "      <td>gene_222026|GeneMark.hmm|1164_nt|+|198|1361</td>\n",
       "      <td>quinolone</td>\n",
       "      <td>NP_417544.5|FEATURES|CARD|quinolone|patA</td>\n",
       "      <td>0.870956</td>\n",
       "      <td>30.4</td>\n",
       "      <td>375</td>\n",
       "      <td>169.5</td>\n",
       "      <td>1.900000e-42</td>\n",
       "      <td>1</td>\n",
       "      <td>TARA_ION_RAW</td>\n",
       "      <td>patA</td>\n",
       "    </tr>\n",
       "    <tr>\n",
       "      <th>4</th>\n",
       "      <td>GOLS</td>\n",
       "      <td>1</td>\n",
       "      <td>129</td>\n",
       "      <td>gene_2742391|GeneMark.hmm|393_nt|-|2005|2397</td>\n",
       "      <td>multidrug</td>\n",
       "      <td>NP_459349.1|FEATURES|CARD|multidrug|golS</td>\n",
       "      <td>0.988998</td>\n",
       "      <td>51.9</td>\n",
       "      <td>129</td>\n",
       "      <td>138.7</td>\n",
       "      <td>1.200000e-33</td>\n",
       "      <td>1</td>\n",
       "      <td>TARA_ION_RAW</td>\n",
       "      <td>golS</td>\n",
       "    </tr>\n",
       "    <tr>\n",
       "      <th>5</th>\n",
       "      <td>TETB(60)</td>\n",
       "      <td>29</td>\n",
       "      <td>239</td>\n",
       "      <td>gene_1224955|GeneMark.hmm|1737_nt|+|8920|10656</td>\n",
       "      <td>tetracycline</td>\n",
       "      <td>ANZ79241.1|FEATURES|CARD|tetracycline|tetB(60)</td>\n",
       "      <td>0.926290</td>\n",
       "      <td>30.5</td>\n",
       "      <td>220</td>\n",
       "      <td>96.3</td>\n",
       "      <td>3.000000e-20</td>\n",
       "      <td>1</td>\n",
       "      <td>TARA_ION_RAW</td>\n",
       "      <td>tetB(60)</td>\n",
       "    </tr>\n",
       "    <tr>\n",
       "      <th>6</th>\n",
       "      <td>SULA</td>\n",
       "      <td>2</td>\n",
       "      <td>259</td>\n",
       "      <td>gene_3950615|GeneMark.hmm|846_nt|+|396|1241</td>\n",
       "      <td>sulfonamide</td>\n",
       "      <td>P59655|FEATURES|UNIPROT|sulfonamide|sulA</td>\n",
       "      <td>0.932225</td>\n",
       "      <td>35.1</td>\n",
       "      <td>265</td>\n",
       "      <td>135.6</td>\n",
       "      <td>2.200000e-32</td>\n",
       "      <td>1</td>\n",
       "      <td>TARA_ION_RAW</td>\n",
       "      <td>sulA</td>\n",
       "    </tr>\n",
       "    <tr>\n",
       "      <th>7</th>\n",
       "      <td>PATA</td>\n",
       "      <td>76</td>\n",
       "      <td>449</td>\n",
       "      <td>gene_467525|GeneMark.hmm|1323_nt|+|18481|19803</td>\n",
       "      <td>quinolone</td>\n",
       "      <td>NP_417544.5|FEATURES|CARD|quinolone|patA</td>\n",
       "      <td>0.925280</td>\n",
       "      <td>33.6</td>\n",
       "      <td>402</td>\n",
       "      <td>208.4</td>\n",
       "      <td>4.200000e-54</td>\n",
       "      <td>1</td>\n",
       "      <td>TARA_ION_RAW</td>\n",
       "      <td>patA</td>\n",
       "    </tr>\n",
       "    <tr>\n",
       "      <th>8</th>\n",
       "      <td>KDPE</td>\n",
       "      <td>5</td>\n",
       "      <td>223</td>\n",
       "      <td>gene_1348178|GeneMark.hmm|738_nt|-|3756|4493</td>\n",
       "      <td>aminoglycoside</td>\n",
       "      <td>NP_415222.1|FEATURES|CARD|aminoglycoside|kdpE</td>\n",
       "      <td>0.907377</td>\n",
       "      <td>30.8</td>\n",
       "      <td>227</td>\n",
       "      <td>80.5</td>\n",
       "      <td>7.300000e-16</td>\n",
       "      <td>1</td>\n",
       "      <td>TARA_ION_RAW</td>\n",
       "      <td>kdpE</td>\n",
       "    </tr>\n",
       "    <tr>\n",
       "      <th>9</th>\n",
       "      <td>UPPP</td>\n",
       "      <td>16</td>\n",
       "      <td>260</td>\n",
       "      <td>gene_1268059|GeneMark.hmm|765_nt|+|2116|2880</td>\n",
       "      <td>bacitracin</td>\n",
       "      <td>B5YBN3|FEATURES|UNIPROT|bacitracin|uppP</td>\n",
       "      <td>1.000000</td>\n",
       "      <td>30.1</td>\n",
       "      <td>246</td>\n",
       "      <td>99.0</td>\n",
       "      <td>2.100000e-21</td>\n",
       "      <td>1</td>\n",
       "      <td>TARA_ION_RAW</td>\n",
       "      <td>uppP</td>\n",
       "    </tr>\n",
       "    <tr>\n",
       "      <th>10</th>\n",
       "      <td>ARNC</td>\n",
       "      <td>10</td>\n",
       "      <td>314</td>\n",
       "      <td>gene_4157507|GeneMark.hmm|984_nt|-|47|1030</td>\n",
       "      <td>polymyxin</td>\n",
       "      <td>A0A0M9D1C5|FEATURES|UNIPROT|polymyxin|arnC</td>\n",
       "      <td>1.000000</td>\n",
       "      <td>30.2</td>\n",
       "      <td>308</td>\n",
       "      <td>135.2</td>\n",
       "      <td>3.300000e-32</td>\n",
       "      <td>1</td>\n",
       "      <td>TARA_ION_RAW</td>\n",
       "      <td>arnC</td>\n",
       "    </tr>\n",
       "    <tr>\n",
       "      <th>11</th>\n",
       "      <td>ARNC</td>\n",
       "      <td>10</td>\n",
       "      <td>297</td>\n",
       "      <td>gene_372071|GeneMark.hmm|924_nt|-|2|925</td>\n",
       "      <td>polymyxin</td>\n",
       "      <td>W0MWK7|FEATURES|UNIPROT|polymyxin|arnC</td>\n",
       "      <td>0.999999</td>\n",
       "      <td>30.0</td>\n",
       "      <td>300</td>\n",
       "      <td>133.3</td>\n",
       "      <td>1.200000e-31</td>\n",
       "      <td>1</td>\n",
       "      <td>TARA_ION_RAW</td>\n",
       "      <td>arnC</td>\n",
       "    </tr>\n",
       "    <tr>\n",
       "      <th>12</th>\n",
       "      <td>TET35</td>\n",
       "      <td>9</td>\n",
       "      <td>326</td>\n",
       "      <td>gene_1064029|GeneMark.hmm|1095_nt|+|2|1096</td>\n",
       "      <td>tetracycline</td>\n",
       "      <td>AAK37619.1|FEATURES|CARD|tetracycline|tet35</td>\n",
       "      <td>0.994604</td>\n",
       "      <td>31.0</td>\n",
       "      <td>329</td>\n",
       "      <td>161.0</td>\n",
       "      <td>6.300000e-40</td>\n",
       "      <td>1</td>\n",
       "      <td>TARA_ION_RAW</td>\n",
       "      <td>tet35</td>\n",
       "    </tr>\n",
       "    <tr>\n",
       "      <th>13</th>\n",
       "      <td>GOLS</td>\n",
       "      <td>1</td>\n",
       "      <td>126</td>\n",
       "      <td>gene_996415|GeneMark.hmm|426_nt|+|29478|29903</td>\n",
       "      <td>multidrug</td>\n",
       "      <td>NP_459349.1|FEATURES|CARD|multidrug|golS</td>\n",
       "      <td>0.966966</td>\n",
       "      <td>42.2</td>\n",
       "      <td>128</td>\n",
       "      <td>98.2</td>\n",
       "      <td>2.000000e-21</td>\n",
       "      <td>1</td>\n",
       "      <td>TARA_ION_RAW</td>\n",
       "      <td>golS</td>\n",
       "    </tr>\n",
       "    <tr>\n",
       "      <th>14</th>\n",
       "      <td>DFRC</td>\n",
       "      <td>8</td>\n",
       "      <td>150</td>\n",
       "      <td>gene_2051131|GeneMark.hmm|495_nt|-|3620|4114</td>\n",
       "      <td>trimethoprim</td>\n",
       "      <td>AAO04716.1|FEATURES|CARD|trimethoprim|dfrC</td>\n",
       "      <td>0.999843</td>\n",
       "      <td>31.7</td>\n",
       "      <td>145</td>\n",
       "      <td>73.9</td>\n",
       "      <td>4.600000e-14</td>\n",
       "      <td>1</td>\n",
       "      <td>TARA_ION_RAW</td>\n",
       "      <td>dfrC</td>\n",
       "    </tr>\n",
       "    <tr>\n",
       "      <th>15</th>\n",
       "      <td>BCRA</td>\n",
       "      <td>13</td>\n",
       "      <td>222</td>\n",
       "      <td>gene_2300216|GeneMark.hmm|930_nt|-|2275|3204</td>\n",
       "      <td>bacitracin</td>\n",
       "      <td>YP_001373621|FEATURES|ARDB|bacitracin|BcrA</td>\n",
       "      <td>0.999131</td>\n",
       "      <td>30.3</td>\n",
       "      <td>211</td>\n",
       "      <td>100.5</td>\n",
       "      <td>8.600000e-22</td>\n",
       "      <td>1</td>\n",
       "      <td>TARA_ION_RAW</td>\n",
       "      <td>BcrA</td>\n",
       "    </tr>\n",
       "    <tr>\n",
       "      <th>16</th>\n",
       "      <td>MSRB</td>\n",
       "      <td>11</td>\n",
       "      <td>128</td>\n",
       "      <td>gene_540356|GeneMark.hmm|372_nt|+|1372|1743</td>\n",
       "      <td>macrolide-lincosamide-streptogramin</td>\n",
       "      <td>NP_416292.1|FEATURES|CARD|macrolide-lincosamid...</td>\n",
       "      <td>0.999280</td>\n",
       "      <td>56.8</td>\n",
       "      <td>118</td>\n",
       "      <td>155.6</td>\n",
       "      <td>9.000000e-39</td>\n",
       "      <td>1</td>\n",
       "      <td>TARA_ION_RAW</td>\n",
       "      <td>msrB</td>\n",
       "    </tr>\n",
       "    <tr>\n",
       "      <th>17</th>\n",
       "      <td>TSNR</td>\n",
       "      <td>46</td>\n",
       "      <td>256</td>\n",
       "      <td>gene_2114898|GeneMark.hmm|756_nt|-|84|839</td>\n",
       "      <td>peptide</td>\n",
       "      <td>CCP44409.1|FEATURES|CARD|peptide|tsnr</td>\n",
       "      <td>0.821678</td>\n",
       "      <td>33.9</td>\n",
       "      <td>224</td>\n",
       "      <td>83.2</td>\n",
       "      <td>1.200000e-16</td>\n",
       "      <td>1</td>\n",
       "      <td>TARA_ION_RAW</td>\n",
       "      <td>tsnr</td>\n",
       "    </tr>\n",
       "    <tr>\n",
       "      <th>18</th>\n",
       "      <td>LMRD</td>\n",
       "      <td>38</td>\n",
       "      <td>230</td>\n",
       "      <td>gene_4116429|GeneMark.hmm|1872_nt|-|1454|3325</td>\n",
       "      <td>macrolide-lincosamide-streptogramin</td>\n",
       "      <td>ABF66027.1|FEATURES|CARD|macrolide-lincosamide...</td>\n",
       "      <td>0.979903</td>\n",
       "      <td>32.0</td>\n",
       "      <td>203</td>\n",
       "      <td>78.6</td>\n",
       "      <td>7.000000e-15</td>\n",
       "      <td>1</td>\n",
       "      <td>TARA_ION_RAW</td>\n",
       "      <td>lmrD</td>\n",
       "    </tr>\n",
       "    <tr>\n",
       "      <th>19</th>\n",
       "      <td>ARLR</td>\n",
       "      <td>6</td>\n",
       "      <td>227</td>\n",
       "      <td>gene_904100|GeneMark.hmm|678_nt|-|3335|4012</td>\n",
       "      <td>multidrug</td>\n",
       "      <td>YP_001332362.1|FEATURES|CARD|multidrug|arlR</td>\n",
       "      <td>0.944788</td>\n",
       "      <td>30.6</td>\n",
       "      <td>222</td>\n",
       "      <td>100.9</td>\n",
       "      <td>4.800000e-22</td>\n",
       "      <td>1</td>\n",
       "      <td>TARA_ION_RAW</td>\n",
       "      <td>arlR</td>\n",
       "    </tr>\n",
       "    <tr>\n",
       "      <th>20</th>\n",
       "      <td>DFRE</td>\n",
       "      <td>1</td>\n",
       "      <td>153</td>\n",
       "      <td>gene_1112939|GeneMark.hmm|729_nt|+|3039|3767</td>\n",
       "      <td>trimethoprim</td>\n",
       "      <td>AAD01867.1|FEATURES|CARD|trimethoprim|dfrE</td>\n",
       "      <td>0.831543</td>\n",
       "      <td>51.3</td>\n",
       "      <td>156</td>\n",
       "      <td>163.3</td>\n",
       "      <td>8.500000e-41</td>\n",
       "      <td>1</td>\n",
       "      <td>TARA_ION_RAW</td>\n",
       "      <td>dfrE</td>\n",
       "    </tr>\n",
       "    <tr>\n",
       "      <th>21</th>\n",
       "      <td>TETB(60)</td>\n",
       "      <td>3</td>\n",
       "      <td>362</td>\n",
       "      <td>gene_3621102|GeneMark.hmm|1764_nt|+|1109|2872</td>\n",
       "      <td>tetracycline</td>\n",
       "      <td>ANZ79241.1|FEATURES|CARD|tetracycline|tetB(60)</td>\n",
       "      <td>0.999899</td>\n",
       "      <td>33.1</td>\n",
       "      <td>363</td>\n",
       "      <td>213.4</td>\n",
       "      <td>1.700000e-55</td>\n",
       "      <td>1</td>\n",
       "      <td>TARA_ION_RAW</td>\n",
       "      <td>tetB(60)</td>\n",
       "    </tr>\n",
       "    <tr>\n",
       "      <th>22</th>\n",
       "      <td>BAER</td>\n",
       "      <td>5</td>\n",
       "      <td>231</td>\n",
       "      <td>gene_3422339|GeneMark.hmm|702_nt|-|2760|3461</td>\n",
       "      <td>multidrug</td>\n",
       "      <td>YP_490321.1|FEATURES|CARD|multidrug|baeR</td>\n",
       "      <td>0.974670</td>\n",
       "      <td>30.3</td>\n",
       "      <td>231</td>\n",
       "      <td>102.8</td>\n",
       "      <td>1.300000e-22</td>\n",
       "      <td>1</td>\n",
       "      <td>TARA_ION_RAW</td>\n",
       "      <td>baeR</td>\n",
       "    </tr>\n",
       "    <tr>\n",
       "      <th>23</th>\n",
       "      <td>PATB</td>\n",
       "      <td>19</td>\n",
       "      <td>368</td>\n",
       "      <td>gene_1582833|GeneMark.hmm|1098_nt|+|212|1309</td>\n",
       "      <td>quinolone</td>\n",
       "      <td>NP_358969.1|FEATURES|CARD|quinolone|patB</td>\n",
       "      <td>0.860422</td>\n",
       "      <td>30.3</td>\n",
       "      <td>353</td>\n",
       "      <td>171.4</td>\n",
       "      <td>4.700000e-43</td>\n",
       "      <td>1</td>\n",
       "      <td>TARA_ION_RAW</td>\n",
       "      <td>patB</td>\n",
       "    </tr>\n",
       "    <tr>\n",
       "      <th>24</th>\n",
       "      <td>MFD</td>\n",
       "      <td>10</td>\n",
       "      <td>1142</td>\n",
       "      <td>gene_1467315|GeneMark.hmm|3519_nt|-|65020|68538</td>\n",
       "      <td>quinolone</td>\n",
       "      <td>NP_415632.1|FEATURES|CARD|quinolone|mfd</td>\n",
       "      <td>0.956222</td>\n",
       "      <td>54.6</td>\n",
       "      <td>1150</td>\n",
       "      <td>1202.2</td>\n",
       "      <td>0.000000e+00</td>\n",
       "      <td>1</td>\n",
       "      <td>TARA_ION_RAW</td>\n",
       "      <td>mfd</td>\n",
       "    </tr>\n",
       "    <tr>\n",
       "      <th>25</th>\n",
       "      <td>MSRB</td>\n",
       "      <td>6</td>\n",
       "      <td>126</td>\n",
       "      <td>gene_952290|GeneMark.hmm|456_nt|+|672|1127</td>\n",
       "      <td>macrolide-lincosamide-streptogramin</td>\n",
       "      <td>NP_416292.1|FEATURES|CARD|macrolide-lincosamid...</td>\n",
       "      <td>0.993959</td>\n",
       "      <td>47.9</td>\n",
       "      <td>121</td>\n",
       "      <td>115.9</td>\n",
       "      <td>9.700000e-27</td>\n",
       "      <td>1</td>\n",
       "      <td>TARA_ION_RAW</td>\n",
       "      <td>msrB</td>\n",
       "    </tr>\n",
       "    <tr>\n",
       "      <th>26</th>\n",
       "      <td>KSGA</td>\n",
       "      <td>12</td>\n",
       "      <td>264</td>\n",
       "      <td>gene_3042897|GeneMark.hmm|837_nt|-|177|1013</td>\n",
       "      <td>kasugamycin</td>\n",
       "      <td>ZP_03319325|FEATURES|ARDB|kasugamycin|KsgA</td>\n",
       "      <td>0.996875</td>\n",
       "      <td>31.7</td>\n",
       "      <td>259</td>\n",
       "      <td>133.3</td>\n",
       "      <td>1.100000e-31</td>\n",
       "      <td>1</td>\n",
       "      <td>TARA_ION_RAW</td>\n",
       "      <td>KsgA</td>\n",
       "    </tr>\n",
       "    <tr>\n",
       "      <th>27</th>\n",
       "      <td>UPPP</td>\n",
       "      <td>1</td>\n",
       "      <td>252</td>\n",
       "      <td>gene_2078468|GeneMark.hmm|759_nt|-|354|1112</td>\n",
       "      <td>bacitracin</td>\n",
       "      <td>A0A0G0KIL2|FEATURES|UNIPROT|bacitracin|uppP</td>\n",
       "      <td>1.000000</td>\n",
       "      <td>35.9</td>\n",
       "      <td>262</td>\n",
       "      <td>138.7</td>\n",
       "      <td>2.300000e-33</td>\n",
       "      <td>1</td>\n",
       "      <td>TARA_ION_RAW</td>\n",
       "      <td>uppP</td>\n",
       "    </tr>\n",
       "    <tr>\n",
       "      <th>28</th>\n",
       "      <td>CFR</td>\n",
       "      <td>19</td>\n",
       "      <td>337</td>\n",
       "      <td>gene_2356308|GeneMark.hmm|1035_nt|+|49|1083</td>\n",
       "      <td>multidrug</td>\n",
       "      <td>G4HC14|FEATURES|UNIPROT|multidrug|cfr</td>\n",
       "      <td>1.000000</td>\n",
       "      <td>34.1</td>\n",
       "      <td>337</td>\n",
       "      <td>160.2</td>\n",
       "      <td>1.000000e-39</td>\n",
       "      <td>1</td>\n",
       "      <td>TARA_ION_RAW</td>\n",
       "      <td>cfr</td>\n",
       "    </tr>\n",
       "    <tr>\n",
       "      <th>29</th>\n",
       "      <td>MSRB</td>\n",
       "      <td>10</td>\n",
       "      <td>130</td>\n",
       "      <td>gene_2301717|GeneMark.hmm|462_nt|+|411|872</td>\n",
       "      <td>macrolide-lincosamide-streptogramin</td>\n",
       "      <td>NP_416292.1|FEATURES|CARD|macrolide-lincosamid...</td>\n",
       "      <td>0.994629</td>\n",
       "      <td>50.4</td>\n",
       "      <td>121</td>\n",
       "      <td>117.9</td>\n",
       "      <td>2.600000e-27</td>\n",
       "      <td>1</td>\n",
       "      <td>TARA_ION_RAW</td>\n",
       "      <td>msrB</td>\n",
       "    </tr>\n",
       "    <tr>\n",
       "      <th>...</th>\n",
       "      <td>...</td>\n",
       "      <td>...</td>\n",
       "      <td>...</td>\n",
       "      <td>...</td>\n",
       "      <td>...</td>\n",
       "      <td>...</td>\n",
       "      <td>...</td>\n",
       "      <td>...</td>\n",
       "      <td>...</td>\n",
       "      <td>...</td>\n",
       "      <td>...</td>\n",
       "      <td>...</td>\n",
       "      <td>...</td>\n",
       "      <td>...</td>\n",
       "    </tr>\n",
       "    <tr>\n",
       "      <th>2813</th>\n",
       "      <td>MSRB</td>\n",
       "      <td>13</td>\n",
       "      <td>126</td>\n",
       "      <td>gene_622011|GeneMark.hmm|390_nt|+|595|984</td>\n",
       "      <td>macrolide-lincosamide-streptogramin</td>\n",
       "      <td>NP_416292.1|FEATURES|CARD|macrolide-lincosamid...</td>\n",
       "      <td>0.989441</td>\n",
       "      <td>42.1</td>\n",
       "      <td>114</td>\n",
       "      <td>93.6</td>\n",
       "      <td>4.400000e-20</td>\n",
       "      <td>1</td>\n",
       "      <td>TARA_SOC_RAW</td>\n",
       "      <td>msrB</td>\n",
       "    </tr>\n",
       "    <tr>\n",
       "      <th>2814</th>\n",
       "      <td>DFRA3</td>\n",
       "      <td>1</td>\n",
       "      <td>122</td>\n",
       "      <td>gene_7383|GeneMark.hmm|498_nt|+|3136|3633</td>\n",
       "      <td>trimethoprim</td>\n",
       "      <td>AAA25550.1|FEATURES|CARD|trimethoprim|dfrA3</td>\n",
       "      <td>0.999994</td>\n",
       "      <td>35.5</td>\n",
       "      <td>124</td>\n",
       "      <td>70.1</td>\n",
       "      <td>6.700000e-13</td>\n",
       "      <td>1</td>\n",
       "      <td>TARA_SOC_RAW</td>\n",
       "      <td>dfrA3</td>\n",
       "    </tr>\n",
       "    <tr>\n",
       "      <th>2815</th>\n",
       "      <td>KSGA</td>\n",
       "      <td>15</td>\n",
       "      <td>213</td>\n",
       "      <td>gene_434069|GeneMark.hmm|792_nt|+|187|978</td>\n",
       "      <td>kasugamycin</td>\n",
       "      <td>ZP_03319325|FEATURES|ARDB|kasugamycin|KsgA</td>\n",
       "      <td>0.994743</td>\n",
       "      <td>31.3</td>\n",
       "      <td>211</td>\n",
       "      <td>90.9</td>\n",
       "      <td>5.800000e-19</td>\n",
       "      <td>1</td>\n",
       "      <td>TARA_SOC_RAW</td>\n",
       "      <td>KsgA</td>\n",
       "    </tr>\n",
       "    <tr>\n",
       "      <th>2816</th>\n",
       "      <td>DFRE</td>\n",
       "      <td>3</td>\n",
       "      <td>130</td>\n",
       "      <td>gene_266009|GeneMark.hmm|1500_nt|-|749|2248</td>\n",
       "      <td>trimethoprim</td>\n",
       "      <td>AAD01867.1|FEATURES|CARD|trimethoprim|dfrE</td>\n",
       "      <td>0.946175</td>\n",
       "      <td>32.6</td>\n",
       "      <td>172</td>\n",
       "      <td>70.9</td>\n",
       "      <td>1.200000e-12</td>\n",
       "      <td>1</td>\n",
       "      <td>TARA_SOC_RAW</td>\n",
       "      <td>dfrE</td>\n",
       "    </tr>\n",
       "    <tr>\n",
       "      <th>2817</th>\n",
       "      <td>DFRE</td>\n",
       "      <td>1</td>\n",
       "      <td>153</td>\n",
       "      <td>gene_379022|GeneMark.hmm|825_nt|-|5252|6076</td>\n",
       "      <td>trimethoprim</td>\n",
       "      <td>AAD01867.1|FEATURES|CARD|trimethoprim|dfrE</td>\n",
       "      <td>0.918828</td>\n",
       "      <td>62.1</td>\n",
       "      <td>153</td>\n",
       "      <td>200.3</td>\n",
       "      <td>7.100000e-52</td>\n",
       "      <td>1</td>\n",
       "      <td>TARA_SOC_RAW</td>\n",
       "      <td>dfrE</td>\n",
       "    </tr>\n",
       "    <tr>\n",
       "      <th>2818</th>\n",
       "      <td>VANRB</td>\n",
       "      <td>48</td>\n",
       "      <td>229</td>\n",
       "      <td>gene_38384|GeneMark.hmm|555_nt|-|286|840</td>\n",
       "      <td>glycopeptide</td>\n",
       "      <td>AAB05622.1|FEATURES|CARD|glycopeptide|vanRB</td>\n",
       "      <td>0.999862</td>\n",
       "      <td>31.6</td>\n",
       "      <td>187</td>\n",
       "      <td>81.6</td>\n",
       "      <td>2.500000e-16</td>\n",
       "      <td>1</td>\n",
       "      <td>TARA_SOC_RAW</td>\n",
       "      <td>vanRB</td>\n",
       "    </tr>\n",
       "    <tr>\n",
       "      <th>2819</th>\n",
       "      <td>PATA</td>\n",
       "      <td>78</td>\n",
       "      <td>450</td>\n",
       "      <td>gene_699618|GeneMark.hmm|1281_nt|-|107|1387</td>\n",
       "      <td>quinolone</td>\n",
       "      <td>NP_417544.5|FEATURES|CARD|quinolone|patA</td>\n",
       "      <td>0.878100</td>\n",
       "      <td>30.9</td>\n",
       "      <td>398</td>\n",
       "      <td>169.9</td>\n",
       "      <td>1.600000e-42</td>\n",
       "      <td>1</td>\n",
       "      <td>TARA_SOC_RAW</td>\n",
       "      <td>patA</td>\n",
       "    </tr>\n",
       "    <tr>\n",
       "      <th>2820</th>\n",
       "      <td>BAER</td>\n",
       "      <td>3</td>\n",
       "      <td>215</td>\n",
       "      <td>gene_497676|GeneMark.hmm|723_nt|+|2671|3393</td>\n",
       "      <td>multidrug</td>\n",
       "      <td>YP_490321.1|FEATURES|CARD|multidrug|baeR</td>\n",
       "      <td>0.975223</td>\n",
       "      <td>30.2</td>\n",
       "      <td>225</td>\n",
       "      <td>92.4</td>\n",
       "      <td>1.800000e-19</td>\n",
       "      <td>1</td>\n",
       "      <td>TARA_SOC_RAW</td>\n",
       "      <td>baeR</td>\n",
       "    </tr>\n",
       "    <tr>\n",
       "      <th>2821</th>\n",
       "      <td>SULA</td>\n",
       "      <td>4</td>\n",
       "      <td>262</td>\n",
       "      <td>gene_827652|GeneMark.hmm|1053_nt|+|1079|2131</td>\n",
       "      <td>sulfonamide</td>\n",
       "      <td>P59655|FEATURES|UNIPROT|sulfonamide|sulA</td>\n",
       "      <td>0.868791</td>\n",
       "      <td>30.8</td>\n",
       "      <td>263</td>\n",
       "      <td>131.0</td>\n",
       "      <td>6.700000e-31</td>\n",
       "      <td>1</td>\n",
       "      <td>TARA_SOC_RAW</td>\n",
       "      <td>sulA</td>\n",
       "    </tr>\n",
       "    <tr>\n",
       "      <th>2822</th>\n",
       "      <td>DFRA26</td>\n",
       "      <td>5</td>\n",
       "      <td>120</td>\n",
       "      <td>gene_524361|GeneMark.hmm|486_nt|+|7435|7920</td>\n",
       "      <td>trimethoprim</td>\n",
       "      <td>CAL48457.1|FEATURES|CARD|trimethoprim|dfrA26</td>\n",
       "      <td>0.999977</td>\n",
       "      <td>30.9</td>\n",
       "      <td>123</td>\n",
       "      <td>63.2</td>\n",
       "      <td>7.900000e-11</td>\n",
       "      <td>1</td>\n",
       "      <td>TARA_SOC_RAW</td>\n",
       "      <td>dfrA26</td>\n",
       "    </tr>\n",
       "    <tr>\n",
       "      <th>2823</th>\n",
       "      <td>UPPP</td>\n",
       "      <td>2</td>\n",
       "      <td>262</td>\n",
       "      <td>gene_152757|GeneMark.hmm|810_nt|-|19775|20584</td>\n",
       "      <td>bacitracin</td>\n",
       "      <td>A0A127H143|FEATURES|UNIPROT|bacitracin|uppP</td>\n",
       "      <td>1.000000</td>\n",
       "      <td>30.3</td>\n",
       "      <td>274</td>\n",
       "      <td>100.1</td>\n",
       "      <td>9.800000e-22</td>\n",
       "      <td>1</td>\n",
       "      <td>TARA_SOC_RAW</td>\n",
       "      <td>uppP</td>\n",
       "    </tr>\n",
       "    <tr>\n",
       "      <th>2824</th>\n",
       "      <td>UPPP</td>\n",
       "      <td>9</td>\n",
       "      <td>228</td>\n",
       "      <td>gene_152396|GeneMark.hmm|798_nt|-|1589|2386</td>\n",
       "      <td>bacitracin</td>\n",
       "      <td>A0A0G1PD14|FEATURES|UNIPROT|bacitracin|uppP</td>\n",
       "      <td>1.000000</td>\n",
       "      <td>35.4</td>\n",
       "      <td>226</td>\n",
       "      <td>109.0</td>\n",
       "      <td>2.100000e-24</td>\n",
       "      <td>1</td>\n",
       "      <td>TARA_SOC_RAW</td>\n",
       "      <td>uppP</td>\n",
       "    </tr>\n",
       "    <tr>\n",
       "      <th>2825</th>\n",
       "      <td>HP1181</td>\n",
       "      <td>8</td>\n",
       "      <td>386</td>\n",
       "      <td>gene_735063|GeneMark.hmm|1176_nt|-|144|1319</td>\n",
       "      <td>multidrug</td>\n",
       "      <td>NP_207972.1|FEATURES|CARD|multidrug|hp1181</td>\n",
       "      <td>0.998100</td>\n",
       "      <td>35.0</td>\n",
       "      <td>386</td>\n",
       "      <td>194.9</td>\n",
       "      <td>4.200000e-50</td>\n",
       "      <td>1</td>\n",
       "      <td>TARA_SOC_RAW</td>\n",
       "      <td>hp1181</td>\n",
       "    </tr>\n",
       "    <tr>\n",
       "      <th>2826</th>\n",
       "      <td>ADEL</td>\n",
       "      <td>1</td>\n",
       "      <td>287</td>\n",
       "      <td>gene_858535|GeneMark.hmm|918_nt|+|45073|45990</td>\n",
       "      <td>multidrug</td>\n",
       "      <td>ALH22601.1|FEATURES|CARD|multidrug|adeL</td>\n",
       "      <td>0.996913</td>\n",
       "      <td>31.0</td>\n",
       "      <td>287</td>\n",
       "      <td>164.9</td>\n",
       "      <td>3.700000e-41</td>\n",
       "      <td>1</td>\n",
       "      <td>TARA_SOC_RAW</td>\n",
       "      <td>adeL</td>\n",
       "    </tr>\n",
       "    <tr>\n",
       "      <th>2827</th>\n",
       "      <td>CFR</td>\n",
       "      <td>7</td>\n",
       "      <td>343</td>\n",
       "      <td>gene_610290|GeneMark.hmm|1068_nt|+|235|1302</td>\n",
       "      <td>multidrug</td>\n",
       "      <td>A0A0P9E468|FEATURES|UNIPROT|multidrug|cfr</td>\n",
       "      <td>1.000000</td>\n",
       "      <td>30.2</td>\n",
       "      <td>348</td>\n",
       "      <td>133.3</td>\n",
       "      <td>1.400000e-31</td>\n",
       "      <td>1</td>\n",
       "      <td>TARA_SOC_RAW</td>\n",
       "      <td>cfr</td>\n",
       "    </tr>\n",
       "    <tr>\n",
       "      <th>2828</th>\n",
       "      <td>K678_12262</td>\n",
       "      <td>16</td>\n",
       "      <td>597</td>\n",
       "      <td>gene_703287|GeneMark.hmm|1962_nt|-|1504|3465</td>\n",
       "      <td>beta_lactam</td>\n",
       "      <td>S9S5M4|FEATURES|UNIPROT|beta_lactam|K678_12262</td>\n",
       "      <td>0.944121</td>\n",
       "      <td>32.9</td>\n",
       "      <td>624</td>\n",
       "      <td>344.0</td>\n",
       "      <td>9.400000e-95</td>\n",
       "      <td>1</td>\n",
       "      <td>TARA_SOC_RAW</td>\n",
       "      <td>K678_12262</td>\n",
       "    </tr>\n",
       "    <tr>\n",
       "      <th>2829</th>\n",
       "      <td>CRP</td>\n",
       "      <td>15</td>\n",
       "      <td>210</td>\n",
       "      <td>gene_1003698|GeneMark.hmm|630_nt|-|9676|10305</td>\n",
       "      <td>multidrug</td>\n",
       "      <td>BAE77933.1|FEATURES|CARD|multidrug|CRP</td>\n",
       "      <td>0.994350</td>\n",
       "      <td>54.3</td>\n",
       "      <td>197</td>\n",
       "      <td>210.7</td>\n",
       "      <td>4.000000e-55</td>\n",
       "      <td>1</td>\n",
       "      <td>TARA_SOC_RAW</td>\n",
       "      <td>CRP</td>\n",
       "    </tr>\n",
       "    <tr>\n",
       "      <th>2830</th>\n",
       "      <td>MSRB</td>\n",
       "      <td>8</td>\n",
       "      <td>130</td>\n",
       "      <td>gene_967407|GeneMark.hmm|375_nt|-|45|419</td>\n",
       "      <td>macrolide-lincosamide-streptogramin</td>\n",
       "      <td>NP_416292.1|FEATURES|CARD|macrolide-lincosamid...</td>\n",
       "      <td>0.989140</td>\n",
       "      <td>39.0</td>\n",
       "      <td>123</td>\n",
       "      <td>93.2</td>\n",
       "      <td>5.500000e-20</td>\n",
       "      <td>1</td>\n",
       "      <td>TARA_SOC_RAW</td>\n",
       "      <td>msrB</td>\n",
       "    </tr>\n",
       "    <tr>\n",
       "      <th>2831</th>\n",
       "      <td>BCRA</td>\n",
       "      <td>34</td>\n",
       "      <td>234</td>\n",
       "      <td>gene_320896|GeneMark.hmm|930_nt|-|648|1577</td>\n",
       "      <td>bacitracin</td>\n",
       "      <td>ZP_04081918|FEATURES|ARDB|bacitracin|BcrA</td>\n",
       "      <td>0.933363</td>\n",
       "      <td>31.7</td>\n",
       "      <td>202</td>\n",
       "      <td>86.3</td>\n",
       "      <td>1.700000e-17</td>\n",
       "      <td>1</td>\n",
       "      <td>TARA_SOC_RAW</td>\n",
       "      <td>BcrA</td>\n",
       "    </tr>\n",
       "    <tr>\n",
       "      <th>2832</th>\n",
       "      <td>ERMG</td>\n",
       "      <td>10</td>\n",
       "      <td>193</td>\n",
       "      <td>gene_615239|GeneMark.hmm|786_nt|+|179|964</td>\n",
       "      <td>macrolide-lincosamide-streptogramin</td>\n",
       "      <td>ZP_03015699|FEATURES|ARDB|macrolide-lincosamid...</td>\n",
       "      <td>0.972911</td>\n",
       "      <td>31.0</td>\n",
       "      <td>197</td>\n",
       "      <td>75.9</td>\n",
       "      <td>1.900000e-14</td>\n",
       "      <td>1</td>\n",
       "      <td>TARA_SOC_RAW</td>\n",
       "      <td>ErmG</td>\n",
       "    </tr>\n",
       "    <tr>\n",
       "      <th>2833</th>\n",
       "      <td>PATA</td>\n",
       "      <td>66</td>\n",
       "      <td>447</td>\n",
       "      <td>gene_521833|GeneMark.hmm|1167_nt|+|885|2051</td>\n",
       "      <td>quinolone</td>\n",
       "      <td>NP_417544.5|FEATURES|CARD|quinolone|patA</td>\n",
       "      <td>0.912199</td>\n",
       "      <td>30.1</td>\n",
       "      <td>385</td>\n",
       "      <td>192.2</td>\n",
       "      <td>2.700000e-49</td>\n",
       "      <td>1</td>\n",
       "      <td>TARA_SOC_RAW</td>\n",
       "      <td>patA</td>\n",
       "    </tr>\n",
       "    <tr>\n",
       "      <th>2834</th>\n",
       "      <td>PATA</td>\n",
       "      <td>66</td>\n",
       "      <td>440</td>\n",
       "      <td>gene_235836|GeneMark.hmm|1128_nt|-|2|1129</td>\n",
       "      <td>quinolone</td>\n",
       "      <td>NP_417544.5|FEATURES|CARD|quinolone|patA</td>\n",
       "      <td>0.908344</td>\n",
       "      <td>31.5</td>\n",
       "      <td>378</td>\n",
       "      <td>189.1</td>\n",
       "      <td>2.200000e-48</td>\n",
       "      <td>1</td>\n",
       "      <td>TARA_SOC_RAW</td>\n",
       "      <td>patA</td>\n",
       "    </tr>\n",
       "    <tr>\n",
       "      <th>2835</th>\n",
       "      <td>VANRA</td>\n",
       "      <td>3</td>\n",
       "      <td>225</td>\n",
       "      <td>gene_664182|GeneMark.hmm|696_nt|+|145|840</td>\n",
       "      <td>glycopeptide</td>\n",
       "      <td>CAB61229|FEATURES|ARDB|glycopeptide|vanRA</td>\n",
       "      <td>0.999901</td>\n",
       "      <td>33.3</td>\n",
       "      <td>234</td>\n",
       "      <td>107.1</td>\n",
       "      <td>6.900000e-24</td>\n",
       "      <td>1</td>\n",
       "      <td>TARA_SOC_RAW</td>\n",
       "      <td>vanRA</td>\n",
       "    </tr>\n",
       "    <tr>\n",
       "      <th>2836</th>\n",
       "      <td>VANHB</td>\n",
       "      <td>18</td>\n",
       "      <td>311</td>\n",
       "      <td>gene_278214|GeneMark.hmm|987_nt|+|2975|3961</td>\n",
       "      <td>glycopeptide</td>\n",
       "      <td>ABB53352|FEATURES|ARDB|glycopeptide|vanHB</td>\n",
       "      <td>0.997998</td>\n",
       "      <td>31.8</td>\n",
       "      <td>308</td>\n",
       "      <td>117.1</td>\n",
       "      <td>9.400000e-27</td>\n",
       "      <td>1</td>\n",
       "      <td>TARA_SOC_RAW</td>\n",
       "      <td>vanHB</td>\n",
       "    </tr>\n",
       "    <tr>\n",
       "      <th>2837</th>\n",
       "      <td>PMRE</td>\n",
       "      <td>3</td>\n",
       "      <td>388</td>\n",
       "      <td>gene_5920|GeneMark.hmm|1182_nt|+|6684|7865</td>\n",
       "      <td>polymyxin</td>\n",
       "      <td>AAC75089.1|FEATURES|CARD|polymyxin|PmrE</td>\n",
       "      <td>0.921823</td>\n",
       "      <td>63.0</td>\n",
       "      <td>386</td>\n",
       "      <td>503.8</td>\n",
       "      <td>4.300000e-143</td>\n",
       "      <td>1</td>\n",
       "      <td>TARA_SOC_RAW</td>\n",
       "      <td>PmrE</td>\n",
       "    </tr>\n",
       "    <tr>\n",
       "      <th>2838</th>\n",
       "      <td>TETA(60)</td>\n",
       "      <td>5</td>\n",
       "      <td>225</td>\n",
       "      <td>gene_414782|GeneMark.hmm|1767_nt|+|3441|5207</td>\n",
       "      <td>tetracycline</td>\n",
       "      <td>ANZ79240.1|FEATURES|CARD|tetracycline|tetA(60)</td>\n",
       "      <td>0.999827</td>\n",
       "      <td>30.6</td>\n",
       "      <td>229</td>\n",
       "      <td>90.5</td>\n",
       "      <td>1.700000e-18</td>\n",
       "      <td>1</td>\n",
       "      <td>TARA_SOC_RAW</td>\n",
       "      <td>tetA(60)</td>\n",
       "    </tr>\n",
       "    <tr>\n",
       "      <th>2839</th>\n",
       "      <td>CFR</td>\n",
       "      <td>23</td>\n",
       "      <td>337</td>\n",
       "      <td>gene_566564|GeneMark.hmm|993_nt|-|2408|3400</td>\n",
       "      <td>multidrug</td>\n",
       "      <td>A0A0F7FBJ9|FEATURES|UNIPROT|multidrug|cfr</td>\n",
       "      <td>1.000000</td>\n",
       "      <td>32.4</td>\n",
       "      <td>324</td>\n",
       "      <td>131.7</td>\n",
       "      <td>3.700000e-31</td>\n",
       "      <td>1</td>\n",
       "      <td>TARA_SOC_RAW</td>\n",
       "      <td>cfr</td>\n",
       "    </tr>\n",
       "    <tr>\n",
       "      <th>2840</th>\n",
       "      <td>DFRE</td>\n",
       "      <td>1</td>\n",
       "      <td>153</td>\n",
       "      <td>gene_274445|GeneMark.hmm|825_nt|+|1842|2666</td>\n",
       "      <td>trimethoprim</td>\n",
       "      <td>AAD01867.1|FEATURES|CARD|trimethoprim|dfrE</td>\n",
       "      <td>0.889422</td>\n",
       "      <td>52.4</td>\n",
       "      <td>166</td>\n",
       "      <td>183.7</td>\n",
       "      <td>6.900000e-47</td>\n",
       "      <td>1</td>\n",
       "      <td>TARA_SOC_RAW</td>\n",
       "      <td>dfrE</td>\n",
       "    </tr>\n",
       "    <tr>\n",
       "      <th>2841</th>\n",
       "      <td>VANRF</td>\n",
       "      <td>2</td>\n",
       "      <td>222</td>\n",
       "      <td>gene_814488|GeneMark.hmm|684_nt|-|1527|2210</td>\n",
       "      <td>glycopeptide</td>\n",
       "      <td>AAR84672.1|FEATURES|CARD|glycopeptide|vanRF</td>\n",
       "      <td>0.999980</td>\n",
       "      <td>30.4</td>\n",
       "      <td>224</td>\n",
       "      <td>107.8</td>\n",
       "      <td>4.000000e-24</td>\n",
       "      <td>1</td>\n",
       "      <td>TARA_SOC_RAW</td>\n",
       "      <td>vanRF</td>\n",
       "    </tr>\n",
       "    <tr>\n",
       "      <th>2842</th>\n",
       "      <td>CPXR</td>\n",
       "      <td>6</td>\n",
       "      <td>227</td>\n",
       "      <td>gene_412961|GeneMark.hmm|678_nt|-|4526|5203</td>\n",
       "      <td>multidrug</td>\n",
       "      <td>SIP52035.1|FEATURES|CARD|multidrug|cpxr</td>\n",
       "      <td>0.995484</td>\n",
       "      <td>30.7</td>\n",
       "      <td>225</td>\n",
       "      <td>101.3</td>\n",
       "      <td>3.700000e-22</td>\n",
       "      <td>1</td>\n",
       "      <td>TARA_SOC_RAW</td>\n",
       "      <td>cpxr</td>\n",
       "    </tr>\n",
       "  </tbody>\n",
       "</table>\n",
       "<p>116425 rows × 14 columns</p>\n",
       "</div>"
      ],
      "text/plain": [
       "            #ARG  query-start  query-end  \\\n",
       "0           PATA           76        441   \n",
       "1           MSRB           14        133   \n",
       "2           UPPP           47        263   \n",
       "3           PATA           76        447   \n",
       "4           GOLS            1        129   \n",
       "5       TETB(60)           29        239   \n",
       "6           SULA            2        259   \n",
       "7           PATA           76        449   \n",
       "8           KDPE            5        223   \n",
       "9           UPPP           16        260   \n",
       "10          ARNC           10        314   \n",
       "11          ARNC           10        297   \n",
       "12         TET35            9        326   \n",
       "13          GOLS            1        126   \n",
       "14          DFRC            8        150   \n",
       "15          BCRA           13        222   \n",
       "16          MSRB           11        128   \n",
       "17          TSNR           46        256   \n",
       "18          LMRD           38        230   \n",
       "19          ARLR            6        227   \n",
       "20          DFRE            1        153   \n",
       "21      TETB(60)            3        362   \n",
       "22          BAER            5        231   \n",
       "23          PATB           19        368   \n",
       "24           MFD           10       1142   \n",
       "25          MSRB            6        126   \n",
       "26          KSGA           12        264   \n",
       "27          UPPP            1        252   \n",
       "28           CFR           19        337   \n",
       "29          MSRB           10        130   \n",
       "...          ...          ...        ...   \n",
       "2813        MSRB           13        126   \n",
       "2814       DFRA3            1        122   \n",
       "2815        KSGA           15        213   \n",
       "2816        DFRE            3        130   \n",
       "2817        DFRE            1        153   \n",
       "2818       VANRB           48        229   \n",
       "2819        PATA           78        450   \n",
       "2820        BAER            3        215   \n",
       "2821        SULA            4        262   \n",
       "2822      DFRA26            5        120   \n",
       "2823        UPPP            2        262   \n",
       "2824        UPPP            9        228   \n",
       "2825      HP1181            8        386   \n",
       "2826        ADEL            1        287   \n",
       "2827         CFR            7        343   \n",
       "2828  K678_12262           16        597   \n",
       "2829         CRP           15        210   \n",
       "2830        MSRB            8        130   \n",
       "2831        BCRA           34        234   \n",
       "2832        ERMG           10        193   \n",
       "2833        PATA           66        447   \n",
       "2834        PATA           66        440   \n",
       "2835       VANRA            3        225   \n",
       "2836       VANHB           18        311   \n",
       "2837        PMRE            3        388   \n",
       "2838    TETA(60)            5        225   \n",
       "2839         CFR           23        337   \n",
       "2840        DFRE            1        153   \n",
       "2841       VANRF            2        222   \n",
       "2842        CPXR            6        227   \n",
       "\n",
       "                                              read_id  \\\n",
       "0          gene_4195642|GeneMark.hmm|1125_nt|+|2|1126   \n",
       "1         gene_1913961|GeneMark.hmm|393_nt|-|670|1062   \n",
       "2            gene_3637740|GeneMark.hmm|687_nt|+|1|687   \n",
       "3         gene_222026|GeneMark.hmm|1164_nt|+|198|1361   \n",
       "4        gene_2742391|GeneMark.hmm|393_nt|-|2005|2397   \n",
       "5      gene_1224955|GeneMark.hmm|1737_nt|+|8920|10656   \n",
       "6         gene_3950615|GeneMark.hmm|846_nt|+|396|1241   \n",
       "7      gene_467525|GeneMark.hmm|1323_nt|+|18481|19803   \n",
       "8        gene_1348178|GeneMark.hmm|738_nt|-|3756|4493   \n",
       "9        gene_1268059|GeneMark.hmm|765_nt|+|2116|2880   \n",
       "10         gene_4157507|GeneMark.hmm|984_nt|-|47|1030   \n",
       "11            gene_372071|GeneMark.hmm|924_nt|-|2|925   \n",
       "12         gene_1064029|GeneMark.hmm|1095_nt|+|2|1096   \n",
       "13      gene_996415|GeneMark.hmm|426_nt|+|29478|29903   \n",
       "14       gene_2051131|GeneMark.hmm|495_nt|-|3620|4114   \n",
       "15       gene_2300216|GeneMark.hmm|930_nt|-|2275|3204   \n",
       "16        gene_540356|GeneMark.hmm|372_nt|+|1372|1743   \n",
       "17          gene_2114898|GeneMark.hmm|756_nt|-|84|839   \n",
       "18      gene_4116429|GeneMark.hmm|1872_nt|-|1454|3325   \n",
       "19        gene_904100|GeneMark.hmm|678_nt|-|3335|4012   \n",
       "20       gene_1112939|GeneMark.hmm|729_nt|+|3039|3767   \n",
       "21      gene_3621102|GeneMark.hmm|1764_nt|+|1109|2872   \n",
       "22       gene_3422339|GeneMark.hmm|702_nt|-|2760|3461   \n",
       "23       gene_1582833|GeneMark.hmm|1098_nt|+|212|1309   \n",
       "24    gene_1467315|GeneMark.hmm|3519_nt|-|65020|68538   \n",
       "25         gene_952290|GeneMark.hmm|456_nt|+|672|1127   \n",
       "26        gene_3042897|GeneMark.hmm|837_nt|-|177|1013   \n",
       "27        gene_2078468|GeneMark.hmm|759_nt|-|354|1112   \n",
       "28        gene_2356308|GeneMark.hmm|1035_nt|+|49|1083   \n",
       "29         gene_2301717|GeneMark.hmm|462_nt|+|411|872   \n",
       "...                                               ...   \n",
       "2813        gene_622011|GeneMark.hmm|390_nt|+|595|984   \n",
       "2814        gene_7383|GeneMark.hmm|498_nt|+|3136|3633   \n",
       "2815        gene_434069|GeneMark.hmm|792_nt|+|187|978   \n",
       "2816      gene_266009|GeneMark.hmm|1500_nt|-|749|2248   \n",
       "2817      gene_379022|GeneMark.hmm|825_nt|-|5252|6076   \n",
       "2818         gene_38384|GeneMark.hmm|555_nt|-|286|840   \n",
       "2819      gene_699618|GeneMark.hmm|1281_nt|-|107|1387   \n",
       "2820      gene_497676|GeneMark.hmm|723_nt|+|2671|3393   \n",
       "2821     gene_827652|GeneMark.hmm|1053_nt|+|1079|2131   \n",
       "2822      gene_524361|GeneMark.hmm|486_nt|+|7435|7920   \n",
       "2823    gene_152757|GeneMark.hmm|810_nt|-|19775|20584   \n",
       "2824      gene_152396|GeneMark.hmm|798_nt|-|1589|2386   \n",
       "2825      gene_735063|GeneMark.hmm|1176_nt|-|144|1319   \n",
       "2826    gene_858535|GeneMark.hmm|918_nt|+|45073|45990   \n",
       "2827      gene_610290|GeneMark.hmm|1068_nt|+|235|1302   \n",
       "2828     gene_703287|GeneMark.hmm|1962_nt|-|1504|3465   \n",
       "2829    gene_1003698|GeneMark.hmm|630_nt|-|9676|10305   \n",
       "2830         gene_967407|GeneMark.hmm|375_nt|-|45|419   \n",
       "2831       gene_320896|GeneMark.hmm|930_nt|-|648|1577   \n",
       "2832        gene_615239|GeneMark.hmm|786_nt|+|179|964   \n",
       "2833      gene_521833|GeneMark.hmm|1167_nt|+|885|2051   \n",
       "2834        gene_235836|GeneMark.hmm|1128_nt|-|2|1129   \n",
       "2835        gene_664182|GeneMark.hmm|696_nt|+|145|840   \n",
       "2836      gene_278214|GeneMark.hmm|987_nt|+|2975|3961   \n",
       "2837       gene_5920|GeneMark.hmm|1182_nt|+|6684|7865   \n",
       "2838     gene_414782|GeneMark.hmm|1767_nt|+|3441|5207   \n",
       "2839      gene_566564|GeneMark.hmm|993_nt|-|2408|3400   \n",
       "2840      gene_274445|GeneMark.hmm|825_nt|+|1842|2666   \n",
       "2841      gene_814488|GeneMark.hmm|684_nt|-|1527|2210   \n",
       "2842      gene_412961|GeneMark.hmm|678_nt|-|4526|5203   \n",
       "\n",
       "                      predicted_ARG-class  \\\n",
       "0                               quinolone   \n",
       "1     macrolide-lincosamide-streptogramin   \n",
       "2                              bacitracin   \n",
       "3                               quinolone   \n",
       "4                               multidrug   \n",
       "5                            tetracycline   \n",
       "6                             sulfonamide   \n",
       "7                               quinolone   \n",
       "8                          aminoglycoside   \n",
       "9                              bacitracin   \n",
       "10                              polymyxin   \n",
       "11                              polymyxin   \n",
       "12                           tetracycline   \n",
       "13                              multidrug   \n",
       "14                           trimethoprim   \n",
       "15                             bacitracin   \n",
       "16    macrolide-lincosamide-streptogramin   \n",
       "17                                peptide   \n",
       "18    macrolide-lincosamide-streptogramin   \n",
       "19                              multidrug   \n",
       "20                           trimethoprim   \n",
       "21                           tetracycline   \n",
       "22                              multidrug   \n",
       "23                              quinolone   \n",
       "24                              quinolone   \n",
       "25    macrolide-lincosamide-streptogramin   \n",
       "26                            kasugamycin   \n",
       "27                             bacitracin   \n",
       "28                              multidrug   \n",
       "29    macrolide-lincosamide-streptogramin   \n",
       "...                                   ...   \n",
       "2813  macrolide-lincosamide-streptogramin   \n",
       "2814                         trimethoprim   \n",
       "2815                          kasugamycin   \n",
       "2816                         trimethoprim   \n",
       "2817                         trimethoprim   \n",
       "2818                         glycopeptide   \n",
       "2819                            quinolone   \n",
       "2820                            multidrug   \n",
       "2821                          sulfonamide   \n",
       "2822                         trimethoprim   \n",
       "2823                           bacitracin   \n",
       "2824                           bacitracin   \n",
       "2825                            multidrug   \n",
       "2826                            multidrug   \n",
       "2827                            multidrug   \n",
       "2828                          beta_lactam   \n",
       "2829                            multidrug   \n",
       "2830  macrolide-lincosamide-streptogramin   \n",
       "2831                           bacitracin   \n",
       "2832  macrolide-lincosamide-streptogramin   \n",
       "2833                            quinolone   \n",
       "2834                            quinolone   \n",
       "2835                         glycopeptide   \n",
       "2836                         glycopeptide   \n",
       "2837                            polymyxin   \n",
       "2838                         tetracycline   \n",
       "2839                            multidrug   \n",
       "2840                         trimethoprim   \n",
       "2841                         glycopeptide   \n",
       "2842                            multidrug   \n",
       "\n",
       "                                               best-hit  probability  \\\n",
       "0              NP_417544.5|FEATURES|CARD|quinolone|patA     0.921137   \n",
       "1     NP_416292.1|FEATURES|CARD|macrolide-lincosamid...     0.974641   \n",
       "2               A5KNX8|FEATURES|UNIPROT|bacitracin|uppP     1.000000   \n",
       "3              NP_417544.5|FEATURES|CARD|quinolone|patA     0.870956   \n",
       "4              NP_459349.1|FEATURES|CARD|multidrug|golS     0.988998   \n",
       "5        ANZ79241.1|FEATURES|CARD|tetracycline|tetB(60)     0.926290   \n",
       "6              P59655|FEATURES|UNIPROT|sulfonamide|sulA     0.932225   \n",
       "7              NP_417544.5|FEATURES|CARD|quinolone|patA     0.925280   \n",
       "8         NP_415222.1|FEATURES|CARD|aminoglycoside|kdpE     0.907377   \n",
       "9               B5YBN3|FEATURES|UNIPROT|bacitracin|uppP     1.000000   \n",
       "10           A0A0M9D1C5|FEATURES|UNIPROT|polymyxin|arnC     1.000000   \n",
       "11               W0MWK7|FEATURES|UNIPROT|polymyxin|arnC     0.999999   \n",
       "12          AAK37619.1|FEATURES|CARD|tetracycline|tet35     0.994604   \n",
       "13             NP_459349.1|FEATURES|CARD|multidrug|golS     0.966966   \n",
       "14           AAO04716.1|FEATURES|CARD|trimethoprim|dfrC     0.999843   \n",
       "15           YP_001373621|FEATURES|ARDB|bacitracin|BcrA     0.999131   \n",
       "16    NP_416292.1|FEATURES|CARD|macrolide-lincosamid...     0.999280   \n",
       "17                CCP44409.1|FEATURES|CARD|peptide|tsnr     0.821678   \n",
       "18    ABF66027.1|FEATURES|CARD|macrolide-lincosamide...     0.979903   \n",
       "19          YP_001332362.1|FEATURES|CARD|multidrug|arlR     0.944788   \n",
       "20           AAD01867.1|FEATURES|CARD|trimethoprim|dfrE     0.831543   \n",
       "21       ANZ79241.1|FEATURES|CARD|tetracycline|tetB(60)     0.999899   \n",
       "22             YP_490321.1|FEATURES|CARD|multidrug|baeR     0.974670   \n",
       "23             NP_358969.1|FEATURES|CARD|quinolone|patB     0.860422   \n",
       "24              NP_415632.1|FEATURES|CARD|quinolone|mfd     0.956222   \n",
       "25    NP_416292.1|FEATURES|CARD|macrolide-lincosamid...     0.993959   \n",
       "26           ZP_03319325|FEATURES|ARDB|kasugamycin|KsgA     0.996875   \n",
       "27          A0A0G0KIL2|FEATURES|UNIPROT|bacitracin|uppP     1.000000   \n",
       "28                G4HC14|FEATURES|UNIPROT|multidrug|cfr     1.000000   \n",
       "29    NP_416292.1|FEATURES|CARD|macrolide-lincosamid...     0.994629   \n",
       "...                                                 ...          ...   \n",
       "2813  NP_416292.1|FEATURES|CARD|macrolide-lincosamid...     0.989441   \n",
       "2814        AAA25550.1|FEATURES|CARD|trimethoprim|dfrA3     0.999994   \n",
       "2815         ZP_03319325|FEATURES|ARDB|kasugamycin|KsgA     0.994743   \n",
       "2816         AAD01867.1|FEATURES|CARD|trimethoprim|dfrE     0.946175   \n",
       "2817         AAD01867.1|FEATURES|CARD|trimethoprim|dfrE     0.918828   \n",
       "2818        AAB05622.1|FEATURES|CARD|glycopeptide|vanRB     0.999862   \n",
       "2819           NP_417544.5|FEATURES|CARD|quinolone|patA     0.878100   \n",
       "2820           YP_490321.1|FEATURES|CARD|multidrug|baeR     0.975223   \n",
       "2821           P59655|FEATURES|UNIPROT|sulfonamide|sulA     0.868791   \n",
       "2822       CAL48457.1|FEATURES|CARD|trimethoprim|dfrA26     0.999977   \n",
       "2823        A0A127H143|FEATURES|UNIPROT|bacitracin|uppP     1.000000   \n",
       "2824        A0A0G1PD14|FEATURES|UNIPROT|bacitracin|uppP     1.000000   \n",
       "2825         NP_207972.1|FEATURES|CARD|multidrug|hp1181     0.998100   \n",
       "2826            ALH22601.1|FEATURES|CARD|multidrug|adeL     0.996913   \n",
       "2827          A0A0P9E468|FEATURES|UNIPROT|multidrug|cfr     1.000000   \n",
       "2828     S9S5M4|FEATURES|UNIPROT|beta_lactam|K678_12262     0.944121   \n",
       "2829             BAE77933.1|FEATURES|CARD|multidrug|CRP     0.994350   \n",
       "2830  NP_416292.1|FEATURES|CARD|macrolide-lincosamid...     0.989140   \n",
       "2831          ZP_04081918|FEATURES|ARDB|bacitracin|BcrA     0.933363   \n",
       "2832  ZP_03015699|FEATURES|ARDB|macrolide-lincosamid...     0.972911   \n",
       "2833           NP_417544.5|FEATURES|CARD|quinolone|patA     0.912199   \n",
       "2834           NP_417544.5|FEATURES|CARD|quinolone|patA     0.908344   \n",
       "2835          CAB61229|FEATURES|ARDB|glycopeptide|vanRA     0.999901   \n",
       "2836          ABB53352|FEATURES|ARDB|glycopeptide|vanHB     0.997998   \n",
       "2837            AAC75089.1|FEATURES|CARD|polymyxin|PmrE     0.921823   \n",
       "2838     ANZ79240.1|FEATURES|CARD|tetracycline|tetA(60)     0.999827   \n",
       "2839          A0A0F7FBJ9|FEATURES|UNIPROT|multidrug|cfr     1.000000   \n",
       "2840         AAD01867.1|FEATURES|CARD|trimethoprim|dfrE     0.889422   \n",
       "2841        AAR84672.1|FEATURES|CARD|glycopeptide|vanRF     0.999980   \n",
       "2842            SIP52035.1|FEATURES|CARD|multidrug|cpxr     0.995484   \n",
       "\n",
       "      identity  alignment-length  alignment-bitscore  alignment-evalue  \\\n",
       "0         35.1               370               204.1      6.700000e-53   \n",
       "1         40.5               121                92.8      7.600000e-20   \n",
       "2         32.6               227                77.4      5.800000e-15   \n",
       "3         30.4               375               169.5      1.900000e-42   \n",
       "4         51.9               129               138.7      1.200000e-33   \n",
       "5         30.5               220                96.3      3.000000e-20   \n",
       "6         35.1               265               135.6      2.200000e-32   \n",
       "7         33.6               402               208.4      4.200000e-54   \n",
       "8         30.8               227                80.5      7.300000e-16   \n",
       "9         30.1               246                99.0      2.100000e-21   \n",
       "10        30.2               308               135.2      3.300000e-32   \n",
       "11        30.0               300               133.3      1.200000e-31   \n",
       "12        31.0               329               161.0      6.300000e-40   \n",
       "13        42.2               128                98.2      2.000000e-21   \n",
       "14        31.7               145                73.9      4.600000e-14   \n",
       "15        30.3               211               100.5      8.600000e-22   \n",
       "16        56.8               118               155.6      9.000000e-39   \n",
       "17        33.9               224                83.2      1.200000e-16   \n",
       "18        32.0               203                78.6      7.000000e-15   \n",
       "19        30.6               222               100.9      4.800000e-22   \n",
       "20        51.3               156               163.3      8.500000e-41   \n",
       "21        33.1               363               213.4      1.700000e-55   \n",
       "22        30.3               231               102.8      1.300000e-22   \n",
       "23        30.3               353               171.4      4.700000e-43   \n",
       "24        54.6              1150              1202.2      0.000000e+00   \n",
       "25        47.9               121               115.9      9.700000e-27   \n",
       "26        31.7               259               133.3      1.100000e-31   \n",
       "27        35.9               262               138.7      2.300000e-33   \n",
       "28        34.1               337               160.2      1.000000e-39   \n",
       "29        50.4               121               117.9      2.600000e-27   \n",
       "...        ...               ...                 ...               ...   \n",
       "2813      42.1               114                93.6      4.400000e-20   \n",
       "2814      35.5               124                70.1      6.700000e-13   \n",
       "2815      31.3               211                90.9      5.800000e-19   \n",
       "2816      32.6               172                70.9      1.200000e-12   \n",
       "2817      62.1               153               200.3      7.100000e-52   \n",
       "2818      31.6               187                81.6      2.500000e-16   \n",
       "2819      30.9               398               169.9      1.600000e-42   \n",
       "2820      30.2               225                92.4      1.800000e-19   \n",
       "2821      30.8               263               131.0      6.700000e-31   \n",
       "2822      30.9               123                63.2      7.900000e-11   \n",
       "2823      30.3               274               100.1      9.800000e-22   \n",
       "2824      35.4               226               109.0      2.100000e-24   \n",
       "2825      35.0               386               194.9      4.200000e-50   \n",
       "2826      31.0               287               164.9      3.700000e-41   \n",
       "2827      30.2               348               133.3      1.400000e-31   \n",
       "2828      32.9               624               344.0      9.400000e-95   \n",
       "2829      54.3               197               210.7      4.000000e-55   \n",
       "2830      39.0               123                93.2      5.500000e-20   \n",
       "2831      31.7               202                86.3      1.700000e-17   \n",
       "2832      31.0               197                75.9      1.900000e-14   \n",
       "2833      30.1               385               192.2      2.700000e-49   \n",
       "2834      31.5               378               189.1      2.200000e-48   \n",
       "2835      33.3               234               107.1      6.900000e-24   \n",
       "2836      31.8               308               117.1      9.400000e-27   \n",
       "2837      63.0               386               503.8     4.300000e-143   \n",
       "2838      30.6               229                90.5      1.700000e-18   \n",
       "2839      32.4               324               131.7      3.700000e-31   \n",
       "2840      52.4               166               183.7      6.900000e-47   \n",
       "2841      30.4               224               107.8      4.000000e-24   \n",
       "2842      30.7               225               101.3      3.700000e-22   \n",
       "\n",
       "      problematic_classification        sample        gene  \n",
       "0                              1  TARA_ION_RAW        patA  \n",
       "1                              1  TARA_ION_RAW        msrB  \n",
       "2                              1  TARA_ION_RAW        uppP  \n",
       "3                              1  TARA_ION_RAW        patA  \n",
       "4                              1  TARA_ION_RAW        golS  \n",
       "5                              1  TARA_ION_RAW    tetB(60)  \n",
       "6                              1  TARA_ION_RAW        sulA  \n",
       "7                              1  TARA_ION_RAW        patA  \n",
       "8                              1  TARA_ION_RAW        kdpE  \n",
       "9                              1  TARA_ION_RAW        uppP  \n",
       "10                             1  TARA_ION_RAW        arnC  \n",
       "11                             1  TARA_ION_RAW        arnC  \n",
       "12                             1  TARA_ION_RAW       tet35  \n",
       "13                             1  TARA_ION_RAW        golS  \n",
       "14                             1  TARA_ION_RAW        dfrC  \n",
       "15                             1  TARA_ION_RAW        BcrA  \n",
       "16                             1  TARA_ION_RAW        msrB  \n",
       "17                             1  TARA_ION_RAW        tsnr  \n",
       "18                             1  TARA_ION_RAW        lmrD  \n",
       "19                             1  TARA_ION_RAW        arlR  \n",
       "20                             1  TARA_ION_RAW        dfrE  \n",
       "21                             1  TARA_ION_RAW    tetB(60)  \n",
       "22                             1  TARA_ION_RAW        baeR  \n",
       "23                             1  TARA_ION_RAW        patB  \n",
       "24                             1  TARA_ION_RAW         mfd  \n",
       "25                             1  TARA_ION_RAW        msrB  \n",
       "26                             1  TARA_ION_RAW        KsgA  \n",
       "27                             1  TARA_ION_RAW        uppP  \n",
       "28                             1  TARA_ION_RAW         cfr  \n",
       "29                             1  TARA_ION_RAW        msrB  \n",
       "...                          ...           ...         ...  \n",
       "2813                           1  TARA_SOC_RAW        msrB  \n",
       "2814                           1  TARA_SOC_RAW       dfrA3  \n",
       "2815                           1  TARA_SOC_RAW        KsgA  \n",
       "2816                           1  TARA_SOC_RAW        dfrE  \n",
       "2817                           1  TARA_SOC_RAW        dfrE  \n",
       "2818                           1  TARA_SOC_RAW       vanRB  \n",
       "2819                           1  TARA_SOC_RAW        patA  \n",
       "2820                           1  TARA_SOC_RAW        baeR  \n",
       "2821                           1  TARA_SOC_RAW        sulA  \n",
       "2822                           1  TARA_SOC_RAW      dfrA26  \n",
       "2823                           1  TARA_SOC_RAW        uppP  \n",
       "2824                           1  TARA_SOC_RAW        uppP  \n",
       "2825                           1  TARA_SOC_RAW      hp1181  \n",
       "2826                           1  TARA_SOC_RAW        adeL  \n",
       "2827                           1  TARA_SOC_RAW         cfr  \n",
       "2828                           1  TARA_SOC_RAW  K678_12262  \n",
       "2829                           1  TARA_SOC_RAW         CRP  \n",
       "2830                           1  TARA_SOC_RAW        msrB  \n",
       "2831                           1  TARA_SOC_RAW        BcrA  \n",
       "2832                           1  TARA_SOC_RAW        ErmG  \n",
       "2833                           1  TARA_SOC_RAW        patA  \n",
       "2834                           1  TARA_SOC_RAW        patA  \n",
       "2835                           1  TARA_SOC_RAW       vanRA  \n",
       "2836                           1  TARA_SOC_RAW       vanHB  \n",
       "2837                           1  TARA_SOC_RAW        PmrE  \n",
       "2838                           1  TARA_SOC_RAW    tetA(60)  \n",
       "2839                           1  TARA_SOC_RAW         cfr  \n",
       "2840                           1  TARA_SOC_RAW        dfrE  \n",
       "2841                           1  TARA_SOC_RAW       vanRF  \n",
       "2842                           1  TARA_SOC_RAW        cpxr  \n",
       "\n",
       "[116425 rows x 14 columns]"
      ]
     },
     "execution_count": 17,
     "metadata": {},
     "output_type": "execute_result"
    }
   ],
   "source": [
    "deepARG"
   ]
  },
  {
   "cell_type": "code",
   "execution_count": 18,
   "metadata": {},
   "outputs": [
    {
     "data": {
      "image/png": "[encoded data removed]",
      "text/plain": [
       "<Figure size 864x720 with 1 Axes>"
      ]
     },
     "metadata": {},
     "output_type": "display_data"
    }
   ],
   "source": [
    "plt.figure(figsize=(12,10))\n",
    "deepARG.groupby([\"#ARG\"])[\"#ARG\"].count().sort_values(ascending=False)[0:50].plot(kind=\"bar\")\n",
    "plt.ylabel(\"Number of ORFs\")\n",
    "plt.show()"
   ]
  },
  {
   "cell_type": "code",
   "execution_count": 19,
   "metadata": {},
   "outputs": [
    {
     "data": {
      "image/png": "[encoded data removed]",
      "text/plain": [
       "<Figure size 864x720 with 1 Axes>"
      ]
     },
     "metadata": {},
     "output_type": "display_data"
    }
   ],
   "source": [
    "plt.figure(figsize=(12,10))\n",
    "deepARG.groupby([\"#ARG\"])[\"#ARG\"].count().sort_values(ascending=False)[0:30].plot(kind=\"bar\")\n",
    "plt.ylabel(\"Number of ORFs\")\n",
    "plt.show()"
   ]
  },
  {
   "cell_type": "code",
   "execution_count": 20,
   "metadata": {},
   "outputs": [],
   "source": [
    "args_per_sample=pd.DataFrame(deepARG.groupby(\"sample\")[\"#ARG\"].count()).reset_index()"
   ]
  },
  {
   "cell_type": "code",
   "execution_count": 21,
   "metadata": {},
   "outputs": [],
   "source": [
    "table_number_paper=pd.merge(table_number_paper,args_per_sample,on=\"sample\")"
   ]
  },
  {
   "cell_type": "code",
   "execution_count": 22,
   "metadata": {},
   "outputs": [],
   "source": [
    "table_number_paper.to_csv(\"../table1.tsv\",sep=\"\\t\",index=None)\n",
    "table_number_paper.to_excel(\"../table1.xlsx\",index=None)"
   ]
  },
  {
   "cell_type": "code",
   "execution_count": 23,
   "metadata": {},
   "outputs": [
    {
     "data": {
      "text/plain": [
       "116425"
      ]
     },
     "execution_count": 23,
     "metadata": {},
     "output_type": "execute_result"
    }
   ],
   "source": [
    "table_number_paper[\"#ARG\"].sum()"
   ]
  },
  {
   "cell_type": "markdown",
   "metadata": {},
   "source": [
    "### Merging the deepARG results with contig IDs on read id (orf/gene id)"
   ]
  },
  {
   "cell_type": "code",
   "execution_count": 24,
   "metadata": {},
   "outputs": [],
   "source": [
    "#deepARG_=pd.merge(deepARG,contig_gene_ids,how=\"left\",on=[\"read_id\",\"sample\"])"
   ]
  },
  {
   "cell_type": "code",
   "execution_count": 25,
   "metadata": {},
   "outputs": [],
   "source": [
    "deepARG_=pd.merge(deepARG,new_contig_gene_ids,how=\"left\",on=[\"read_id\",\"sample\"])"
   ]
  },
  {
   "cell_type": "code",
   "execution_count": 26,
   "metadata": {},
   "outputs": [
    {
     "data": {
      "text/plain": [
       "109579"
      ]
     },
     "execution_count": 26,
     "metadata": {},
     "output_type": "execute_result"
    }
   ],
   "source": [
    "len(set(deepARG_[\"contig_id\"]))"
   ]
  },
  {
   "cell_type": "code",
   "execution_count": 27,
   "metadata": {},
   "outputs": [
    {
     "data": {
      "text/plain": [
       "116425"
      ]
     },
     "execution_count": 27,
     "metadata": {},
     "output_type": "execute_result"
    }
   ],
   "source": [
    "len(set(deepARG_[\"read_id\"]))"
   ]
  },
  {
   "cell_type": "code",
   "execution_count": 28,
   "metadata": {},
   "outputs": [],
   "source": [
    "## list of contigs with ARGS\n",
    "deepARG_[\"contig_id\"].drop_duplicates().to_csv(\"../TARA_CONTIGS/all/all_contigs_with_args.list\",index=None,header=None)\n"
   ]
  },
  {
   "cell_type": "code",
   "execution_count": null,
   "metadata": {},
   "outputs": [],
   "source": []
  },
  {
   "cell_type": "markdown",
   "metadata": {},
   "source": [
    "### Making files with \"reads\" (gene ids) from deepARG results"
   ]
  },
  {
   "cell_type": "code",
   "execution_count": null,
   "metadata": {},
   "outputs": [],
   "source": [
    "for f in list(set(deepARG[\"sample\"])):\n",
    "    tmp=deepARG[deepARG[\"sample\"]==f]\n",
    "    tmp=tmp[\"read_id\"]\n",
    "    tmp.to_csv(\"../TARA_ARGS/\"+f.split(\".\")[0]+\".read_list\",header=None,index=None)"
   ]
  },
  {
   "cell_type": "code",
   "execution_count": null,
   "metadata": {},
   "outputs": [],
   "source": [
    "for f in list(set(deepARG[\"sample\"])):\n",
    "    tmp=deepARG_[deepARG_[\"sample\"]==f]\n",
    "    tmp=tmp[\"ptn_id\"]\n",
    "    tmp.to_csv(\"../TARA_ARGS/\"+f.split(\".\")[0]+\".ptn_list\",header=None,index=None)"
   ]
  },
  {
   "cell_type": "markdown",
   "metadata": {},
   "source": [
    "### After this step, I used samtools faixd to extract only those ORFs on the lists generated\n",
    "using faidx_extract.sh\n",
    "```\n",
    "#!/bin/bash\n",
    "\n",
    "\n",
    "inreads=$(readlink -f ../TARA_ORFS)/\n",
    "inlist=$(readlink -f ../TARA_ARGS)/\n",
    "\n",
    "\n",
    "cd ${inreads}/ptn\n",
    "\n",
    "for f in $(ls *.faa );do\n",
    "\n",
    "sbatch -p dontuseme,himem -c 10 --mem=4gb -o ${f%.fa.faa}_faixd_ext_ptn.out << EOF\n",
    "#!/bin/bash\n",
    "module load samtools\n",
    "xargs samtools faidx ${f} < ${inlist}${f%.fa.faa}.ptn_list > ${inlist}${f%.fa.faa}.ARGS_ptn\n",
    "EOF\n",
    "\n",
    "done\n",
    "\n",
    "\n",
    "cd ${inreads}/nt\n",
    "\n",
    "for f in $(ls *.fna );do\n",
    "sbatch -p dontuseme,himem -c 10 --mem=4gb -o ${f%.fa.fna}_faixd_ext_nt.out << EOF\n",
    "#!/bin/bash\n",
    "module load samtools\n",
    "xargs samtools faidx ${f} < ${inlist}${f%.fa.fna}.read_list > ${inlist}${f%.fa.fna}.ARGS\n",
    "EOF\n",
    "\n",
    "done\n",
    "\n",
    "```"
   ]
  },
  {
   "cell_type": "markdown",
   "metadata": {},
   "source": [
    "### generate fasta with all contigs with at least 1 ARG\n",
    "\n",
    "```\n",
    "cd ../TARA_CONTIGS/all/\n",
    "module load samtools\n",
    "xargs samtools faidx all_contigs.fa < all_contigs_with_args.list > all_contigs_with_args.fasta\n",
    "```\n"
   ]
  },
  {
   "cell_type": "markdown",
   "metadata": {},
   "source": [
    "## all ORFs from contigs with at least 1 ARG"
   ]
  },
  {
   "cell_type": "code",
   "execution_count": null,
   "metadata": {},
   "outputs": [],
   "source": [
    "contigs_orfs_with_args=new_contig_gene_ids[new_contig_gene_ids[\"contig_id\"].isin(deepARG_[\"contig_id\"].drop_duplicates())].drop_duplicates()"
   ]
  },
  {
   "cell_type": "code",
   "execution_count": null,
   "metadata": {},
   "outputs": [],
   "source": [
    "contigs_orfs_with_args.head()"
   ]
  },
  {
   "cell_type": "code",
   "execution_count": null,
   "metadata": {},
   "outputs": [],
   "source": [
    "!mkdir ../contigs_with_args_orfs"
   ]
  },
  {
   "cell_type": "code",
   "execution_count": null,
   "metadata": {},
   "outputs": [],
   "source": [
    "for s in list(set(contigs_orfs_with_args[\"sample\"])):\n",
    "    tmp=contigs_orfs_with_args[contigs_orfs_with_args[\"sample\"]==s]\n",
    "    tmp[\"read_id\"].to_csv(\"../contigs_with_args_orfs/\"+s+\"_orfs_in_contigs_with_args.list\",header=None,index=None)"
   ]
  },
  {
   "cell_type": "markdown",
   "metadata": {},
   "source": [
    "## extracting of all ORFs from contigs with at least 1 ARG\n",
    "\n",
    "```\n",
    "cd ../TARA_ORFS/nt\n",
    "for f in $(ls *.fna); do xargs samtools faidx $f < ../../contigs_with_args_orfs/${f%.fa.fna}_orfs_in_contigs_with_args.list > ${f%.fa.fna}.args_orfs.fna;done\n",
    "```"
   ]
  },
  {
   "cell_type": "markdown",
   "metadata": {},
   "source": [
    "### PlasFlow "
   ]
  },
  {
   "cell_type": "markdown",
   "metadata": {},
   "source": [
    "``` \n",
    "./PlasFlow.py --input ../TARA_CONTIGS/all/all_contigs_with_args.fasta --output ~/projects/Bioinformatics/bit_resistome/all_with_args.plasflowout --threshold 0.7\n",
    "``` "
   ]
  },
  {
   "cell_type": "code",
   "execution_count": null,
   "metadata": {},
   "outputs": [],
   "source": [
    "pf=pd.read_table(\"../all_with_args.plasflowout\") \n",
    "pf.drop([\"Unnamed: 0\",\"contig_id\"],axis=1,inplace=True)"
   ]
  },
  {
   "cell_type": "code",
   "execution_count": null,
   "metadata": {},
   "outputs": [],
   "source": [
    "pf.head()"
   ]
  },
  {
   "cell_type": "code",
   "execution_count": null,
   "metadata": {},
   "outputs": [],
   "source": [
    "pf_=pf[[\"contig_name\",\"contig_length\",\"label\"]]"
   ]
  },
  {
   "cell_type": "code",
   "execution_count": null,
   "metadata": {},
   "outputs": [],
   "source": [
    "len(pf_)"
   ]
  },
  {
   "cell_type": "code",
   "execution_count": null,
   "metadata": {},
   "outputs": [],
   "source": [
    "deepARG_plas=pd.merge(deepARG_,pf_,left_on=\"contig_id\",right_on=\"contig_name\")"
   ]
  },
  {
   "cell_type": "code",
   "execution_count": null,
   "metadata": {},
   "outputs": [],
   "source": [
    "deepARG_plas['plasmid'] = np.where(deepARG_plas['label'].str.contains(\"plasmid\")==True, 'yes', 'no')\n"
   ]
  },
  {
   "cell_type": "code",
   "execution_count": null,
   "metadata": {},
   "outputs": [],
   "source": [
    "deepARG_plas.drop(\"contig_name\",axis=1,inplace=True)"
   ]
  },
  {
   "cell_type": "code",
   "execution_count": null,
   "metadata": {},
   "outputs": [],
   "source": [
    "deepARG_plas.head()\n"
   ]
  },
  {
   "cell_type": "code",
   "execution_count": null,
   "metadata": {},
   "outputs": [],
   "source": [
    "len(deepARG_plas)"
   ]
  },
  {
   "cell_type": "code",
   "execution_count": null,
   "metadata": {},
   "outputs": [],
   "source": [
    "deepARG_plas.groupby(\"plasmid\")[\"read_id\"].count()"
   ]
  },
  {
   "cell_type": "code",
   "execution_count": null,
   "metadata": {},
   "outputs": [],
   "source": [
    "deepARG_plas.groupby(\"label\")[\"read_id\"].count()"
   ]
  },
  {
   "cell_type": "code",
   "execution_count": null,
   "metadata": {},
   "outputs": [],
   "source": [
    "deepARG_plas[\"Plasflow_phyla\"]=deepARG_plas[\"label\"].str.split(\".\",expand=True)[1]"
   ]
  },
  {
   "cell_type": "code",
   "execution_count": null,
   "metadata": {},
   "outputs": [],
   "source": [
    "deepARG_plas[deepARG_plas[\"plasmid\"]==\"yes\"].groupby(\"Plasflow_phyla\")[\"Plasflow_phyla\"].count()"
   ]
  },
  {
   "cell_type": "code",
   "execution_count": null,
   "metadata": {},
   "outputs": [],
   "source": [
    "plt.figure(figsize=(10,8))\n",
    "count=deepARG_plas[deepARG_plas[\"plasmid\"]==\"yes\"].groupby(\"Plasflow_phyla\")[\"Plasflow_phyla\"].count().values\n",
    "index=deepARG_plas[deepARG_plas[\"plasmid\"]==\"yes\"].groupby(\"Plasflow_phyla\")[\"Plasflow_phyla\"].count().index\n",
    "sns.barplot(index,count)\n",
    "#plt.bar(range(len(index)),count)\n",
    "#plt.xticks(range(len(index)), index,rotation=\"vertical\",fontsize=\"14\")\n",
    "plt.yticks(fontsize=\"14\")\n",
    "plt.ylabel(\"Number of ORFs in plasmids\",fontsize=\"12\")\n",
    "#plt.xlabel(\"Phylum\",fontsize=\"14\")\n",
    "plt.show()\n",
    "\n"
   ]
  },
  {
   "cell_type": "code",
   "execution_count": null,
   "metadata": {},
   "outputs": [],
   "source": [
    "deepARG_plas[deepARG_plas[\"plasmid\"]==\"no\"].groupby(\"Plasflow_phyla\")[\"Plasflow_phyla\"].count()"
   ]
  },
  {
   "cell_type": "code",
   "execution_count": null,
   "metadata": {},
   "outputs": [],
   "source": [
    "plt.figure(figsize=(10,8))\n",
    "count=deepARG_plas[deepARG_plas[\"plasmid\"]==\"no\"].groupby(\"Plasflow_phyla\")[\"Plasflow_phyla\"].count().values\n",
    "index=deepARG_plas[deepARG_plas[\"plasmid\"]==\"no\"].groupby(\"Plasflow_phyla\")[\"Plasflow_phyla\"].count().index\n",
    "sns.barplot(index,count)\n",
    "#plt.bar(range(len(index)),count)\n",
    "plt.xticks(rotation=\"vertical\")\n",
    "plt.yticks(fontsize=\"12\")\n",
    "plt.ylabel(\"Number of ORFs in chr\",fontsize=\"12\")\n",
    "#plt.xlabel(\"Phylum\",fontsize=\"12\")\n",
    "plt.show()"
   ]
  },
  {
   "cell_type": "markdown",
   "metadata": {},
   "source": [
    "### counting ORFs with ARGS for each class in each sample (region)"
   ]
  },
  {
   "cell_type": "code",
   "execution_count": null,
   "metadata": {},
   "outputs": [],
   "source": [
    "classes_regions_orfs=pd.DataFrame(deepARG_plas.groupby([\"predicted_ARG-class\",\"sample\",\"plasmid\"])[\"read_id\"].count())"
   ]
  },
  {
   "cell_type": "code",
   "execution_count": null,
   "metadata": {},
   "outputs": [],
   "source": [
    "test_graphic=classes_regions_orfs.reset_index(\"predicted_ARG-class\")"
   ]
  },
  {
   "cell_type": "code",
   "execution_count": null,
   "metadata": {
    "scrolled": false
   },
   "outputs": [],
   "source": [
    "# for a in set(test_graphic[\"predicted_ARG-class\"]):\n",
    "#     tmp_g=test_graphic[test_graphic[\"predicted_ARG-class\"]==a]\n",
    "#     plt.figure(figsize=(10,10))\n",
    "#     sns.barplot(tmp_g.index,tmp_g[\"read_id\"])\n",
    "#     plt.xticks(rotation=\"vertical\",fontsize=\"12\")\n",
    "#     #tmp_g.plot(kind=\"bar\",legend=False)\n",
    "#     plt.title(a)\n",
    "#     plt.ylabel(\"Number of ORFs\")\n",
    "#     plt.show()"
   ]
  },
  {
   "cell_type": "code",
   "execution_count": null,
   "metadata": {},
   "outputs": [],
   "source": [
    "# classes_regions_orfs.plot(kind=\"bar\")\n",
    "# plt.show()"
   ]
  },
  {
   "cell_type": "code",
   "execution_count": null,
   "metadata": {},
   "outputs": [],
   "source": [
    "suplementar_1=pd.DataFrame(deepARG_plas.groupby([\"predicted_ARG-class\",\"sample\"])[\"read_id\"].count())"
   ]
  },
  {
   "cell_type": "code",
   "execution_count": null,
   "metadata": {},
   "outputs": [],
   "source": [
    "suplementar_1.columns=[\"Number of ORFs\"]"
   ]
  },
  {
   "cell_type": "code",
   "execution_count": null,
   "metadata": {},
   "outputs": [],
   "source": [
    "suplementar_1.head()"
   ]
  },
  {
   "cell_type": "code",
   "execution_count": null,
   "metadata": {},
   "outputs": [],
   "source": [
    "suplementar_1.to_excel(\"../suplementar1.xlsx\")"
   ]
  },
  {
   "cell_type": "code",
   "execution_count": null,
   "metadata": {},
   "outputs": [],
   "source": [
    "classes_regions_orfs.head()"
   ]
  },
  {
   "cell_type": "code",
   "execution_count": null,
   "metadata": {},
   "outputs": [],
   "source": [
    "classes_regions_orfs.to_excel(\"../Table2_.xlsx\")"
   ]
  },
  {
   "cell_type": "markdown",
   "metadata": {},
   "source": [
    "### Extract fasta files for each ARG for phylogeny\n",
    "\n",
    "#### First, I had to add info of sample (REGION) name to the headers in the ARGs fasta files:\n",
    "\n",
    "```\n",
    "cd ../TARA_ARGS\n",
    "\n",
    "for f in $(ls *.ARGS);do awk -v var=${f%.ARGS} '/^>/ {$0=$0 \"|\"var}1' $f > $f.edit.fasta; done\n",
    "for f in $(ls *.ARGS_ptn);do awk -v var=${f%.ARGS_ptn} '/^>/ {$0=$0 \"|\"var}1' $f > $f.edit.ptn.fasta; done\n",
    "```\n",
    "#### After, concatenated all the fastas from all regions, generating all ORFs with ARGS into one fasta\n",
    "```\n",
    "cat *.edit.fasta  > ALL_ARGS.fasta\n",
    "cat *.edit.ptn.fasta  > ALL_ARGS_ptn.fasta\n",
    "```\n",
    "\n",
    "\n",
    "    \n",
    "    "
   ]
  },
  {
   "cell_type": "markdown",
   "metadata": {},
   "source": [
    "### Kaiju LCA \n",
    "```\n",
    "Web server - Results\n",
    "Job Parameters\n",
    "Job ID: 110552-8280375508\n",
    "Job Name: testargs\n",
    "Reference database: nr +euk\n",
    "Database date: 2017-05-16\n",
    "SEG low complexity filter: yes\n",
    "Run mode: greedy\n",
    "Minimum match length: 11\n",
    "Minimum match score: 75\n",
    "Allowed mismatches: 5\n",
    "\n",
    "Metagenome Overview\n",
    "114608 out of 116425 reads were classified.\n",
    "```"
   ]
  },
  {
   "cell_type": "code",
   "execution_count": null,
   "metadata": {},
   "outputs": [],
   "source": [
    "kaiju=pd.read_table(\"../kaiju.out\",header=None)"
   ]
  },
  {
   "cell_type": "code",
   "execution_count": null,
   "metadata": {},
   "outputs": [],
   "source": [
    "kaiju=kaiju[[1,2]]\n",
    "kaiju.columns=[\"ORF_ID\",\"taxon_kaiju\"]"
   ]
  },
  {
   "cell_type": "code",
   "execution_count": null,
   "metadata": {},
   "outputs": [],
   "source": [
    "ncbi = NCBITaxa()\n",
    "taxid2name = ncbi.get_taxid_translator(list(kaiju[\"taxon_kaiju\"].drop_duplicates()))\n",
    "taxonclassification=pd.DataFrame([taxid2name]).melt()\n",
    "taxonclassification.columns=[\"taxon_kaiju\",\"taxon_name_kaiju\"]"
   ]
  },
  {
   "cell_type": "code",
   "execution_count": null,
   "metadata": {},
   "outputs": [],
   "source": [
    "kaiju=pd.merge(kaiju,taxonclassification,on=\"taxon_kaiju\",how=\"left\")"
   ]
  },
  {
   "cell_type": "code",
   "execution_count": null,
   "metadata": {},
   "outputs": [],
   "source": [
    "kaiju.head()"
   ]
  },
  {
   "cell_type": "code",
   "execution_count": null,
   "metadata": {},
   "outputs": [],
   "source": [
    "#deepARG_plas.head()"
   ]
  },
  {
   "cell_type": "code",
   "execution_count": null,
   "metadata": {},
   "outputs": [],
   "source": [
    "deepARG_plas[\"ORF_ID\"]=deepARG_plas[\"read_id\"]+\"|\"+deepARG_plas[\"sample\"]"
   ]
  },
  {
   "cell_type": "code",
   "execution_count": null,
   "metadata": {},
   "outputs": [],
   "source": [
    "deepARG_plas_kaiju=pd.merge(deepARG_plas,kaiju,on=\"ORF_ID\",how=\"left\")"
   ]
  },
  {
   "cell_type": "code",
   "execution_count": null,
   "metadata": {},
   "outputs": [],
   "source": [
    "deepARG_plas_kaiju.head()"
   ]
  },
  {
   "cell_type": "code",
   "execution_count": null,
   "metadata": {},
   "outputs": [],
   "source": [
    "#!wget http://kaiju.binf.ku.dk/output/110552-8280375508/kaiju.taxonpaths.txt"
   ]
  },
  {
   "cell_type": "code",
   "execution_count": null,
   "metadata": {},
   "outputs": [],
   "source": [
    "kaiju_path=pd.read_csv(\"../kaiju.taxonpaths.txt\",header=None,sep=\"/t\")"
   ]
  },
  {
   "cell_type": "code",
   "execution_count": null,
   "metadata": {},
   "outputs": [],
   "source": [
    "kaiju_path=kaiju_path[0].str.split(\"\\t\",expand=True)"
   ]
  },
  {
   "cell_type": "code",
   "execution_count": null,
   "metadata": {},
   "outputs": [],
   "source": [
    "kaiju_path[0]=kaiju_path[0].astype(int)"
   ]
  },
  {
   "cell_type": "code",
   "execution_count": null,
   "metadata": {},
   "outputs": [],
   "source": [
    "kaiju_virus=kaiju_path[kaiju_path[2]==\"Viruses\"]"
   ]
  },
  {
   "cell_type": "code",
   "execution_count": null,
   "metadata": {},
   "outputs": [],
   "source": [
    "plt.figure(figsize=(12,10))\n",
    "kaiju_virus.groupby(4)[0].sum().sort_values(ascending=False).plot(kind=\"bar\")\n",
    "plt.show()"
   ]
  },
  {
   "cell_type": "code",
   "execution_count": null,
   "metadata": {},
   "outputs": [],
   "source": [
    "kaiju_level5=kaiju_path[[0,5]]#.groupby(5)[0]"
   ]
  },
  {
   "cell_type": "code",
   "execution_count": null,
   "metadata": {},
   "outputs": [],
   "source": [
    "kaiju_level5[0]=kaiju_level5[0].astype(int)"
   ]
  },
  {
   "cell_type": "code",
   "execution_count": null,
   "metadata": {},
   "outputs": [],
   "source": [
    "kaiju_level5.head()"
   ]
  },
  {
   "cell_type": "code",
   "execution_count": null,
   "metadata": {},
   "outputs": [],
   "source": [
    "plt.figure(figsize=(12,10))\n",
    "kaiju_level5.groupby(5)[0].sum().sort_values(ascending=False)[0:30].plot(kind=\"bar\")\n",
    "plt.show()"
   ]
  },
  {
   "cell_type": "code",
   "execution_count": null,
   "metadata": {},
   "outputs": [],
   "source": [
    "#deepARG_plas_kaiju.groupby(\"taxon_name_kaiju\")[\"#ARG\"].count().sort_values(ascending=False)"
   ]
  },
  {
   "cell_type": "code",
   "execution_count": null,
   "metadata": {},
   "outputs": [],
   "source": [
    "#deepARG_plas_kaiju[deepARG_plas_kaiju[\"#ARG\"].str.contains(\"VANB\")==True]"
   ]
  },
  {
   "cell_type": "code",
   "execution_count": null,
   "metadata": {},
   "outputs": [],
   "source": [
    "deepARG_plas_kaiju.to_excel(\"../all_ORFS_ARGS_plas_kaiju.xlsx\",index=None)\n",
    "\n"
   ]
  },
  {
   "cell_type": "code",
   "execution_count": null,
   "metadata": {},
   "outputs": [],
   "source": [
    "#deepARG_plas_kaiju.head()"
   ]
  },
  {
   "cell_type": "code",
   "execution_count": null,
   "metadata": {},
   "outputs": [],
   "source": [
    "#deepARG_plas_kaiju[deepARG_plas_kaiju[\"#ARG\"]==\"MCR-1\"]"
   ]
  },
  {
   "cell_type": "markdown",
   "metadata": {},
   "source": [
    "### generating a list of  IDs \"read_id\" (orfs) with sample  (region) information to be used to extract indidual ARG fasta from all_ARGs.fasta"
   ]
  },
  {
   "cell_type": "code",
   "execution_count": null,
   "metadata": {},
   "outputs": [],
   "source": [
    "all_ARGS=list(set(deepARG_plas[\"#ARG\"]))\n",
    "df_tmp_list=deepARG_plas[[\"#ARG\",\"ORF_ID\",\"sample\"]]"
   ]
  },
  {
   "cell_type": "code",
   "execution_count": null,
   "metadata": {},
   "outputs": [],
   "source": [
    "df_tmp_list.head()"
   ]
  },
  {
   "cell_type": "code",
   "execution_count": null,
   "metadata": {},
   "outputs": [],
   "source": [
    "!mkdir -p ../ARG_ORFs_lists"
   ]
  },
  {
   "cell_type": "code",
   "execution_count": null,
   "metadata": {},
   "outputs": [],
   "source": [
    "for a in all_ARGS:\n",
    "    tmp=df_tmp_list[df_tmp_list[\"#ARG\"]==a]\n",
    "    #tmp[\"out\"]=tmp[\"read_id\"]+\"|\"+tmp[\"sample\"]\n",
    "    #tmp[\"out\"].to_csv(\"../ARG_list/\"+re.sub('[^a-zA-Z0-9 \\n\\.]', '', a)+\".list\",header=None,index=None)\n",
    "    tmp[\"ORF_ID\"].to_csv(\"../ARG_ORFs_lists/\"+re.sub('[^a-zA-Z0-9 \\n\\.]', '', a)+\".list\",header=None,index=None)"
   ]
  },
  {
   "cell_type": "code",
   "execution_count": null,
   "metadata": {},
   "outputs": [],
   "source": [
    "all_ARGS=list(set(deepARG_plas[\"#ARG\"]))\n",
    "df_tmp_list_ptn=deepARG_plas[[\"#ARG\",\"ptn_id\",\"sample\"]]"
   ]
  },
  {
   "cell_type": "code",
   "execution_count": null,
   "metadata": {},
   "outputs": [],
   "source": [
    "!mkdir -p ../ARG_ORFs_lists/ptn"
   ]
  },
  {
   "cell_type": "code",
   "execution_count": null,
   "metadata": {},
   "outputs": [],
   "source": [
    "for a in all_ARGS:\n",
    "    tmp=df_tmp_list_ptn[df_tmp_list_ptn[\"#ARG\"]==a]\n",
    "    #tmp[\"out\"]=tmp[\"read_id\"]+\"|\"+tmp[\"sample\"]\n",
    "    #tmp[\"out\"].to_csv(\"../ARG_list/\"+re.sub('[^a-zA-Z0-9 \\n\\.]', '', a)+\".list\",header=None,index=None)\n",
    "    tmp[\"ptn_id\"]=tmp[\"ptn_id\"]+\"|\"+tmp[\"sample\"]\n",
    "    tmp[\"ptn_id\"].to_csv(\"../ARG_ORFs_lists/ptn/\"+re.sub('[^a-zA-Z0-9 \\n\\.]', '', a)+\".list\",header=None,index=None)\n",
    "    "
   ]
  },
  {
   "cell_type": "code",
   "execution_count": null,
   "metadata": {},
   "outputs": [],
   "source": [
    "deepARG_plas_kaiju.head()"
   ]
  },
  {
   "cell_type": "code",
   "execution_count": null,
   "metadata": {},
   "outputs": [],
   "source": [
    "deepARG_plas_kaiju[\"new_header_ptn\"]=deepARG_plas_kaiju[\"ptn_id\"].str.split(\"|\",expand=True)[0]+\"|\"+deepARG_plas_kaiju[\"sample\"]+\"|\"+deepARG_plas_kaiju[\"taxon_name_kaiju\"].fillna(\"--\")+\"|\"+deepARG_plas_kaiju[\"plasmid\"]"
   ]
  },
  {
   "cell_type": "code",
   "execution_count": null,
   "metadata": {},
   "outputs": [],
   "source": [
    "df_tmp_list_ptn=deepARG_plas_kaiju[[\"#ARG\",\"ptn_id\",\"sample\",\"new_header_ptn\"]]\n",
    "for a in all_ARGS:\n",
    "    tmp=df_tmp_list_ptn[df_tmp_list_ptn[\"#ARG\"]==a]\n",
    "    \n",
    "    tmp[\"ptn_id\"]=tmp[\"ptn_id\"]+\"|\"+tmp[\"sample\"]\n",
    "    tmp[[\"ptn_id\",\"new_header_ptn\"]].to_csv(\"../ARG_ORFs_lists/ptn/\"+re.sub('[^a-zA-Z0-9 \\n\\.]', '', a)+\".list_toedit\",sep=\"\\t\",header=None,index=None)\n",
    "    "
   ]
  },
  {
   "cell_type": "code",
   "execution_count": null,
   "metadata": {},
   "outputs": [],
   "source": [
    "deepARG_plas_kaiju.columns"
   ]
  },
  {
   "cell_type": "code",
   "execution_count": null,
   "metadata": {},
   "outputs": [],
   "source": [
    "deepARG_plas_kaiju.rename(columns={\"read_id\":\"nt_id\",\"new_header_ptn\":\"header_ptn_for_phylogeny\"},inplace=True)"
   ]
  },
  {
   "cell_type": "code",
   "execution_count": null,
   "metadata": {},
   "outputs": [],
   "source": [
    "deepARG_plas_kaiju.head()"
   ]
  },
  {
   "cell_type": "code",
   "execution_count": null,
   "metadata": {},
   "outputs": [],
   "source": [
    "#deepARG_plas_kaiju[\"label\"]"
   ]
  },
  {
   "cell_type": "code",
   "execution_count": null,
   "metadata": {},
   "outputs": [],
   "source": [
    "deepARG_plas_kaiju.to_csv(\"../deepARG_plas_kaiju.tsv\",sep=\"\\t\",index=None)"
   ]
  },
  {
   "cell_type": "markdown",
   "metadata": {},
   "source": [
    "### generate the fasta from the lists\n",
    "```\n",
    "cd ../ARG_ORFs_lists\n",
    "for f in $(ls *.list);do xargs samtools faidx ../TARA_ARGS/ALL_ARGS.fasta <  $f > ${f%.list}.fasta;done\n",
    "\n",
    "cd ../ARG_ORFs_lists/ptn\n",
    "for f in $(ls *.list);do xargs samtools faidx ../../TARA_ARGS/ALL_ARGS_ptn.fasta <  $f > ${f%.list}.fasta;done\n",
    "\n",
    "```"
   ]
  },
  {
   "cell_type": "markdown",
   "metadata": {},
   "source": [
    "### editing the header for phylogeny\n",
    "\n",
    "```\n",
    "./seqkit replace -p \"(.+)\" -r '{kv}' -k ARG_ORFs_lists/ptn/MSBA.list_toedit ARG_ORFs_lists/ptn/MSBA.fasta > ARG_ORFs_lists/ptn/MSBA_ptn_edit.fasta\n",
    "```"
   ]
  },
  {
   "cell_type": "markdown",
   "metadata": {},
   "source": [
    "### Checking contigs with multiple ARGs"
   ]
  },
  {
   "cell_type": "code",
   "execution_count": null,
   "metadata": {},
   "outputs": [],
   "source": [
    "multiple_ARGS=deepARG_plas.groupby([\"contig_id\",\"plasmid\"])[\"#ARG\"].count()\n",
    "multiple_ARGS=pd.DataFrame(multiple_ARGS)\n",
    "multiple_ARGS=multiple_ARGS[multiple_ARGS[\"#ARG\"]>2]"
   ]
  },
  {
   "cell_type": "code",
   "execution_count": null,
   "metadata": {},
   "outputs": [],
   "source": []
  },
  {
   "cell_type": "code",
   "execution_count": null,
   "metadata": {},
   "outputs": [],
   "source": [
    "multiple_ARGS_distribution=pd.DataFrame(multiple_ARGS.groupby([\"#ARG\",\"plasmid\"])[\"#ARG\"].count())\n",
    "multiple_ARGS_distribution.columns=[\"Number of contigs\"]\n",
    "multiple_ARGS_distribution.reset_index(inplace=True)\n",
    "multiple_ARGS_distribution.columns=[\"Number of #ARGs\",\"plasmid\",\"Number of contigs\"]"
   ]
  },
  {
   "cell_type": "code",
   "execution_count": null,
   "metadata": {},
   "outputs": [],
   "source": [
    "## List of contig ids for those with more than 2 ARGs\n",
    "## It will be used to generate a fasta with those contigs for chimera analysis\n",
    "multiple_ARGS.reset_index()[\"contig_id\"].to_csv(\"../TARA_CONTIGS/all/contigs_multiple_ARGS.list\",header=None,index=None)\n",
    "\n",
    "## Table with contigs with multiple args and the number of args they have for suplementar material\n",
    "multiple_ARGS.to_excel(\"../multiple_ARGs_contig_dist.xlsx\")"
   ]
  },
  {
   "cell_type": "code",
   "execution_count": null,
   "metadata": {},
   "outputs": [],
   "source": [
    "full_Table_multiARGS=deepARG_plas_kaiju[deepARG_plas_kaiju[\"contig_id\"].isin(list(multiple_ARGS.reset_index()[\"contig_id\"]))]"
   ]
  },
  {
   "cell_type": "code",
   "execution_count": null,
   "metadata": {
    "scrolled": true
   },
   "outputs": [],
   "source": [
    "full_Table_multiARGS[[\"#ARG\",\"predicted_ARG-class\",\"contig_id\",\"plasmid\",\"taxon_name_kaiju\"]].head()"
   ]
  },
  {
   "cell_type": "code",
   "execution_count": null,
   "metadata": {},
   "outputs": [],
   "source": [
    "multi_args_contigs=full_Table_multiARGS.groupby(\"contig_id\")[\"#ARG\"].count().sort_values(ascending=False)"
   ]
  },
  {
   "cell_type": "code",
   "execution_count": null,
   "metadata": {},
   "outputs": [],
   "source": [
    "#multi_args_contigs[0:2].index"
   ]
  },
  {
   "cell_type": "code",
   "execution_count": null,
   "metadata": {},
   "outputs": [],
   "source": [
    "#full_Table_multiARGS[full_Table_multiARGS[\"contig_id\"].isin(multi_args_contigs[0:1].index)]#[\"predicted_ARG-class\"])"
   ]
  },
  {
   "cell_type": "markdown",
   "metadata": {},
   "source": [
    "### extract contigs multiple ARGS (>2) from all_contigs.fa\n",
    "```\n",
    "cd ../TARA_CONTIGS/all\n",
    "samtools faidx all_contigs.fa < contigs_multiple_ARGS.list > contigs_multiple_ARGS.fasta\n",
    "```"
   ]
  },
  {
   "cell_type": "code",
   "execution_count": null,
   "metadata": {},
   "outputs": [],
   "source": [
    "#melhorar esse grafico\n",
    "\n",
    "multiple_ARGS_distribution.set_index([\"Number of #ARGs\",\"plasmid\"]).unstack().plot(kind=\"bar\",stacked=True)\n",
    "plt.legend([\"chr\",\"plasmid\"])\n",
    "plt.ylabel(\"Number of Contigs\")\n",
    "plt.show()"
   ]
  },
  {
   "cell_type": "code",
   "execution_count": null,
   "metadata": {},
   "outputs": [],
   "source": [
    "multiple_ARGS_distribution#[\"Number of contigs\"]"
   ]
  },
  {
   "cell_type": "code",
   "execution_count": null,
   "metadata": {},
   "outputs": [],
   "source": [
    "plt.figure(figsize=(12,10))\n",
    "deepARG.groupby([\"#ARG\"])[\"#ARG\"].count().sort_values(ascending=False)[0:30].plot(kind=\"bar\")\n",
    "plt.ylabel(\"Number of ORFs\")\n",
    "plt.show()"
   ]
  },
  {
   "cell_type": "markdown",
   "metadata": {},
   "source": [
    "# QUANTIFICATION from here ..."
   ]
  },
  {
   "cell_type": "code",
   "execution_count": null,
   "metadata": {},
   "outputs": [],
   "source": []
  },
  {
   "cell_type": "code",
   "execution_count": null,
   "metadata": {},
   "outputs": [],
   "source": []
  },
  {
   "cell_type": "code",
   "execution_count": null,
   "metadata": {},
   "outputs": [],
   "source": [
    "# Gambiarra pra definir regioes\n",
    "\n",
    "\n",
    "\n",
    "regions=[\"TARA_ANE_RAW\",\"ARA_ANW_RAW\",\"TARA_ASE_RAW\",\"TARA_ASW_RAW\",\"TARA_ION_RAW\",\"TARA_IOS_RAW\",\"TARA_MED_RAW\",\"TARA_PON_RAW\",\"TARA_PSE_RAW\",\"TARA_PSW_RAW\",\"TARA_RED_RAW\",\"TARA_SOC_RAW\"]\n",
    "\n"
   ]
  },
  {
   "cell_type": "markdown",
   "metadata": {},
   "source": [
    "### Mapping reads (382 samples) to ARGs extracted (12 regions) for quantification of ARGs on samples\n",
    "using bbmap.sh\n",
    "\n",
    "``` \n",
    "\n",
    "#!/bin/bash\n",
    "\n",
    "\n",
    "inreads=$(readlink -f ../reads)/\n",
    "inref=../TARA_ARGS/ALL_ARGS.fasta\n",
    "out=$(readlink -f ../bbmap_out)/\n",
    "logs=$(readlink -f ../slurm_logs)/\n",
    "\n",
    "cd ${inreads}\n",
    "\n",
    "        for f in $(ls *1.fastq );do\n",
    "sbatch -p dontuseme -c 18 -o ${logs}/${f%.fastq}_bbmap.%j.out << EOF\n",
    "#!/bin/bash\n",
    "module load java\n",
    "bbmap.sh touppercase=t ref=${inref}  scafstats=${out}/ALL_ARG_${f%_1.fastq}.cov  in1=$f in2=${f%1.fastq}2.fastq out=${out}/ALL_ARG_${f%_1.fastq}.sam rpkm=${out}/ALL_ARG_${f%_1.fastq}.rpkm \n",
    "rm ${out}/ALL_ARG_${f%_1.fastq}.sam\n",
    "EOF\n",
    "\n",
    "done\n",
    "```\n",
    "\n",
    "\n",
    "\n",
    "\n"
   ]
  },
  {
   "cell_type": "code",
   "execution_count": null,
   "metadata": {},
   "outputs": [],
   "source": []
  },
  {
   "cell_type": "markdown",
   "metadata": {},
   "source": [
    "### Parsing bbmap_out with FPKMs (all samples X  all ARGs from 12 regions)"
   ]
  },
  {
   "cell_type": "code",
   "execution_count": null,
   "metadata": {},
   "outputs": [],
   "source": [
    "## mapping to the concatenated version (all args from all regions as reference)"
   ]
  },
  {
   "cell_type": "code",
   "execution_count": null,
   "metadata": {},
   "outputs": [],
   "source": [
    "path_arg=\"../bbmap_out/\"\n",
    "files  = os.listdir(path_arg)\n",
    "all_FPKM=pd.DataFrame()\n",
    "reg=pd.DataFrame(columns=[\"ORF_ID\"])\n",
    "for f in files:\n",
    "    if f.endswith(\".rpkm\"):\n",
    "        sample=f.split(\"_\")[-1].split(\".\")[0]\n",
    "        df2=pd.read_csv(path_arg+f,sep=\"\\t\",skiprows=4)\n",
    "        df2=df2[[\"#Name\",\"FPKM\"]]\n",
    "        #df2.columns=[\"read_id\",sample+\"_FPKM\"]\n",
    "        df2.columns=[\"ORF_ID\",sample]\n",
    "        reg=pd.merge(reg,df2,on=\"ORF_ID\",how=\"outer\")\n",
    "all_FPKM=pd.concat([all_FPKM,reg])\n",
    "all_FPKM[\"sample\"]=all_FPKM[\"ORF_ID\"].str.split(\"|\",expand=True)[6]"
   ]
  },
  {
   "cell_type": "code",
   "execution_count": null,
   "metadata": {},
   "outputs": [],
   "source": [
    "all_FPKM.head()"
   ]
  },
  {
   "cell_type": "code",
   "execution_count": null,
   "metadata": {},
   "outputs": [],
   "source": [
    "all_FPKM.drop(\"sample\",axis=1).to_csv(\"../FPKMs.tsv\",sep=\"\\t\",index=None)"
   ]
  },
  {
   "cell_type": "code",
   "execution_count": null,
   "metadata": {},
   "outputs": [],
   "source": []
  },
  {
   "cell_type": "markdown",
   "metadata": {},
   "source": [
    "### Merging deepARG results with bbmap (FPKM)"
   ]
  },
  {
   "cell_type": "code",
   "execution_count": null,
   "metadata": {},
   "outputs": [],
   "source": [
    "#all_results=pd.merge(deepARG_plas_,all_FPKM,left_on=[\"ORF_ID\",\"sample\"],right_on=[\"read_id\",\"sample\"],how=\"outer\")\n",
    "all_results=pd.merge(deepARG_plas_kaiju,all_FPKM,on=[\"ORF_ID\",\"sample\"],how=\"outer\")\n"
   ]
  },
  {
   "cell_type": "code",
   "execution_count": null,
   "metadata": {},
   "outputs": [],
   "source": [
    "# all_results.drop(\"read_id_x\",axis=1,inplace=True)\n",
    "# all_results.drop(\"read_id_y\",axis=1,inplace=True)"
   ]
  },
  {
   "cell_type": "code",
   "execution_count": null,
   "metadata": {},
   "outputs": [],
   "source": [
    "all_results.to_csv(\"../merged_deepARG_kaiju_plas_FPKM.csv\",index=None,sep=\"\\t\")"
   ]
  },
  {
   "cell_type": "code",
   "execution_count": null,
   "metadata": {},
   "outputs": [],
   "source": [
    "#all_results.head()"
   ]
  },
  {
   "cell_type": "code",
   "execution_count": null,
   "metadata": {},
   "outputs": [],
   "source": [
    "#all_results[all_results[\"#ARG\"]==\"BLA\"]"
   ]
  },
  {
   "cell_type": "code",
   "execution_count": null,
   "metadata": {},
   "outputs": [],
   "source": [
    "#all_results[all_results[\"#ARG\"]==\"MCR-1\"]"
   ]
  },
  {
   "cell_type": "markdown",
   "metadata": {},
   "source": [
    "### Grouping by ARG and sum of FPKMs"
   ]
  },
  {
   "cell_type": "code",
   "execution_count": null,
   "metadata": {},
   "outputs": [],
   "source": [
    "ARGS_FPKM=all_results.groupby([\"#ARG\"])[[x for x in all_results.columns if \"ERR\" in x]].sum()"
   ]
  },
  {
   "cell_type": "code",
   "execution_count": null,
   "metadata": {},
   "outputs": [],
   "source": [
    "len(ARGS_FPKM)"
   ]
  },
  {
   "cell_type": "code",
   "execution_count": null,
   "metadata": {},
   "outputs": [],
   "source": [
    "from  scipy.stats import spearmanr "
   ]
  },
  {
   "cell_type": "code",
   "execution_count": null,
   "metadata": {},
   "outputs": [],
   "source": [
    "ARGS_FPKM.T.head()"
   ]
  },
  {
   "cell_type": "code",
   "execution_count": null,
   "metadata": {},
   "outputs": [],
   "source": [
    "rho,pvalue=spearmanr(ARGS_FPKM.T)\n",
    "pv_df=pd.DataFrame(pvalue)\n",
    "rho_df=pd.DataFrame(rho)\n",
    "corrr=ARGS_FPKM.T.corr(method='spearman')\n",
    "corrr.to_csv(\"../ARGS_FPKM_spearman_corr.tsv\",sep=\"\\t\")"
   ]
  },
  {
   "cell_type": "code",
   "execution_count": null,
   "metadata": {},
   "outputs": [],
   "source": [
    "all_results[[\"#ARG\",\"predicted_ARG-class\"]].to_csv(\"../ARGS_class.tsv\",sep=\"\\t\")"
   ]
  },
  {
   "cell_type": "code",
   "execution_count": null,
   "metadata": {},
   "outputs": [],
   "source": [
    "#ARGS_FPKM.T.corr().to_csv(\"../ARGS_FPKM_corr.tsv\",sep=\"\\t\")"
   ]
  },
  {
   "cell_type": "code",
   "execution_count": null,
   "metadata": {},
   "outputs": [],
   "source": [
    "args_genes_sum=ARGS_FPKM.sum(axis=1)"
   ]
  },
  {
   "cell_type": "code",
   "execution_count": null,
   "metadata": {},
   "outputs": [],
   "source": [
    "plt.figure(figsize=(12,10))\n",
    "args_genes_sum.sort_values(ascending=False)[0:30].plot(kind=\"bar\")\n",
    "plt.ylabel(\"FPKM\")\n",
    "plt.show()"
   ]
  },
  {
   "cell_type": "code",
   "execution_count": null,
   "metadata": {},
   "outputs": [],
   "source": [
    "args_genes_sum_samples=ARGS_FPKM.sum(axis=0)"
   ]
  },
  {
   "cell_type": "code",
   "execution_count": null,
   "metadata": {},
   "outputs": [],
   "source": [
    "gene_FPKM=all_results.groupby([\"#ARG\"])[[x for x in all_results.columns if \"ERR\" in x]].sum()\n",
    "new_gene_FPKM=gene_FPKM.T\n",
    "new_gene_FPKM.reset_index(inplace=True)\n",
    "new_gene_FPKM[\"sample\"]=new_gene_FPKM[\"index\"].str.replace(\"_FPKM\",\"\")\n",
    "new_gene_FPKM.drop(\"index\",axis=1,inplace=True)"
   ]
  },
  {
   "cell_type": "code",
   "execution_count": null,
   "metadata": {},
   "outputs": [],
   "source": [
    "new_gene_FPKM.head()"
   ]
  },
  {
   "cell_type": "code",
   "execution_count": null,
   "metadata": {},
   "outputs": [],
   "source": []
  },
  {
   "cell_type": "markdown",
   "metadata": {},
   "source": [
    "### Grouping by ARG class  and sum of FPKMs"
   ]
  },
  {
   "cell_type": "code",
   "execution_count": null,
   "metadata": {},
   "outputs": [],
   "source": [
    "#here, sum but maybe mean to normalize by number of genes on each class ?\n",
    "\n",
    "class_FPKM=all_results.groupby([\"predicted_ARG-class\"])[[x for x in all_results.columns if \"ERR\" in x]].sum()\n",
    "new_classes_FPKM=class_FPKM.T\n",
    "new_classes_FPKM.reset_index(inplace=True)\n",
    "new_classes_FPKM[\"sample\"]=new_classes_FPKM[\"index\"].str.replace(\"_FPKM\",\"\")\n",
    "new_classes_FPKM.drop(\"index\",axis=1,inplace=True)"
   ]
  },
  {
   "cell_type": "code",
   "execution_count": null,
   "metadata": {},
   "outputs": [],
   "source": [
    "new_classes_FPKM.head()"
   ]
  },
  {
   "cell_type": "code",
   "execution_count": null,
   "metadata": {},
   "outputs": [],
   "source": [
    "plt.figure(figsize=(12,10))\n",
    "class_FPKM.sum(axis=1).sort_values(ascending=False).plot(kind=\"bar\")\n",
    "plt.ylabel(\"FPKM\")\n",
    "plt.show()"
   ]
  },
  {
   "cell_type": "code",
   "execution_count": null,
   "metadata": {},
   "outputs": [],
   "source": [
    "#class_FPKM.sum(axis=1).sort_values(ascending=False)"
   ]
  },
  {
   "cell_type": "markdown",
   "metadata": {},
   "source": [
    "### TARA metadata"
   ]
  },
  {
   "cell_type": "code",
   "execution_count": null,
   "metadata": {},
   "outputs": [],
   "source": [
    "meta=pd.read_csv(\"/beegfs/group_bit/data/projects/departments/Bioinformatics/bit_FLPA/tara/meta.tsv\",sep=\"\\t\")\n",
    "meta_=pd.merge(meta,meta[\"INSDC run accession number(s)\"].str.split(\"|\",expand=True).T.melt().dropna(),left_index=True,right_on=\"variable\")\n",
    "meta2=pd.read_csv(\"/beegfs/group_bit/data/projects/departments/Bioinformatics/bit_FLPA/tara/meta2.tsv\",sep=\"\\t\",decimal=\",\")\n",
    "meta3=pd.merge(meta_,meta2,left_on=\"PANGAEA sample identifier\",right_on=\"PANGAEA Sample ID\")\n",
    "meta4=meta3[[\"Ocean and sea regions (IHO General Sea Areas 1953) [MRGID registered at www.marineregions.com]\",\"value\"]]\n",
    "meta4.columns=[\"Regions\",\"sample\"]"
   ]
  },
  {
   "cell_type": "code",
   "execution_count": null,
   "metadata": {},
   "outputs": [],
   "source": [
    "meta_.rename(columns={\"Marine pelagic biomes (Longhurst 2007)\":\"Biogeographic biomes (Longhurst 2007)\"},inplace=True)\n",
    "meta_.rename(columns={\"Marine pelagic biomes  (Longhurst 2007) [MRGID registered at www.marineregions.com] \":\"Marine provinces  (Longhurst 2007)\"},inplace=True)\n",
    "meta_.drop(\"variable\",axis=1).to_csv(\"../meta_runs.tsv\",sep=\"\\t\",index=None)\n",
    "meta2.to_csv(\"../meta2.tsv\",sep=\"\\t\",index=None)"
   ]
  },
  {
   "cell_type": "code",
   "execution_count": null,
   "metadata": {},
   "outputs": [],
   "source": [
    "# meta_[meta_[\"Sample label [TARA_station#_environmental-feature_size-fraction]\"].str.contains(\"<-0.22\")==True][\"value\"].to_csv(\"../tara/ids_virus.txt\",index=None,header=None)\n",
    "# list_ids=pd.read_table(\"../tara/id.list\",header=None)\n",
    "# list_ids.columns=[\"value\"]\n",
    "# check=meta_[[\"Sample label [TARA_station#_environmental-feature_size-fraction]\",\"value\"]]\n",
    "# #samples_merged=pd.merge(list_ids,check,on=\"value\",how=\"outer\")\n",
    "# #samples_merged"
   ]
  },
  {
   "cell_type": "code",
   "execution_count": null,
   "metadata": {},
   "outputs": [],
   "source": [
    "#meta_.head()"
   ]
  },
  {
   "cell_type": "code",
   "execution_count": null,
   "metadata": {},
   "outputs": [],
   "source": []
  },
  {
   "cell_type": "markdown",
   "metadata": {},
   "source": [
    "### Merging Classes FPKM with info of regions of samples"
   ]
  },
  {
   "cell_type": "code",
   "execution_count": null,
   "metadata": {},
   "outputs": [],
   "source": [
    "new_classes_FPKM=pd.merge(new_classes_FPKM,meta4,on=\"sample\")\n",
    "new_classes_FPKM.set_index([\"sample\",\"Regions\"],inplace=True)\n",
    "new_classes_FPKM.reset_index(inplace=True)"
   ]
  },
  {
   "cell_type": "code",
   "execution_count": null,
   "metadata": {},
   "outputs": [],
   "source": [
    "#new_classes_FPKM.head()"
   ]
  },
  {
   "cell_type": "code",
   "execution_count": null,
   "metadata": {},
   "outputs": [],
   "source": [
    "# the same but for genes instead classes\n",
    "\n",
    "new_gene_FPKM=pd.merge(new_gene_FPKM,meta4,on=\"sample\")\n",
    "new_gene_FPKM.set_index([\"sample\",\"Regions\"],inplace=True)\n",
    "new_gene_FPKM.reset_index(inplace=True)\n"
   ]
  },
  {
   "cell_type": "code",
   "execution_count": null,
   "metadata": {},
   "outputs": [],
   "source": [
    "#new_gene_FPKM.head()"
   ]
  },
  {
   "cell_type": "code",
   "execution_count": null,
   "metadata": {},
   "outputs": [],
   "source": [
    "#new_gene_FPKM"
   ]
  },
  {
   "cell_type": "markdown",
   "metadata": {},
   "source": [
    "### Normalizing the sum of FPKM per number of samples on the region"
   ]
  },
  {
   "cell_type": "code",
   "execution_count": null,
   "metadata": {},
   "outputs": [],
   "source": [
    "new_classes_FPKM_norm_region=new_classes_FPKM.groupby(\"Regions\").mean()"
   ]
  },
  {
   "cell_type": "code",
   "execution_count": null,
   "metadata": {},
   "outputs": [],
   "source": [
    "#new_classes_FPKM_norm_region.head()"
   ]
  },
  {
   "cell_type": "code",
   "execution_count": null,
   "metadata": {},
   "outputs": [],
   "source": [
    "new_gene_FPKM_norm_region=new_gene_FPKM.groupby(\"Regions\").mean()"
   ]
  },
  {
   "cell_type": "code",
   "execution_count": null,
   "metadata": {},
   "outputs": [],
   "source": [
    "#new_gene_FPKM_norm_region.head()"
   ]
  },
  {
   "cell_type": "code",
   "execution_count": null,
   "metadata": {},
   "outputs": [],
   "source": [
    "new_classes_FPKM.set_index(\"sample\",inplace=True)\n",
    "new_gene_FPKM.set_index(\"sample\",inplace=True)"
   ]
  },
  {
   "cell_type": "code",
   "execution_count": null,
   "metadata": {},
   "outputs": [],
   "source": [
    "groups= list(set(new_classes_FPKM[\"Regions\"]))\n",
    "\n",
    "classes=list(set(all_results[\"predicted_ARG-class\"]))\n",
    "\n",
    "genes=list(set(all_results[\"#ARG\"]))"
   ]
  },
  {
   "cell_type": "code",
   "execution_count": null,
   "metadata": {},
   "outputs": [],
   "source": [
    "genes_test=pd.DataFrame()\n",
    "for g in genes:\n",
    "    #print g\n",
    "\n",
    "    f,p=stats.f_oneway(new_gene_FPKM[new_gene_FPKM[\"Regions\"]==groups[0]][g],new_gene_FPKM[new_gene_FPKM[\"Regions\"]==groups[1]][g],new_gene_FPKM[new_gene_FPKM[\"Regions\"]==groups[2]][g],\n",
    "                     new_gene_FPKM[new_gene_FPKM[\"Regions\"]==groups[3]][g],new_gene_FPKM[new_gene_FPKM[\"Regions\"]==groups[4]][g],\n",
    "                    new_gene_FPKM[new_gene_FPKM[\"Regions\"]==groups[5]][g],new_gene_FPKM[new_gene_FPKM[\"Regions\"]==groups[6]][g],\n",
    "                    new_gene_FPKM[new_gene_FPKM[\"Regions\"]==groups[7]][g])\n",
    "    #print f,p \n",
    "    \n",
    "    tmp=pd.DataFrame([g,f,p]).T\n",
    "    tmp.columns=[\"gene\",\"fvalue\",\"pvalue\"]\n",
    "    \n",
    "    genes_test=pd.concat([genes_test,tmp],axis=0)\n",
    "genes_test.reset_index(inplace=True,drop=True)"
   ]
  },
  {
   "cell_type": "code",
   "execution_count": null,
   "metadata": {},
   "outputs": [],
   "source": [
    "genes_test.head()"
   ]
  },
  {
   "cell_type": "code",
   "execution_count": null,
   "metadata": {},
   "outputs": [],
   "source": []
  },
  {
   "cell_type": "code",
   "execution_count": null,
   "metadata": {
    "scrolled": true
   },
   "outputs": [],
   "source": [
    "class_test=pd.DataFrame()\n",
    "\n",
    "for c in classes:\n",
    "    #print c\n",
    "    f,p=stats.f_oneway(new_classes_FPKM[new_classes_FPKM[\"Regions\"]==groups[0]][c],new_classes_FPKM[new_classes_FPKM[\"Regions\"]==groups[1]][c],new_classes_FPKM[new_classes_FPKM[\"Regions\"]==groups[2]][c],\n",
    "                     new_classes_FPKM[new_classes_FPKM[\"Regions\"]==groups[3]][c],new_classes_FPKM[new_classes_FPKM[\"Regions\"]==groups[4]][c],\n",
    "                    new_classes_FPKM[new_classes_FPKM[\"Regions\"]==groups[5]][c],new_classes_FPKM[new_classes_FPKM[\"Regions\"]==groups[6]][c],\n",
    "                    new_classes_FPKM[new_classes_FPKM[\"Regions\"]==groups[7]][c])\n",
    "    #print f,p \n",
    "    tmp=pd.DataFrame([c,f,p]).T\n",
    "    tmp.columns=[\"class\",\"fvalue\",\"pvalue\"]\n",
    "    \n",
    "    class_test=pd.concat([class_test,tmp],axis=0)\n",
    "class_test.reset_index(inplace=True,drop=True)"
   ]
  },
  {
   "cell_type": "code",
   "execution_count": null,
   "metadata": {},
   "outputs": [],
   "source": [
    "class_test.head()"
   ]
  },
  {
   "cell_type": "code",
   "execution_count": null,
   "metadata": {},
   "outputs": [],
   "source": [
    "new_gene_FPKM[\"Regions\"]=new_gene_FPKM[\"Regions\"].str.split(\"[\",expand=True)[0]"
   ]
  },
  {
   "cell_type": "code",
   "execution_count": null,
   "metadata": {},
   "outputs": [],
   "source": [
    "import matplotlib.backends.backend_pdf"
   ]
  },
  {
   "cell_type": "code",
   "execution_count": null,
   "metadata": {
    "scrolled": true
   },
   "outputs": [],
   "source": [
    "pdf = matplotlib.backends.backend_pdf.PdfPages(\"../tukey_genes.pdf\")\n",
    "all_g=pd.DataFrame()\n",
    "for g in genes:\n",
    "    #print g\n",
    "\n",
    "    tukey = pairwise_tukeyhsd(endog=new_gene_FPKM[g],     # Data\n",
    "                              groups=new_gene_FPKM[\"Regions\"],   # Groups\n",
    "                              alpha=0.05)          # Significance level\n",
    "\n",
    "    fig=tukey.plot_simultaneous()    # Plot group confidence intervals\n",
    "    plt.title(g)\n",
    "    plt.tight_layout()\n",
    "    pdf.savefig( fig )\n",
    "    #plt.show()\n",
    "    df=tukey.summary()\n",
    "    res=pd.DataFrame(df.data[1:],columns=df.data[0])\n",
    "    res[\"gene\"]=str(g)\n",
    "    all_g=pd.concat([all_g,res])\n",
    "pdf.close()"
   ]
  },
  {
   "cell_type": "code",
   "execution_count": null,
   "metadata": {},
   "outputs": [],
   "source": [
    "plt.close()"
   ]
  },
  {
   "cell_type": "code",
   "execution_count": null,
   "metadata": {},
   "outputs": [],
   "source": [
    "meta_.columns"
   ]
  },
  {
   "cell_type": "code",
   "execution_count": null,
   "metadata": {},
   "outputs": [],
   "source": [
    "meta5=meta_[[\"value\",\"Marine provinces  (Longhurst 2007)\"]]\n",
    "meta5.columns=[\"sample\",\"region2\"]"
   ]
  },
  {
   "cell_type": "code",
   "execution_count": null,
   "metadata": {},
   "outputs": [],
   "source": [
    "new_gene_FPKM=pd.merge(new_gene_FPKM.reset_index(),meta5,on=\"sample\")\n"
   ]
  },
  {
   "cell_type": "code",
   "execution_count": null,
   "metadata": {
    "scrolled": true
   },
   "outputs": [],
   "source": [
    "plt.figure(figsize=(12,10))\n",
    "sns.boxplot(new_gene_FPKM[\"region2\"],new_gene_FPKM[\"MCR-1\"])\n",
    "plt.xticks(rotation=90)\n",
    "plt.ylabel(\"mean FPKM\")\n",
    "plt.title(\"MCR-1\")\n",
    "plt.show()"
   ]
  },
  {
   "cell_type": "code",
   "execution_count": null,
   "metadata": {
    "scrolled": true
   },
   "outputs": [],
   "source": [
    "pdf = matplotlib.backends.backend_pdf.PdfPages(\"../tukey_class.pdf\")\n",
    "all_c=pd.DataFrame()\n",
    "for c in classes:\n",
    "    #print c\n",
    "\n",
    "    tukey = pairwise_tukeyhsd(endog=new_classes_FPKM[c],     # Data\n",
    "                              groups=new_classes_FPKM[\"Regions\"],   # Groups\n",
    "                              alpha=0.05)          # Significance level\n",
    "\n",
    "    fig=tukey.plot_simultaneous()    # Plot group confidence intervals\n",
    "    plt.title(c)\n",
    "    plt.tight_layout()\n",
    "    pdf.savefig( fig )\n",
    "    #plt.show()\n",
    "    df=tukey.summary()\n",
    "    res=pd.DataFrame(df.data[1:],columns=df.data[0])\n",
    "    res[\"class\"]=str(c)\n",
    "    all_c=pd.concat([all_c,res])\n",
    "pdf.close()"
   ]
  },
  {
   "cell_type": "code",
   "execution_count": null,
   "metadata": {},
   "outputs": [],
   "source": [
    "plt.close()"
   ]
  },
  {
   "cell_type": "code",
   "execution_count": null,
   "metadata": {},
   "outputs": [],
   "source": [
    "all_c.to_excel(\"../tukey_class.xlsx\",index=None)#[all_c[\"reject\"]==True]"
   ]
  },
  {
   "cell_type": "code",
   "execution_count": null,
   "metadata": {},
   "outputs": [],
   "source": [
    "all_g.to_excel(\"../tukey_gene.xlsx\",index=None)#[all_g[\"reject\"]==True]"
   ]
  },
  {
   "cell_type": "code",
   "execution_count": null,
   "metadata": {},
   "outputs": [],
   "source": [
    "all_g[all_g[\"gene\"]==\"MCR-1\"]"
   ]
  },
  {
   "cell_type": "code",
   "execution_count": null,
   "metadata": {},
   "outputs": [],
   "source": [
    "sns.set_style(\"white\")"
   ]
  },
  {
   "cell_type": "code",
   "execution_count": null,
   "metadata": {},
   "outputs": [],
   "source": [
    "olss=new_classes_FPKM.drop(\"Regions\",axis=1).reset_index()"
   ]
  },
  {
   "cell_type": "code",
   "execution_count": null,
   "metadata": {},
   "outputs": [],
   "source": [
    "meta3=meta3.rename(columns = {'value':'sample'})"
   ]
  },
  {
   "cell_type": "code",
   "execution_count": null,
   "metadata": {},
   "outputs": [],
   "source": [
    "#meta_.drop(\"variable\",axis=1,inplace=True)"
   ]
  },
  {
   "cell_type": "code",
   "execution_count": null,
   "metadata": {},
   "outputs": [],
   "source": [
    "ols_=pd.merge(olss,meta3,on=\"sample\")"
   ]
  },
  {
   "cell_type": "code",
   "execution_count": null,
   "metadata": {},
   "outputs": [],
   "source": [
    "ols_.set_index(\"sample\",inplace=True)"
   ]
  },
  {
   "cell_type": "code",
   "execution_count": null,
   "metadata": {},
   "outputs": [],
   "source": [
    "ols_.to_excel(\"../input_for_OLS.xlsx\")"
   ]
  },
  {
   "cell_type": "code",
   "execution_count": null,
   "metadata": {},
   "outputs": [],
   "source": [
    "d=[]\n",
    "for a in ols_.columns:\n",
    "    b=re.sub('[^a-zA-Z0-9 \\n\\.]', '_', a)\n",
    "    c=b.replace(\" \",\"_\")\n",
    "    d.append(c)"
   ]
  },
  {
   "cell_type": "code",
   "execution_count": null,
   "metadata": {},
   "outputs": [],
   "source": [
    "ols_.columns"
   ]
  },
  {
   "cell_type": "code",
   "execution_count": null,
   "metadata": {},
   "outputs": [],
   "source": [
    "ols_.columns=d"
   ]
  },
  {
   "cell_type": "code",
   "execution_count": null,
   "metadata": {},
   "outputs": [],
   "source": [
    "args=[u'aminocoumarin', u'aminoglycoside', u'bacitracin',\n",
    "       u'beta_lactam', u'bleomycin', u'chloramphenicol', u'fosfomycin',\n",
    "       u'fosmidomycin', u'glycopeptide', u'kasugamycin',\n",
    "       u'macrolide_lincosamide_streptogramin', u'multidrug',\n",
    "       u'multidrug_mutation', u'mupirocin', u'peptide', u'pleuromutilin',\n",
    "       u'polymyxin', u'puromycin', u'qa_compound', u'quinolone', u'rifampin',\n",
    "       u'streptothricin', u'sulfonamide', u'tetracenomycin', u'tetracycline',\n",
    "       u'thiostrepton', u'triclosan', u'trimethoprim']"
   ]
  },
  {
   "cell_type": "code",
   "execution_count": null,
   "metadata": {},
   "outputs": [],
   "source": [
    "form=[x for x in ols_.columns if x not in args]"
   ]
  },
  {
   "cell_type": "code",
   "execution_count": null,
   "metadata": {},
   "outputs": [],
   "source": [
    "\n"
   ]
  },
  {
   "cell_type": "code",
   "execution_count": null,
   "metadata": {},
   "outputs": [],
   "source": [
    "#formula1=\"+\".join(form)"
   ]
  },
  {
   "cell_type": "code",
   "execution_count": null,
   "metadata": {},
   "outputs": [],
   "source": [
    "formula1=\"NO2__umol_L___+PO4__umol_L___+NO2NO3__umol_L___+SI__umol_L___+Sampling_depth__m_+Environmental_Feature+(Latitude__degrees_North_:Longitude__degrees_East_)+Size_fraction_lower_threshold__micrometre_+Size_fraction_upper_threshold__micrometre_\""
   ]
  },
  {
   "cell_type": "code",
   "execution_count": null,
   "metadata": {},
   "outputs": [],
   "source": [
    "ols_.head()"
   ]
  },
  {
   "cell_type": "code",
   "execution_count": null,
   "metadata": {},
   "outputs": [],
   "source": [
    "from statsmodels.formula.api import ols"
   ]
  },
  {
   "cell_type": "code",
   "execution_count": null,
   "metadata": {},
   "outputs": [],
   "source": [
    "# OLS with all the metadata \n",
    "reg3 = pd.DataFrame()\n",
    "reg3_ = pd.DataFrame()\n",
    "\n",
    "for ar in args:\n",
    "    formula=\"%s ~ \"%(ar) + formula1\n",
    "    res = ols(formula, ols_).fit()\n",
    "    dfres={\"coeficient\":res.params,\"p values\":res.pvalues}\n",
    "    ddd=pd.DataFrame(dfres)\n",
    "    ddd[\"coeficient\"]=ddd[\"coeficient\"].apply(lambda x: \"%.4f\" % (x))\n",
    "    ddd[\"variable\"]=ar\n",
    "    ddd[\"Formula\"] = formula\n",
    "    ddd[\"model p value\"]=res.f_pvalue\n",
    "    ddd[\"model Adjusted r squared\"]=res.rsquared_adj\n",
    "    ddd[\"r squared\"]=res.rsquared\n",
    "    #final result of OLS\n",
    "    reg3=pd.concat([reg3,ddd],axis=0)\n",
    "    \n",
    "    reg3_ = reg3[reg3[\"p values\"] < 0.05] \n",
    "    reg3_[\"coeficient\"]=reg3_[\"coeficient\"].astype(float)\n",
    "    reg3_ = reg3_.sort_values(by=[\"coeficient\"],ascending=False)"
   ]
  },
  {
   "cell_type": "code",
   "execution_count": null,
   "metadata": {},
   "outputs": [],
   "source": [
    "reg3.head()"
   ]
  },
  {
   "cell_type": "code",
   "execution_count": null,
   "metadata": {},
   "outputs": [],
   "source": [
    "reg3.to_excel(\"../ARGs_OLS.xlsx\")"
   ]
  },
  {
   "cell_type": "code",
   "execution_count": null,
   "metadata": {},
   "outputs": [],
   "source": []
  },
  {
   "cell_type": "code",
   "execution_count": null,
   "metadata": {},
   "outputs": [],
   "source": [
    "########## RE-STARTING ---  PCA and OLS with custom formulas"
   ]
  },
  {
   "cell_type": "code",
   "execution_count": null,
   "metadata": {},
   "outputs": [],
   "source": [
    "new_classes_FPKM.head()"
   ]
  },
  {
   "cell_type": "code",
   "execution_count": null,
   "metadata": {},
   "outputs": [],
   "source": [
    "pcadf=new_classes_FPKM.reset_index()"
   ]
  },
  {
   "cell_type": "code",
   "execution_count": null,
   "metadata": {},
   "outputs": [],
   "source": [
    "pcadf.head()"
   ]
  },
  {
   "cell_type": "code",
   "execution_count": null,
   "metadata": {},
   "outputs": [],
   "source": [
    "#meta3.columns"
   ]
  },
  {
   "cell_type": "code",
   "execution_count": null,
   "metadata": {},
   "outputs": [],
   "source": [
    "meta_.columns"
   ]
  },
  {
   "cell_type": "code",
   "execution_count": null,
   "metadata": {},
   "outputs": [],
   "source": [
    "to_clust=meta_[[\"value\",\"Environmental Feature\",\"Size fraction lower threshold [micrometre]\",\n",
    "       u'Size fraction upper threshold [micrometre]',\"Biogeographic biomes (Longhurst 2007)\"]]\n",
    "to_clust.rename(columns={\"value\":\"sample\"},inplace=True)"
   ]
  },
  {
   "cell_type": "code",
   "execution_count": null,
   "metadata": {},
   "outputs": [],
   "source": [
    "pcadf.columns"
   ]
  },
  {
   "cell_type": "code",
   "execution_count": null,
   "metadata": {},
   "outputs": [],
   "source": [
    "pcadf=pd.merge(pcadf,to_clust,on=\"sample\")"
   ]
  },
  {
   "cell_type": "code",
   "execution_count": null,
   "metadata": {},
   "outputs": [],
   "source": [
    "pcadf.head()"
   ]
  },
  {
   "cell_type": "code",
   "execution_count": null,
   "metadata": {},
   "outputs": [],
   "source": [
    "pcadf.set_index([\"sample\",\"Regions\",\"Environmental Feature\",\"Size fraction lower threshold [micrometre]\",\n",
    "       u'Size fraction upper threshold [micrometre]',\"Biogeographic biomes (Longhurst 2007)\"],inplace=True)"
   ]
  },
  {
   "cell_type": "code",
   "execution_count": null,
   "metadata": {},
   "outputs": [],
   "source": []
  },
  {
   "cell_type": "code",
   "execution_count": null,
   "metadata": {},
   "outputs": [],
   "source": [
    "###  normalize ARG class by number of genes ?? \n",
    "\n",
    "\n",
    "# feat=pd.read_table(\"/beegfs/group_bit/data/projects/departments/Bioinformatics/bit_FLPA/scripts.RCuadrat/deeparg-ss/database/features.gene.length\",header=None)\n",
    "# feat=feat[0].str.split(\"|\",expand=True)\n",
    "# feat=feat.groupby(3)[0].count()\n",
    "# feat=pd.DataFrame(feat)\n",
    "# feat.reset_index(inplace=True)\n",
    "\n",
    "###\n"
   ]
  },
  {
   "cell_type": "code",
   "execution_count": null,
   "metadata": {
    "scrolled": true
   },
   "outputs": [],
   "source": [
    "pca = PCA(n_components=2)\n",
    "\n",
    "##\n",
    "\n",
    "\n",
    "pcadf_scaled = preprocessing.scale(pcadf)\n",
    "projected=pca.fit_transform(pcadf_scaled)\n",
    "###\n",
    "PCA(copy=True, iterated_power='auto', n_components=2, random_state=None,\n",
    "  svd_solver='auto', tol=0.0, whiten=False)\n",
    "print(pca.explained_variance_ratio_)\n",
    "\n",
    "\n",
    "aaa=pd.merge(pcadf.reset_index(),pd.DataFrame(projected),left_index=True,right_index=True)\n",
    "\n",
    "aaa=aaa.rename(columns = {0:\"0\",1:\"1\"})\n",
    "\n",
    "    \n",
    "sns.set_style(\"white\")\n",
    "color_gen = cycle(('blue', 'lightblue','darkblue','green','lightgreen','darkgreen', 'red','darkred', 'purple', 'gray','darkgray', 'cyan','black','pink','yellow','lightgray'))\n",
    "plt.figure(figsize=(15,15))\n",
    "for lab in set(aaa[\"Regions\"]):\n",
    "    plt.scatter(aaa.loc[aaa[\"Regions\"] == lab, '0'], \n",
    "                aaa.loc[aaa[\"Regions\"] == lab, '1'], \n",
    "                c=next(color_gen),\n",
    "                label=lab)\n",
    "plt.xlabel('component 1  - ' + str(pca.explained_variance_ratio_[0]*100)+ \" % \" )\n",
    "plt.ylabel('component 2  - '+ str(pca.explained_variance_ratio_[1]*100)+ \"  % \" )\n",
    "plt.legend(loc=2)\n",
    "plt.show()\n",
    "\n",
    "\n",
    "\n",
    "cg=sns.clustermap(pcadf.reset_index().drop([\"Size fraction lower threshold [micrometre]\",\n",
    "       \"Size fraction upper threshold [micrometre]\"],axis=1).set_index([\"sample\",\"Regions\",\"Biogeographic biomes (Longhurst 2007)\",\"Environmental Feature\"]),figsize=(10,55))\n",
    "plt.setp(cg.ax_heatmap.yaxis.get_majorticklabels(), rotation=0)\n",
    "plt.show()\n",
    "\n",
    "\n",
    "\n",
    "heat=pcadf.apply(lambda x: np.log10(x+0.001))\n",
    "\n",
    "\n",
    "\n",
    "cg=sns.clustermap(heat,figsize=(12,65))\n",
    "plt.setp(cg.ax_heatmap.yaxis.get_majorticklabels(), rotation=0)\n",
    "plt.show()"
   ]
  },
  {
   "cell_type": "code",
   "execution_count": null,
   "metadata": {},
   "outputs": [],
   "source": [
    "#aaa"
   ]
  },
  {
   "cell_type": "code",
   "execution_count": null,
   "metadata": {},
   "outputs": [],
   "source": [
    "aaa[\"fraction\"]=aaa[\"Size fraction lower threshold [micrometre]\"].astype(str)+\"-\"+aaa[\"Size fraction upper threshold [micrometre]\"].astype(str)"
   ]
  },
  {
   "cell_type": "code",
   "execution_count": null,
   "metadata": {},
   "outputs": [],
   "source": [
    "hue=\"fraction\"\n",
    "sns.lmplot(\"0\",\"1\",data=aaa,hue=hue,size=10,fit_reg=False)\n",
    "plt.xlabel('component 1')\n",
    "plt.ylabel('component 2')\n",
    "#plt.colorbar();\n",
    "\n",
    "plt.show()"
   ]
  },
  {
   "cell_type": "code",
   "execution_count": null,
   "metadata": {},
   "outputs": [],
   "source": [
    "hue=\"Environmental Feature\"\n",
    "sns.lmplot(\"0\",\"1\",data=aaa,hue=hue,size=10,fit_reg=False)\n",
    "plt.xlabel('component 1')\n",
    "plt.ylabel('component 2')\n",
    "#plt.colorbar();\n",
    "\n",
    "plt.show()"
   ]
  },
  {
   "cell_type": "code",
   "execution_count": null,
   "metadata": {},
   "outputs": [],
   "source": [
    "hue=\"Regions\"\n",
    "sns.lmplot(\"0\",\"1\",data=aaa,hue=hue,size=10,fit_reg=False)\n",
    "plt.xlabel('component 1')\n",
    "plt.ylabel('component 2')\n",
    "#plt.colorbar();\n",
    "\n",
    "plt.show()"
   ]
  },
  {
   "cell_type": "code",
   "execution_count": null,
   "metadata": {
    "scrolled": false
   },
   "outputs": [],
   "source": [
    "\n",
    "\n",
    "hue=\"Biogeographic biomes (Longhurst 2007)\"\n",
    "sns.lmplot(\"0\",\"1\",data=aaa,hue=hue,size=10,fit_reg=False)\n",
    "plt.xlabel('component 1')\n",
    "plt.ylabel('component 2')\n",
    "#plt.colorbar();\n",
    "\n",
    "plt.show()"
   ]
  },
  {
   "cell_type": "code",
   "execution_count": null,
   "metadata": {},
   "outputs": [],
   "source": [
    "# heat=beta.apply(lambda x: np.log10(x+0.001))\n",
    "# cg=sns.clustermap(beta,figsize=(10,50))\n",
    "# plt.setp(cg.ax_heatmap.yaxis.get_majorticklabels(), rotation=0)\n",
    "# plt.show()\n",
    "# cg=sns.clustermap(heat,figsize=(10,50))\n",
    "# plt.setp(cg.ax_heatmap.yaxis.get_majorticklabels(), rotation=0)\n",
    "# plt.show()"
   ]
  },
  {
   "cell_type": "code",
   "execution_count": null,
   "metadata": {},
   "outputs": [],
   "source": [
    "bbb=aaa.groupby(\"fraction\").mean().drop([\"Size fraction upper threshold [micrometre]\",\"0\",\"1\"],axis=1)"
   ]
  },
  {
   "cell_type": "code",
   "execution_count": null,
   "metadata": {},
   "outputs": [],
   "source": [
    "bbb.columns"
   ]
  },
  {
   "cell_type": "code",
   "execution_count": null,
   "metadata": {},
   "outputs": [],
   "source": [
    "aaa.head()"
   ]
  },
  {
   "cell_type": "code",
   "execution_count": null,
   "metadata": {},
   "outputs": [],
   "source": [
    "\n",
    "\n",
    "\n"
   ]
  },
  {
   "cell_type": "code",
   "execution_count": null,
   "metadata": {
    "scrolled": true
   },
   "outputs": [],
   "source": [
    "pdf = matplotlib.backends.backend_pdf.PdfPages(\"../ARGS_regions.pdf\")\n",
    "for arg in bbb.columns:\n",
    "    fig=plt.figure(figsize=(15,10))\n",
    "    sns.violinplot(aaa[\"Regions\"],aaa[arg])\n",
    "    plt.xticks(rotation=\"vertical\")\n",
    "    plt.title(arg)\n",
    "    plt.tight_layout()\n",
    "    pdf.savefig( fig )\n",
    "    #plt.show()\n",
    "pdf.close()"
   ]
  },
  {
   "cell_type": "code",
   "execution_count": null,
   "metadata": {
    "scrolled": true
   },
   "outputs": [],
   "source": [
    "pdf = matplotlib.backends.backend_pdf.PdfPages(\"../ARGS_filter_min.pdf\")\n",
    "for arg in bbb.columns:\n",
    "    fig=plt.figure(figsize=(10,10))\n",
    "    sns.violinplot(aaa[\"Size fraction lower threshold [micrometre]\"],aaa[arg])\n",
    "    plt.title(arg)\n",
    "    plt.tight_layout()\n",
    "    pdf.savefig( fig )\n",
    "    #plt.show()\n",
    "pdf.close()"
   ]
  },
  {
   "cell_type": "code",
   "execution_count": null,
   "metadata": {
    "scrolled": true
   },
   "outputs": [],
   "source": [
    "#pdf = matplotlib.backends.backend_pdf.PdfPages(\"../ARGS_filter_min.pdf\")\n",
    "for arg in bbb.columns:\n",
    "    fig=plt.figure(figsize=(10,10))\n",
    "    sns.boxplot(aaa[\"Size fraction lower threshold [micrometre]\"],aaa[arg])\n",
    "    plt.title(arg)\n",
    "    plt.tight_layout()\n",
    "    #pdf.savefig( fig )\n",
    "    plt.show()\n",
    "pdf.close()"
   ]
  },
  {
   "cell_type": "code",
   "execution_count": null,
   "metadata": {},
   "outputs": [],
   "source": [
    "pdf = matplotlib.backends.backend_pdf.PdfPages(\"../ARGS_feature.pdf\")\n",
    "for arg in bbb.columns:\n",
    "    fig=plt.figure(figsize=(15,10))\n",
    "    sns.violinplot(aaa[\"Environmental Feature\"],aaa[arg])\n",
    "    plt.title(arg)\n",
    "    plt.xticks(rotation=\"vertical\")\n",
    "    plt.tight_layout()\n",
    "    pdf.savefig( fig )\n",
    "    #plt.show()\n",
    "pdf.close()"
   ]
  },
  {
   "cell_type": "code",
   "execution_count": null,
   "metadata": {
    "scrolled": true
   },
   "outputs": [],
   "source": [
    "pdf = matplotlib.backends.backend_pdf.PdfPages(\"../ARGS_biomes.pdf\")\n",
    "for arg in bbb.columns:\n",
    "    fig=plt.figure(figsize=(15,10))\n",
    "    sns.violinplot(aaa[\"Biogeographic biomes (Longhurst 2007)\"],aaa[arg])\n",
    "    plt.title(arg)\n",
    "    plt.xticks(rotation=\"vertical\")\n",
    "    plt.tight_layout()\n",
    "    pdf.savefig( fig )\n",
    "    #plt.show()\n",
    "pdf.close()"
   ]
  },
  {
   "cell_type": "code",
   "execution_count": null,
   "metadata": {},
   "outputs": [],
   "source": [
    "meta3.head()"
   ]
  },
  {
   "cell_type": "code",
   "execution_count": null,
   "metadata": {},
   "outputs": [],
   "source": [
    "new_classes_FPKM_norm_region.mean(axis=1).sort_values(ascending=False)"
   ]
  },
  {
   "cell_type": "code",
   "execution_count": null,
   "metadata": {},
   "outputs": [],
   "source": [
    "# RNA "
   ]
  },
  {
   "cell_type": "code",
   "execution_count": null,
   "metadata": {},
   "outputs": [],
   "source": [
    "rna_samples=pd.read_table(\"../lists/PRJEB6608_RNA_TARA.txt\")"
   ]
  },
  {
   "cell_type": "code",
   "execution_count": null,
   "metadata": {},
   "outputs": [],
   "source": [
    "rna_samples[\"run_accession\"].to_csv(\"../rna_list_proc.list\",header=None,index=None)"
   ]
  },
  {
   "cell_type": "code",
   "execution_count": null,
   "metadata": {},
   "outputs": [],
   "source": [
    "rna_samples[\"fastq_ftp\"].str.split(\";\",expand=True).melt()[\"value\"].to_csv(\"../wget_rna_list_proc.list\",header=None,index=None)"
   ]
  },
  {
   "cell_type": "code",
   "execution_count": null,
   "metadata": {},
   "outputs": [],
   "source": [
    "path_rna=\"../tara_rna_seq_bbmap_out/\"\n",
    "\n",
    "\n",
    "files  = os.listdir(path_rna)\n",
    "all_FPKM_RNA=pd.DataFrame()\n",
    "reg=pd.DataFrame(columns=[\"read_id\"])\n",
    "for f in files:\n",
    "    if f.endswith(\".rpkm\"):\n",
    "        sample=f.split(\"_\")[-1].split(\".\")[0]\n",
    "        df2=pd.read_csv(path_rna+f,sep=\"\\t\",skiprows=4)\n",
    "        df2=df2[[\"#Name\",\"FPKM\"]]\n",
    "        df2.columns=[\"read_id\",sample+\"_FPKM_RNA\"]\n",
    "        reg=pd.merge(reg,df2,on=\"read_id\",how=\"outer\")\n",
    "all_FPKM_RNA=pd.concat([all_FPKM_RNA,reg])\n",
    "#all_FPKM_RNA[\"sample\"]=all_FPKM_RNA[\"read_id\"].str.split(\"|\",expand=True)[6]"
   ]
  },
  {
   "cell_type": "code",
   "execution_count": null,
   "metadata": {},
   "outputs": [],
   "source": [
    "len(all_FPKM_RNA)"
   ]
  },
  {
   "cell_type": "code",
   "execution_count": null,
   "metadata": {},
   "outputs": [],
   "source": [
    "all_FPKM_RNA.rename(columns={\"read_id\":\"ORF_ID\"},inplace=True)"
   ]
  },
  {
   "cell_type": "code",
   "execution_count": null,
   "metadata": {},
   "outputs": [],
   "source": [
    "all_FPKM_RNA.head()"
   ]
  },
  {
   "cell_type": "code",
   "execution_count": null,
   "metadata": {},
   "outputs": [],
   "source": [
    "rna_merged=pd.merge(all_FPKM_RNA,deepARG_plas_kaiju,on=\"ORF_ID\")"
   ]
  },
  {
   "cell_type": "code",
   "execution_count": null,
   "metadata": {},
   "outputs": [],
   "source": [
    "rna_merged.columns"
   ]
  },
  {
   "cell_type": "code",
   "execution_count": null,
   "metadata": {},
   "outputs": [],
   "source": [
    "express=pd.DataFrame(all_FPKM_RNA.set_index(\"ORF_ID\").sum(axis=1)).reset_index()"
   ]
  },
  {
   "cell_type": "code",
   "execution_count": null,
   "metadata": {},
   "outputs": [],
   "source": [
    "express['expressed'] = np.where(express[0]>5, 'yes', 'no')\n"
   ]
  },
  {
   "cell_type": "code",
   "execution_count": null,
   "metadata": {},
   "outputs": [],
   "source": [
    "deepARG_plas_kaiju_rna=pd.merge(deepARG_plas_kaiju,express[[\"ORF_ID\",\"expressed\"]],how=\"left\",on=\"ORF_ID\")"
   ]
  },
  {
   "cell_type": "code",
   "execution_count": null,
   "metadata": {},
   "outputs": [],
   "source": [
    "deepARG_plas_kaiju_rna.to_csv(\"../deepARG_plas_kaiju_RNA.tsv\",sep=\"\\t\",index=None)"
   ]
  },
  {
   "cell_type": "code",
   "execution_count": null,
   "metadata": {},
   "outputs": [],
   "source": [
    "len(deepARG_plas_kaiju_rna[deepARG_plas_kaiju_rna[\"expressed\"]==\"yes\"])"
   ]
  },
  {
   "cell_type": "code",
   "execution_count": null,
   "metadata": {},
   "outputs": [],
   "source": [
    "#rna_merged[rna_merged[\"#ARG\"]==\"MCR-1\"]"
   ]
  },
  {
   "cell_type": "code",
   "execution_count": null,
   "metadata": {},
   "outputs": [],
   "source": [
    "pangea=pd.read_table(\"../TSV/all_samples_tara_pangea.tsv\")"
   ]
  },
  {
   "cell_type": "code",
   "execution_count": null,
   "metadata": {},
   "outputs": [],
   "source": [
    "classes=list(new_classes_FPKM.drop(\"Regions\",axis=1).columns)"
   ]
  },
  {
   "cell_type": "code",
   "execution_count": null,
   "metadata": {},
   "outputs": [],
   "source": [
    "coordinates=meta_[[\"value\",\"Latitude [degrees North]\",\"Longitude [degrees East]\"]]\n",
    "coordinates.rename(columns={\"value\":\"sample\"},inplace=True)\n",
    "for c in classes:\n",
    "    tmp=new_classes_FPKM.reset_index()[[\"sample\",c]]\n",
    "    maps=pd.merge(coordinates,tmp,on=\"sample\")\n",
    "    sum_maps=pd.DataFrame(maps.groupby([\"Latitude [degrees North]\",\"Longitude [degrees East]\"]).mean()).reset_index()\n",
    "    #sum_maps[\"log\"]=sum_maps[c].apply(lambda x:np.log2(x))"
   ]
  },
  {
   "cell_type": "code",
   "execution_count": null,
   "metadata": {},
   "outputs": [],
   "source": [
    "sum_maps.head()"
   ]
  },
  {
   "cell_type": "code",
   "execution_count": null,
   "metadata": {},
   "outputs": [],
   "source": [
    "test_map=pd.merge(meta_[[\"value\",\"Latitude [degrees North]\",\"Longitude [degrees East]\"]],new_classes_FPKM.reset_index()[[\"sample\",\"bacitracin\"]],left_on=\"value\",right_on=\"sample\")\n",
    "test_map.drop(\"value\",axis=1,inplace=True)\n",
    "test_map2=test_map.groupby([\"Latitude [degrees North]\",\"Longitude [degrees East]\"]).sum()"
   ]
  },
  {
   "cell_type": "code",
   "execution_count": null,
   "metadata": {
    "scrolled": false
   },
   "outputs": [],
   "source": [
    "#meta_"
   ]
  },
  {
   "cell_type": "code",
   "execution_count": null,
   "metadata": {},
   "outputs": [],
   "source": [
    "classes2=['aminocoumarin',\n",
    " 'aminoglycoside']"
   ]
  },
  {
   "cell_type": "code",
   "execution_count": null,
   "metadata": {},
   "outputs": [],
   "source": [
    "import plotly \n",
    "plotly.tools.set_credentials_file(username='rcuadrat', api_key='EzyJZPUCHBkoIAc69ywY')"
   ]
  },
  {
   "cell_type": "code",
   "execution_count": null,
   "metadata": {},
   "outputs": [],
   "source": [
    "new_gene_FPKM.head()"
   ]
  },
  {
   "cell_type": "code",
   "execution_count": null,
   "metadata": {},
   "outputs": [],
   "source": []
  },
  {
   "cell_type": "code",
   "execution_count": null,
   "metadata": {},
   "outputs": [],
   "source": [
    "coordinates=meta_[[\"value\",\"Latitude [degrees North]\",\"Longitude [degrees East]\"]]\n",
    "coordinates.rename(columns={\"value\":\"sample\"},inplace=True)\n",
    "#for c in classes2:\n",
    "c=\"MCR-1\"\n",
    "tmp=new_gene_FPKM.reset_index()[[\"sample\",c]]\n",
    "maps=pd.merge(coordinates,tmp,on=\"sample\")\n",
    "sum_maps=pd.DataFrame(maps.groupby([\"Latitude [degrees North]\",\"Longitude [degrees East]\"]).mean()).reset_index()\n",
    "\n",
    "df=sum_maps\n",
    "#df = pd.read_csv('https://raw.githubusercontent.com/plotly/datasets/master/2015_06_30_precipitation.csv')\n",
    "scaler = MinMaxScaler()\n",
    "\n",
    "#df[\"scal\"]=scaler.fit_transform(df[[c]])\n",
    "df[\"scal\"]=df[[c]]\n",
    "scl = [0,\"rgb(150,0,90)\"],[0.125,\"rgb(0, 0, 200)\"],[0.25,\"rgb(0, 25, 255)\"],\\\n",
    "[0.375,\"rgb(0, 152, 255)\"],[0.5,\"rgb(44, 255, 150)\"],[0.625,\"rgb(151, 255, 0)\"],\\\n",
    "[0.75,\"rgb(255, 234, 0)\"],[0.875,\"rgb(255, 111, 0)\"],[1,\"rgb(255, 0, 0)\"]\n",
    "\n",
    "#sizeref_ = 2. * df[c].max() / (10 ** 2)\n",
    "\n",
    "\n",
    "data = [ dict(\n",
    "    lat = df[\"Latitude [degrees North]\"],\n",
    "    lon = df[\"Longitude [degrees East]\"],\n",
    "    #text = df['Globvalue'].astype(str) + ' inches',\n",
    "    marker = dict(\n",
    "        color = \"blue\",\n",
    "        colorscale = scl,\n",
    "        reversescale = True,\n",
    "        opacity = 0.7,\n",
    "        size = df[\"scal\"]/100,\n",
    "\n",
    " #       colorbar = dict(\n",
    " #           thickness = 10,\n",
    " #           titleside = \"right\",\n",
    " #           outlinecolor = \"rgba(68, 68, 68, 0)\",\n",
    " #           ticks = \"outside\",\n",
    " #           ticklen = 3,\n",
    " #           showticksuffix = \"last\",\n",
    " #           ticksuffix = \" \",\n",
    " #           dtick = 0.1\n",
    "  #      ),\n",
    "    ),\n",
    "    type = 'scattergeo'\n",
    ") ]\n",
    "\n",
    "layout = dict(\n",
    "        #width=1000,\n",
    "        #height=500,\n",
    "    geo = dict(\n",
    "        scope = 'world',\n",
    "        showland = True,\n",
    "        landcolor = \"rgb(212, 212, 212)\",\n",
    "        subunitcolor = \"rgb(255, 255, 255)\",\n",
    "        countrycolor = \"rgb(255, 255, 255)\",\n",
    "        showlakes = True,\n",
    "        #showrivers= True,\n",
    "        lakecolor = \"rgb(255, 255, 255)\",\n",
    "        showsubunits = True,\n",
    "        showcountries = True,\n",
    "        showocean = True,\n",
    "        oceancolor= '#1F71E0',\n",
    "        resolution = 50,\n",
    "\n",
    "        projection = dict(\n",
    "            type = 'equirectangular',\n",
    "            rotation = dict(\n",
    "                lon = 0\n",
    "            )\n",
    "        ),\n",
    "        lonaxis = dict(\n",
    "            #showgrid = True,\n",
    "            gridwidth = 0.5,\n",
    "            range= [ -180.0, 180.0 ],\n",
    "            dtick = 5\n",
    "        ),\n",
    "        lataxis = dict (\n",
    "            #showgrid = True,\n",
    "            gridwidth = 0.5,\n",
    "            range= [ -90,90 ],\n",
    "            dtick = 5\n",
    "        )\n",
    "    ),\n",
    "    title = str(c),\n",
    ")\n",
    "\n",
    "\n",
    "fig = { 'data':data, 'layout':layout }\n",
    "plotly.plotly.iplot(fig, filename=c)"
   ]
  },
  {
   "cell_type": "code",
   "execution_count": null,
   "metadata": {},
   "outputs": [],
   "source": []
  }
 ],
 "metadata": {
  "kernelspec": {
   "display_name": "Python 2",
   "language": "python",
   "name": "python2"
  },
  "language_info": {
   "codemirror_mode": {
    "name": "ipython",
    "version": 2
   },
   "file_extension": ".py",
   "mimetype": "text/x-python",
   "name": "python",
   "nbconvert_exporter": "python",
   "pygments_lexer": "ipython2",
   "version": "2.7.12"
  }
 },
 "nbformat": 4,
 "nbformat_minor": 2
}
